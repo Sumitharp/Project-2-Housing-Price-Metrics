{
 "cells": [
  {
   "cell_type": "code",
   "execution_count": 3,
   "metadata": {},
   "outputs": [
    {
     "name": "stderr",
     "output_type": "stream",
     "text": [
      "\n",
      "Bad key \"text.kerning_factor\" on line 4 in\n",
      "C:\\Users\\Joanne\\anaconda3\\envs\\dev\\lib\\site-packages\\matplotlib\\mpl-data\\stylelib\\_classic_test_patch.mplstyle.\n",
      "You probably need to get an updated matplotlibrc file from\n",
      "http://github.com/matplotlib/matplotlib/blob/master/matplotlibrc.template\n",
      "or from the matplotlib source distribution\n"
     ]
    }
   ],
   "source": [
    "# Import libary and dependencies\n",
    "import tensorflow as tf\n",
    "from tensorflow import keras\n",
    "from tensorflow.keras import layers\n",
    "import pandas as pd\n",
    "import numpy as np\n",
    "import matplotlib.pyplot as plt\n",
    "import seaborn as sns"
   ]
  },
  {
   "cell_type": "code",
   "execution_count": 4,
   "metadata": {},
   "outputs": [
    {
     "data": {
      "text/html": [
       "<div>\n",
       "<style scoped>\n",
       "    .dataframe tbody tr th:only-of-type {\n",
       "        vertical-align: middle;\n",
       "    }\n",
       "\n",
       "    .dataframe tbody tr th {\n",
       "        vertical-align: top;\n",
       "    }\n",
       "\n",
       "    .dataframe thead th {\n",
       "        text-align: right;\n",
       "    }\n",
       "</style>\n",
       "<table border=\"1\" class=\"dataframe\">\n",
       "  <thead>\n",
       "    <tr style=\"text-align: right;\">\n",
       "      <th></th>\n",
       "      <th>Status</th>\n",
       "      <th>ZipCode</th>\n",
       "      <th>City</th>\n",
       "      <th>Price</th>\n",
       "      <th>Days_on_market</th>\n",
       "      <th>Beds</th>\n",
       "      <th>Baths</th>\n",
       "      <th>Sqft</th>\n",
       "      <th>Date</th>\n",
       "      <th>Acres</th>\n",
       "      <th>Lot_sqft</th>\n",
       "      <th>Liv_index</th>\n",
       "    </tr>\n",
       "  </thead>\n",
       "  <tbody>\n",
       "    <tr>\n",
       "      <th>0</th>\n",
       "      <td>A</td>\n",
       "      <td>98001</td>\n",
       "      <td>Auburn</td>\n",
       "      <td>725000</td>\n",
       "      <td>4</td>\n",
       "      <td>3</td>\n",
       "      <td>0.00</td>\n",
       "      <td>3060</td>\n",
       "      <td>5/26/2021</td>\n",
       "      <td>0.227</td>\n",
       "      <td>9894</td>\n",
       "      <td>68</td>\n",
       "    </tr>\n",
       "    <tr>\n",
       "      <th>1</th>\n",
       "      <td>A</td>\n",
       "      <td>98001</td>\n",
       "      <td>Auburn</td>\n",
       "      <td>300000</td>\n",
       "      <td>4</td>\n",
       "      <td>2</td>\n",
       "      <td>1.00</td>\n",
       "      <td>920</td>\n",
       "      <td>5/26/2021</td>\n",
       "      <td>0.164</td>\n",
       "      <td>7150</td>\n",
       "      <td>68</td>\n",
       "    </tr>\n",
       "    <tr>\n",
       "      <th>2</th>\n",
       "      <td>S</td>\n",
       "      <td>98001</td>\n",
       "      <td>Auburn</td>\n",
       "      <td>555000</td>\n",
       "      <td>3</td>\n",
       "      <td>2</td>\n",
       "      <td>1.00</td>\n",
       "      <td>1196</td>\n",
       "      <td>5/7/2021</td>\n",
       "      <td>0.544</td>\n",
       "      <td>23689</td>\n",
       "      <td>68</td>\n",
       "    </tr>\n",
       "    <tr>\n",
       "      <th>3</th>\n",
       "      <td>A</td>\n",
       "      <td>98001</td>\n",
       "      <td>Auburn</td>\n",
       "      <td>1300000</td>\n",
       "      <td>220</td>\n",
       "      <td>4</td>\n",
       "      <td>1.75</td>\n",
       "      <td>2850</td>\n",
       "      <td>10/22/2020</td>\n",
       "      <td>6.000</td>\n",
       "      <td>261360</td>\n",
       "      <td>68</td>\n",
       "    </tr>\n",
       "    <tr>\n",
       "      <th>4</th>\n",
       "      <td>S</td>\n",
       "      <td>98001</td>\n",
       "      <td>Auburn</td>\n",
       "      <td>250000</td>\n",
       "      <td>46</td>\n",
       "      <td>2</td>\n",
       "      <td>1.50</td>\n",
       "      <td>1200</td>\n",
       "      <td>5/20/2021</td>\n",
       "      <td>0.220</td>\n",
       "      <td>9600</td>\n",
       "      <td>68</td>\n",
       "    </tr>\n",
       "  </tbody>\n",
       "</table>\n",
       "</div>"
      ],
      "text/plain": [
       "  Status  ZipCode    City    Price  Days_on_market  Beds  Baths  Sqft  \\\n",
       "0      A    98001  Auburn   725000               4     3   0.00  3060   \n",
       "1      A    98001  Auburn   300000               4     2   1.00   920   \n",
       "2      S    98001  Auburn   555000               3     2   1.00  1196   \n",
       "3      A    98001  Auburn  1300000             220     4   1.75  2850   \n",
       "4      S    98001  Auburn   250000              46     2   1.50  1200   \n",
       "\n",
       "         Date  Acres  Lot_sqft  Liv_index  \n",
       "0   5/26/2021  0.227      9894         68  \n",
       "1   5/26/2021  0.164      7150         68  \n",
       "2    5/7/2021  0.544     23689         68  \n",
       "3  10/22/2020  6.000    261360         68  \n",
       "4   5/20/2021  0.220      9600         68  "
      ]
     },
     "execution_count": 4,
     "metadata": {},
     "output_type": "execute_result"
    }
   ],
   "source": [
    "# Read the data\n",
    "file_path=('cleaned_data.csv')\n",
    "data=pd.read_csv(file_path, index_col = 0)\n",
    "data.head()"
   ]
  },
  {
   "cell_type": "code",
   "execution_count": 5,
   "metadata": {},
   "outputs": [
    {
     "data": {
      "text/html": [
       "<div>\n",
       "<style scoped>\n",
       "    .dataframe tbody tr th:only-of-type {\n",
       "        vertical-align: middle;\n",
       "    }\n",
       "\n",
       "    .dataframe tbody tr th {\n",
       "        vertical-align: top;\n",
       "    }\n",
       "\n",
       "    .dataframe thead th {\n",
       "        text-align: right;\n",
       "    }\n",
       "</style>\n",
       "<table border=\"1\" class=\"dataframe\">\n",
       "  <thead>\n",
       "    <tr style=\"text-align: right;\">\n",
       "      <th></th>\n",
       "      <th>Price</th>\n",
       "      <th>Beds</th>\n",
       "      <th>Baths</th>\n",
       "      <th>Sqft</th>\n",
       "      <th>Lot_sqft</th>\n",
       "      <th>Liv_index</th>\n",
       "    </tr>\n",
       "  </thead>\n",
       "  <tbody>\n",
       "    <tr>\n",
       "      <th>0</th>\n",
       "      <td>725000</td>\n",
       "      <td>3</td>\n",
       "      <td>0.00</td>\n",
       "      <td>3060</td>\n",
       "      <td>9894</td>\n",
       "      <td>68</td>\n",
       "    </tr>\n",
       "    <tr>\n",
       "      <th>1</th>\n",
       "      <td>300000</td>\n",
       "      <td>2</td>\n",
       "      <td>1.00</td>\n",
       "      <td>920</td>\n",
       "      <td>7150</td>\n",
       "      <td>68</td>\n",
       "    </tr>\n",
       "    <tr>\n",
       "      <th>2</th>\n",
       "      <td>555000</td>\n",
       "      <td>2</td>\n",
       "      <td>1.00</td>\n",
       "      <td>1196</td>\n",
       "      <td>23689</td>\n",
       "      <td>68</td>\n",
       "    </tr>\n",
       "    <tr>\n",
       "      <th>3</th>\n",
       "      <td>1300000</td>\n",
       "      <td>4</td>\n",
       "      <td>1.75</td>\n",
       "      <td>2850</td>\n",
       "      <td>261360</td>\n",
       "      <td>68</td>\n",
       "    </tr>\n",
       "    <tr>\n",
       "      <th>4</th>\n",
       "      <td>250000</td>\n",
       "      <td>2</td>\n",
       "      <td>1.50</td>\n",
       "      <td>1200</td>\n",
       "      <td>9600</td>\n",
       "      <td>68</td>\n",
       "    </tr>\n",
       "  </tbody>\n",
       "</table>\n",
       "</div>"
      ],
      "text/plain": [
       "     Price  Beds  Baths  Sqft  Lot_sqft  Liv_index\n",
       "0   725000     3   0.00  3060      9894         68\n",
       "1   300000     2   1.00   920      7150         68\n",
       "2   555000     2   1.00  1196     23689         68\n",
       "3  1300000     4   1.75  2850    261360         68\n",
       "4   250000     2   1.50  1200      9600         68"
      ]
     },
     "execution_count": 5,
     "metadata": {},
     "output_type": "execute_result"
    }
   ],
   "source": [
    "data = data.drop(columns=[\"Date\",\"Status\",\"ZipCode\",\"City\",\"Acres\",\"Days_on_market\"])\n",
    "data.head()"
   ]
  },
  {
   "cell_type": "code",
   "execution_count": 6,
   "metadata": {},
   "outputs": [
    {
     "name": "stdout",
     "output_type": "stream",
     "text": [
      "<class 'pandas.core.frame.DataFrame'>\n",
      "Int64Index: 4128 entries, 0 to 4187\n",
      "Data columns (total 6 columns):\n",
      " #   Column     Non-Null Count  Dtype  \n",
      "---  ------     --------------  -----  \n",
      " 0   Price      4128 non-null   int64  \n",
      " 1   Beds       4128 non-null   int64  \n",
      " 2   Baths      4128 non-null   float64\n",
      " 3   Sqft       4128 non-null   int64  \n",
      " 4   Lot_sqft   4128 non-null   int64  \n",
      " 5   Liv_index  4128 non-null   int64  \n",
      "dtypes: float64(1), int64(5)\n",
      "memory usage: 225.8 KB\n"
     ]
    }
   ],
   "source": [
    "data.info()"
   ]
  },
  {
   "cell_type": "code",
   "execution_count": 7,
   "metadata": {},
   "outputs": [
    {
     "name": "stdout",
     "output_type": "stream",
     "text": [
      "count         4,128.0\n",
      "mean      1,171,752.0\n",
      "std       1,229,190.1\n",
      "min         139,000.0\n",
      "25%         659,990.0\n",
      "50%         868,222.5\n",
      "75%       1,299,237.5\n",
      "max      27,500,000.0\n",
      "Name: Price, dtype: object\n"
     ]
    }
   ],
   "source": [
    "print(data['Price'].describe().apply(lambda x: '{:,.1f}'.format(x)))"
   ]
  },
  {
   "cell_type": "code",
   "execution_count": 8,
   "metadata": {},
   "outputs": [
    {
     "name": "stderr",
     "output_type": "stream",
     "text": [
      "C:\\Users\\Joanne\\anaconda3\\envs\\dev\\lib\\site-packages\\seaborn\\distributions.py:2551: FutureWarning: `distplot` is a deprecated function and will be removed in a future version. Please adapt your code to use either `displot` (a figure-level function with similar flexibility) or `histplot` (an axes-level function for histograms).\n",
      "  warnings.warn(msg, FutureWarning)\n",
      "C:\\Users\\Joanne\\anaconda3\\envs\\dev\\lib\\site-packages\\matplotlib\\cbook\\__init__.py:1377: FutureWarning: Support for multi-dimensional indexing (e.g. `obj[:, None]`) is deprecated and will be removed in a future version.  Convert to a numpy array before indexing instead.\n",
      "  x[:, None]\n",
      "C:\\Users\\Joanne\\anaconda3\\envs\\dev\\lib\\site-packages\\matplotlib\\axes\\_base.py:237: FutureWarning: Support for multi-dimensional indexing (e.g. `obj[:, None]`) is deprecated and will be removed in a future version.  Convert to a numpy array before indexing instead.\n",
      "  x = x[:, np.newaxis]\n",
      "C:\\Users\\Joanne\\anaconda3\\envs\\dev\\lib\\site-packages\\matplotlib\\axes\\_base.py:239: FutureWarning: Support for multi-dimensional indexing (e.g. `obj[:, None]`) is deprecated and will be removed in a future version.  Convert to a numpy array before indexing instead.\n",
      "  y = y[:, np.newaxis]\n"
     ]
    },
    {
     "data": {
      "image/png": "[encoded data removed]",
      "text/plain": [
       "<Figure size 1008x576 with 1 Axes>"
      ]
     },
     "metadata": {
      "needs_background": "light"
     },
     "output_type": "display_data"
    }
   ],
   "source": [
    "# Sale Price Distribution\n",
    "fig, ax = plt.subplots(figsize=(14,8))\n",
    "sns.set_style(\"whitegrid\")\n",
    "sns.distplot(data['Price'])\n",
    "plt.xlim(0,5000000)\n",
    "plt.show()"
   ]
  },
  {
   "cell_type": "code",
   "execution_count": 9,
   "metadata": {},
   "outputs": [
    {
     "data": {
      "text/plain": [
       "1171752.0479651163"
      ]
     },
     "execution_count": 9,
     "metadata": {},
     "output_type": "execute_result"
    }
   ],
   "source": [
    "data['Price'].mean()"
   ]
  },
  {
   "cell_type": "code",
   "execution_count": 10,
   "metadata": {},
   "outputs": [
    {
     "data": {
      "text/plain": [
       "<matplotlib.axes._subplots.AxesSubplot at 0x1351e30d2c8>"
      ]
     },
     "execution_count": 10,
     "metadata": {},
     "output_type": "execute_result"
    },
    {
     "data": {
      "image/png": "[encoded data removed]",
      "text/plain": [
       "<Figure size 720x1008 with 2 Axes>"
      ]
     },
     "metadata": {},
     "output_type": "display_data"
    }
   ],
   "source": [
    "# Correlation to price value using heatmap\n",
    "fig, ax = plt.subplots(figsize=(10,14))\n",
    "price_corr = data.corr()[['Price']].sort_values(\n",
    "  by='Price', ascending=False)\n",
    "sns.heatmap(price_corr, annot=True, ax=ax) "
   ]
  },
  {
   "cell_type": "code",
   "execution_count": 11,
   "metadata": {},
   "outputs": [
    {
     "name": "stderr",
     "output_type": "stream",
     "text": [
      "C:\\Users\\Joanne\\anaconda3\\envs\\dev\\lib\\site-packages\\seaborn\\_decorators.py:43: FutureWarning: Pass the following variable as a keyword arg: x. From version 0.12, the only valid positional argument will be `data`, and passing other arguments without an explicit keyword will result in an error or misinterpretation.\n",
      "  FutureWarning\n",
      "C:\\Users\\Joanne\\anaconda3\\envs\\dev\\lib\\site-packages\\seaborn\\_decorators.py:43: FutureWarning: Pass the following variable as a keyword arg: x. From version 0.12, the only valid positional argument will be `data`, and passing other arguments without an explicit keyword will result in an error or misinterpretation.\n",
      "  FutureWarning\n",
      "C:\\Users\\Joanne\\anaconda3\\envs\\dev\\lib\\site-packages\\seaborn\\_decorators.py:43: FutureWarning: Pass the following variable as a keyword arg: x. From version 0.12, the only valid positional argument will be `data`, and passing other arguments without an explicit keyword will result in an error or misinterpretation.\n",
      "  FutureWarning\n",
      "C:\\Users\\Joanne\\anaconda3\\envs\\dev\\lib\\site-packages\\matplotlib\\figure.py:2144: UserWarning: This figure was using constrained_layout==True, but that is incompatible with subplots_adjust and or tight_layout: setting constrained_layout==False. \n",
      "  warnings.warn(\"This figure was using constrained_layout==True, \"\n"
     ]
    },
    {
     "data": {
      "image/png": "[encoded data removed]",
      "text/plain": [
       "<Figure size 1440x576 with 3 Axes>"
      ]
     },
     "metadata": {},
     "output_type": "display_data"
    }
   ],
   "source": [
    "#visualizing bedrooms, bathrooms, floors,grades\n",
    "fig = plt.figure(figsize=(20,8),constrained_layout=True)\n",
    "fig.add_subplot(2,2,1)\n",
    "sns.countplot(data['Baths'], palette = 'Greens_d')\n",
    "fig.add_subplot(2,2,2)\n",
    "sns.countplot(data['Beds'])\n",
    "fig.add_subplot(2,2,4)\n",
    "sns.countplot(data['Liv_index'])\n",
    "plt.tight_layout()"
   ]
  },
  {
   "cell_type": "code",
   "execution_count": 12,
   "metadata": {},
   "outputs": [
    {
     "name": "stderr",
     "output_type": "stream",
     "text": [
      "C:\\Users\\Joanne\\anaconda3\\envs\\dev\\lib\\site-packages\\seaborn\\_decorators.py:43: FutureWarning: Pass the following variables as keyword args: x, y. From version 0.12, the only valid positional argument will be `data`, and passing other arguments without an explicit keyword will result in an error or misinterpretation.\n",
      "  FutureWarning\n",
      "C:\\Users\\Joanne\\anaconda3\\envs\\dev\\lib\\site-packages\\seaborn\\_decorators.py:43: FutureWarning: Pass the following variables as keyword args: x, y. From version 0.12, the only valid positional argument will be `data`, and passing other arguments without an explicit keyword will result in an error or misinterpretation.\n",
      "  FutureWarning\n"
     ]
    },
    {
     "data": {
      "text/plain": [
       "<matplotlib.axes._subplots.AxesSubplot at 0x1351eff0048>"
      ]
     },
     "execution_count": 12,
     "metadata": {},
     "output_type": "execute_result"
    },
    {
     "data": {
      "image/png": "[encoded data removed]",
      "text/plain": [
       "<Figure size 1152x360 with 2 Axes>"
      ]
     },
     "metadata": {},
     "output_type": "display_data"
    }
   ],
   "source": [
    "# sqft liveing and price scatter plot\n",
    "fig = plt.figure(figsize=(16,5))\n",
    "fig.add_subplot(2,2,1)\n",
    "sns.scatterplot(data['Sqft'], data['Price'])\n",
    "fig.add_subplot(2,2,2)\n",
    "sns.scatterplot(data['Lot_sqft'],data['Price'])\n",
    "\n",
    "\n"
   ]
  },
  {
   "cell_type": "markdown",
   "metadata": {},
   "source": [
    "## Machine Learning"
   ]
  },
  {
   "cell_type": "code",
   "execution_count": 39,
   "metadata": {},
   "outputs": [],
   "source": [
    "# Initial imports\n",
    "import pandas as pd\n",
    "from pathlib import Path\n",
    "from sklearn import tree\n",
    "from sklearn.preprocessing import StandardScaler\n",
    "from sklearn.model_selection import train_test_split\n",
    "# Creating a Neural Network Model\n",
    "import keras\n",
    "from tensorflow.keras.models import Sequential\n",
    "from tensorflow.keras.layers import Dense, Activation\n",
    "from tensorflow.keras.optimizers import Adam\n"
   ]
  },
  {
   "cell_type": "code",
   "execution_count": 40,
   "metadata": {},
   "outputs": [],
   "source": [
    "# Define the features X set and the target y vector\n",
    "X = data.drop('Price',axis =1).values\n",
    "y = data['Price'].values\n",
    "#splitting Train and Test \n",
    "from sklearn.model_selection import train_test_split\n",
    "X_train, X_test, y_train, y_test = train_test_split(X, y, test_size=0.33, random_state=101)"
   ]
  },
  {
   "cell_type": "code",
   "execution_count": 56,
   "metadata": {},
   "outputs": [],
   "source": [
    "#standardization scaler - fit&transform on train, fit only on test\n",
    "from sklearn.preprocessing import StandardScaler\n",
    "scaler = StandardScaler()\n",
    "scaler.fit(X_train)\n",
    "X_train_scaled = scaler.fit_transform(X_train)\n",
    "X_test_scaled = scaler.transform(X_test)"
   ]
  },
  {
   "cell_type": "code",
   "execution_count": 57,
   "metadata": {},
   "outputs": [],
   "source": [
    "model = Sequential()\n",
    "\n",
    "model.add(Dense(19,activation='relu'))\n",
    "model.add(Dense(19,activation='relu'))\n",
    "model.add(Dense(19,activation='relu'))\n",
    "model.add(Dense(1))\n",
    "\n",
    "model.compile(optimizer='adam',loss='mse', metrics =['mae'])"
   ]
  },
  {
   "cell_type": "code",
   "execution_count": 59,
   "metadata": {},
   "outputs": [
    {
     "name": "stdout",
     "output_type": "stream",
     "text": [
      "Epoch 1/100\n",
      "58/58 [==============================] - 1s 4ms/step - loss: 3036760937350.5083 - mae: 1225213.0318 - val_loss: 2919215398912.0000 - val_mae: 1146092.2500\n",
      "Epoch 2/100\n",
      "58/58 [==============================] - 0s 2ms/step - loss: 3108963752456.6777 - mae: 1190644.5011 - val_loss: 2919172407296.0000 - val_mae: 1146076.1250\n",
      "Epoch 3/100\n",
      "58/58 [==============================] - 0s 2ms/step - loss: 2450810483729.3560 - mae: 1167632.4237 - val_loss: 2918977372160.0000 - val_mae: 1146010.3750\n",
      "Epoch 4/100\n",
      "58/58 [==============================] - 0s 2ms/step - loss: 2894464133432.4067 - mae: 1209608.1102 - val_loss: 2918430539776.0000 - val_mae: 1145829.7500\n",
      "Epoch 5/100\n",
      "58/58 [==============================] - 0s 2ms/step - loss: 2577342234068.6104 - mae: 1161127.5636 - val_loss: 2917187715072.0000 - val_mae: 1145428.3750\n",
      "Epoch 6/100\n",
      "58/58 [==============================] - 0s 2ms/step - loss: 2532770418479.7290 - mae: 1180985.8400 - val_loss: 2914780446720.0000 - val_mae: 1144663.2500\n",
      "Epoch 7/100\n",
      "58/58 [==============================] - 0s 2ms/step - loss: 2810592071471.7290 - mae: 1226366.3496 - val_loss: 2910681038848.0000 - val_mae: 1143371.0000\n",
      "Epoch 8/100\n",
      "58/58 [==============================] - 0s 2ms/step - loss: 3004434649990.5083 - mae: 1219222.0784 - val_loss: 2904512004096.0000 - val_mae: 1141422.3750\n",
      "Epoch 9/100\n",
      "58/58 [==============================] - 0s 2ms/step - loss: 3225949511263.4575 - mae: 1197597.4555 - val_loss: 2895403810816.0000 - val_mae: 1138568.0000\n",
      "Epoch 10/100\n",
      "58/58 [==============================] - 0s 2ms/step - loss: 2771092066928.8135 - mae: 1185338.1949 - val_loss: 2882713681920.0000 - val_mae: 1134608.1250\n",
      "Epoch 11/100\n",
      "58/58 [==============================] - 0s 2ms/step - loss: 3676496035284.6104 - mae: 1250928.9852 - val_loss: 2865903435776.0000 - val_mae: 1129365.0000\n",
      "Epoch 12/100\n",
      "58/58 [==============================] - 0s 2ms/step - loss: 2781542355291.1187 - mae: 1212333.0445 - val_loss: 2844040626176.0000 - val_mae: 1122567.7500\n",
      "Epoch 13/100\n",
      "58/58 [==============================] - 0s 2ms/step - loss: 2508279768567.3223 - mae: 1149304.3475 - val_loss: 2816350879744.0000 - val_mae: 1113958.0000\n",
      "Epoch 14/100\n",
      "58/58 [==============================] - 0s 2ms/step - loss: 2687471896471.8643 - mae: 1185921.0975 - val_loss: 2781280731136.0000 - val_mae: 1103068.1250\n",
      "Epoch 15/100\n",
      "58/58 [==============================] - 0s 2ms/step - loss: 3311758848485.9663 - mae: 1204095.1610 - val_loss: 2741229322240.0000 - val_mae: 1090421.1250\n",
      "Epoch 16/100\n",
      "58/58 [==============================] - 0s 2ms/step - loss: 2424392224559.7290 - mae: 1113897.4375 - val_loss: 2693857804288.0000 - val_mae: 1075393.1250\n",
      "Epoch 17/100\n",
      "58/58 [==============================] - 0s 2ms/step - loss: 2448199429519.1865 - mae: 1119753.0932 - val_loss: 2640020242432.0000 - val_mae: 1058047.2500\n",
      "Epoch 18/100\n",
      "58/58 [==============================] - 0s 2ms/step - loss: 2613123665989.4238 - mae: 1113065.7479 - val_loss: 2578293981184.0000 - val_mae: 1037895.3125\n",
      "Epoch 19/100\n",
      "58/58 [==============================] - 0s 2ms/step - loss: 3259653974050.7119 - mae: 1131789.0000 - val_loss: 2508375982080.0000 - val_mae: 1014745.4375\n",
      "Epoch 20/100\n",
      "58/58 [==============================] - 0s 2ms/step - loss: 2337672387913.7627 - mae: 1040576.3782 - val_loss: 2432715718656.0000 - val_mae: 989088.6250\n",
      "Epoch 21/100\n",
      "58/58 [==============================] - 0s 2ms/step - loss: 1849607476935.5933 - mae: 1004513.7574 - val_loss: 2349159415808.0000 - val_mae: 960536.3125\n",
      "Epoch 22/100\n",
      "58/58 [==============================] - 0s 2ms/step - loss: 2664318618606.6440 - mae: 1018325.2140 - val_loss: 2259053445120.0000 - val_mae: 928830.2500\n",
      "Epoch 23/100\n",
      "58/58 [==============================] - 0s 2ms/step - loss: 2308808851733.6948 - mae: 981562.5360 - val_loss: 2165001551872.0000 - val_mae: 894444.2500\n",
      "Epoch 24/100\n",
      "58/58 [==============================] - 0s 2ms/step - loss: 1771178766266.5762 - mae: 886556.8146 - val_loss: 2069751267328.0000 - val_mae: 857933.0625\n",
      "Epoch 25/100\n",
      "58/58 [==============================] - 0s 2ms/step - loss: 1701527294299.1187 - mae: 865761.5572 - val_loss: 1974263742464.0000 - val_mae: 819463.6250\n",
      "Epoch 26/100\n",
      "58/58 [==============================] - 0s 2ms/step - loss: 1663582320188.7458 - mae: 845852.7161 - val_loss: 1876050575360.0000 - val_mae: 778407.1875\n",
      "Epoch 27/100\n",
      "58/58 [==============================] - 0s 2ms/step - loss: 2477031590616.9492 - mae: 835361.6864 - val_loss: 1778121572352.0000 - val_mae: 736066.6875\n",
      "Epoch 28/100\n",
      "58/58 [==============================] - 0s 2ms/step - loss: 2269506454892.4746 - mae: 773358.2818 - val_loss: 1686521905152.0000 - val_mae: 694995.4375\n",
      "Epoch 29/100\n",
      "58/58 [==============================] - 0s 2ms/step - loss: 1849361293728.5425 - mae: 736769.6155 - val_loss: 1600824016896.0000 - val_mae: 655275.9375\n",
      "Epoch 30/100\n",
      "58/58 [==============================] - 0s 2ms/step - loss: 1324621484101.4238 - mae: 664418.3273 - val_loss: 1520069246976.0000 - val_mae: 617195.3750\n",
      "Epoch 31/100\n",
      "58/58 [==============================] - 0s 2ms/step - loss: 1318424964217.4915 - mae: 626690.2585 - val_loss: 1443242049536.0000 - val_mae: 582053.5625\n",
      "Epoch 32/100\n",
      "58/58 [==============================] - 0s 2ms/step - loss: 1272456113273.4915 - mae: 572180.4073 - val_loss: 1375098634240.0000 - val_mae: 550968.6875\n",
      "Epoch 33/100\n",
      "58/58 [==============================] - 0s 2ms/step - loss: 1208402523153.3560 - mae: 564606.2039 - val_loss: 1311801344000.0000 - val_mae: 522642.6250\n",
      "Epoch 34/100\n",
      "58/58 [==============================] - 0s 2ms/step - loss: 1219553491881.2205 - mae: 527304.2299 - val_loss: 1260703973376.0000 - val_mae: 499596.6250\n",
      "Epoch 35/100\n",
      "58/58 [==============================] - 0s 2ms/step - loss: 1050179723680.5424 - mae: 505606.4047 - val_loss: 1217920368640.0000 - val_mae: 480892.0625\n",
      "Epoch 36/100\n",
      "58/58 [==============================] - 0s 2ms/step - loss: 977201208927.4576 - mae: 486531.2050 - val_loss: 1183551062016.0000 - val_mae: 466250.1875\n",
      "Epoch 37/100\n",
      "58/58 [==============================] - 0s 2ms/step - loss: 1061987472540.2034 - mae: 500193.9243 - val_loss: 1151392546816.0000 - val_mae: 453464.6250\n",
      "Epoch 38/100\n",
      "58/58 [==============================] - 0s 2ms/step - loss: 1341430406473.7627 - mae: 460872.6753 - val_loss: 1126350716928.0000 - val_mae: 444452.1250\n",
      "Epoch 39/100\n",
      "58/58 [==============================] - 0s 2ms/step - loss: 832619827824.8136 - mae: 447450.8120 - val_loss: 1106335760384.0000 - val_mae: 438442.6875\n",
      "Epoch 40/100\n",
      "58/58 [==============================] - 0s 2ms/step - loss: 985279136299.3898 - mae: 439879.4354 - val_loss: 1088347504640.0000 - val_mae: 434557.6250\n",
      "Epoch 41/100\n",
      "58/58 [==============================] - 0s 2ms/step - loss: 745548334166.7797 - mae: 420407.9417 - val_loss: 1076018806784.0000 - val_mae: 431888.9688\n",
      "Epoch 42/100\n",
      "58/58 [==============================] - 0s 2ms/step - loss: 858820795166.3729 - mae: 450571.2246 - val_loss: 1065016492032.0000 - val_mae: 429951.1875\n",
      "Epoch 43/100\n",
      "58/58 [==============================] - 0s 2ms/step - loss: 1059000532714.3051 - mae: 440806.5376 - val_loss: 1056334741504.0000 - val_mae: 429084.0625\n",
      "Epoch 44/100\n",
      "58/58 [==============================] - 0s 2ms/step - loss: 1379672034008.9492 - mae: 475141.0175 - val_loss: 1049554780160.0000 - val_mae: 428662.1875\n",
      "Epoch 45/100\n",
      "58/58 [==============================] - 0s 2ms/step - loss: 1379773775872.0000 - mae: 465276.5546 - val_loss: 1044024918016.0000 - val_mae: 428452.6875\n",
      "Epoch 46/100\n",
      "58/58 [==============================] - 0s 2ms/step - loss: 938335323778.1694 - mae: 450935.1065 - val_loss: 1039474032640.0000 - val_mae: 428017.1875\n",
      "Epoch 47/100\n",
      "58/58 [==============================] - 0s 2ms/step - loss: 1019816966525.8306 - mae: 483823.8162 - val_loss: 1035269832704.0000 - val_mae: 427916.4688\n",
      "Epoch 48/100\n",
      "58/58 [==============================] - 0s 2ms/step - loss: 859028414325.1526 - mae: 459185.2394 - val_loss: 1031039680512.0000 - val_mae: 428115.8125\n",
      "Epoch 49/100\n",
      "58/58 [==============================] - 0s 2ms/step - loss: 949783251950.6440 - mae: 460782.0376 - val_loss: 1028009426944.0000 - val_mae: 427884.2812\n",
      "Epoch 50/100\n",
      "58/58 [==============================] - 0s 2ms/step - loss: 699110448457.7627 - mae: 434473.9979 - val_loss: 1024923467776.0000 - val_mae: 427358.5938\n",
      "Epoch 51/100\n",
      "58/58 [==============================] - 0s 2ms/step - loss: 596551732484.3390 - mae: 422776.8935 - val_loss: 1022270439424.0000 - val_mae: 427070.0312\n",
      "Epoch 52/100\n",
      "58/58 [==============================] - 0s 2ms/step - loss: 908795860679.5933 - mae: 452164.7336 - val_loss: 1019072806912.0000 - val_mae: 428009.2188\n",
      "Epoch 53/100\n",
      "58/58 [==============================] - 0s 2ms/step - loss: 934652174197.1526 - mae: 466446.2320 - val_loss: 1017023234048.0000 - val_mae: 426418.8125\n",
      "Epoch 54/100\n",
      "58/58 [==============================] - 0s 2ms/step - loss: 754931173827.2543 - mae: 433149.6960 - val_loss: 1014287106048.0000 - val_mae: 426980.3125\n",
      "Epoch 55/100\n",
      "58/58 [==============================] - 0s 2ms/step - loss: 843430225954.7119 - mae: 446538.5546 - val_loss: 1012268728320.0000 - val_mae: 425635.4375\n",
      "Epoch 56/100\n",
      "58/58 [==============================] - 0s 2ms/step - loss: 816397584002.1694 - mae: 445942.4756 - val_loss: 1009810145280.0000 - val_mae: 426263.7500\n",
      "Epoch 57/100\n",
      "58/58 [==============================] - 0s 2ms/step - loss: 764675813306.5763 - mae: 443355.8935 - val_loss: 1007628648448.0000 - val_mae: 424973.8438\n",
      "Epoch 58/100\n",
      "58/58 [==============================] - 0s 2ms/step - loss: 1309708396301.0168 - mae: 459369.8448 - val_loss: 1005502529536.0000 - val_mae: 424340.8750\n",
      "Epoch 59/100\n",
      "58/58 [==============================] - 0s 2ms/step - loss: 951458208264.6780 - mae: 470929.0943 - val_loss: 1003635277824.0000 - val_mae: 423437.2188\n",
      "Epoch 60/100\n",
      "58/58 [==============================] - 0s 2ms/step - loss: 745364769774.6440 - mae: 450518.9232 - val_loss: 1001706160128.0000 - val_mae: 422745.1250\n",
      "Epoch 61/100\n",
      "58/58 [==============================] - 0s 2ms/step - loss: 654491429176.4067 - mae: 436577.9110 - val_loss: 999796178944.0000 - val_mae: 422320.5938\n",
      "Epoch 62/100\n",
      "58/58 [==============================] - 0s 2ms/step - loss: 910156806248.1356 - mae: 457125.8189 - val_loss: 997695422464.0000 - val_mae: 422743.6250\n",
      "Epoch 63/100\n",
      "58/58 [==============================] - 0s 2ms/step - loss: 734596114189.0170 - mae: 453535.5143 - val_loss: 995950985216.0000 - val_mae: 420809.8750\n",
      "Epoch 64/100\n",
      "58/58 [==============================] - 0s 2ms/step - loss: 952199162168.4067 - mae: 433228.3067 - val_loss: 994032746496.0000 - val_mae: 420986.2500\n",
      "Epoch 65/100\n",
      "58/58 [==============================] - 0s 2ms/step - loss: 913504768902.5084 - mae: 454569.4391 - val_loss: 992480788480.0000 - val_mae: 419252.6562\n",
      "Epoch 66/100\n",
      "58/58 [==============================] - 0s 2ms/step - loss: 1119889323719.5933 - mae: 429204.0755 - val_loss: 990543544320.0000 - val_mae: 419535.8750\n",
      "Epoch 67/100\n",
      "58/58 [==============================] - 0s 2ms/step - loss: 786542242937.4916 - mae: 434512.4889 - val_loss: 988962553856.0000 - val_mae: 417988.8438\n",
      "Epoch 68/100\n",
      "58/58 [==============================] - 0s 2ms/step - loss: 821377995793.3560 - mae: 436210.9391 - val_loss: 987356921856.0000 - val_mae: 418183.6875\n",
      "Epoch 69/100\n",
      "58/58 [==============================] - 0s 2ms/step - loss: 869571683275.9323 - mae: 429148.2495 - val_loss: 985718915072.0000 - val_mae: 417043.0938\n",
      "Epoch 70/100\n",
      "58/58 [==============================] - 0s 2ms/step - loss: 966483992992.5424 - mae: 460816.5832 - val_loss: 984061050880.0000 - val_mae: 416773.5625\n",
      "Epoch 71/100\n",
      "58/58 [==============================] - 0s 2ms/step - loss: 796734919003.1187 - mae: 429596.3824 - val_loss: 982502670336.0000 - val_mae: 416269.2188\n",
      "Epoch 72/100\n",
      "58/58 [==============================] - 0s 2ms/step - loss: 1442001012076.4746 - mae: 485610.2860 - val_loss: 980918272000.0000 - val_mae: 416159.6562\n",
      "Epoch 73/100\n",
      "58/58 [==============================] - 0s 2ms/step - loss: 796787248943.7288 - mae: 428224.9423 - val_loss: 979413827584.0000 - val_mae: 414878.5625\n",
      "Epoch 74/100\n",
      "58/58 [==============================] - 0s 2ms/step - loss: 1249668586270.3728 - mae: 471977.6329 - val_loss: 977888149504.0000 - val_mae: 414009.2812\n",
      "Epoch 75/100\n",
      "58/58 [==============================] - 0s 2ms/step - loss: 846418461505.0847 - mae: 437945.3819 - val_loss: 976408805376.0000 - val_mae: 414064.3438\n",
      "Epoch 76/100\n",
      "58/58 [==============================] - 0s 2ms/step - loss: 814843831243.9323 - mae: 428772.1600 - val_loss: 974957707264.0000 - val_mae: 412893.4688\n",
      "Epoch 77/100\n",
      "58/58 [==============================] - 0s 2ms/step - loss: 1085318171908.3390 - mae: 464478.2188 - val_loss: 973568606208.0000 - val_mae: 412419.2500\n",
      "Epoch 78/100\n",
      "58/58 [==============================] - 0s 2ms/step - loss: 908166591227.6610 - mae: 447074.4232 - val_loss: 972112330752.0000 - val_mae: 411611.3750\n",
      "Epoch 79/100\n",
      "58/58 [==============================] - 0s 2ms/step - loss: 812428876018.9830 - mae: 435446.2267 - val_loss: 970666147840.0000 - val_mae: 411115.1250\n",
      "Epoch 80/100\n",
      "58/58 [==============================] - 0s 2ms/step - loss: 1106246205995.3899 - mae: 462737.4417 - val_loss: 969378562048.0000 - val_mae: 411608.2188\n",
      "Epoch 81/100\n",
      "58/58 [==============================] - 0s 2ms/step - loss: 609107991881.7627 - mae: 418630.3702 - val_loss: 968192884736.0000 - val_mae: 410342.5312\n",
      "Epoch 82/100\n",
      "58/58 [==============================] - 0s 3ms/step - loss: 1134162362645.6948 - mae: 453970.5551 - val_loss: 966712229888.0000 - val_mae: 409230.1562\n",
      "Epoch 83/100\n",
      "58/58 [==============================] - 0s 2ms/step - loss: 1029273549181.8306 - mae: 452851.4587 - val_loss: 965466390528.0000 - val_mae: 409340.3750\n",
      "Epoch 84/100\n",
      "58/58 [==============================] - 0s 2ms/step - loss: 1078640630002.9830 - mae: 455970.9492 - val_loss: 964096032768.0000 - val_mae: 408954.2500\n",
      "Epoch 85/100\n",
      "58/58 [==============================] - 0s 2ms/step - loss: 733641196908.4746 - mae: 423428.3994 - val_loss: 962822340608.0000 - val_mae: 408072.4062\n",
      "Epoch 86/100\n",
      "58/58 [==============================] - 0s 2ms/step - loss: 865216712218.0339 - mae: 425825.1404 - val_loss: 961731428352.0000 - val_mae: 407113.8750\n",
      "Epoch 87/100\n",
      "58/58 [==============================] - 0s 3ms/step - loss: 682580798030.1017 - mae: 416575.7511 - val_loss: 960420511744.0000 - val_mae: 407219.7812\n",
      "Epoch 88/100\n",
      "58/58 [==============================] - 0s 2ms/step - loss: 929787764597.1526 - mae: 448285.3845 - val_loss: 959203835904.0000 - val_mae: 406878.7188\n",
      "Epoch 89/100\n",
      "58/58 [==============================] - 0s 2ms/step - loss: 1075238634027.3898 - mae: 457164.9333 - val_loss: 958047191040.0000 - val_mae: 407638.5625\n",
      "Epoch 90/100\n",
      "58/58 [==============================] - 0s 2ms/step - loss: 1087817280494.6440 - mae: 447195.5985 - val_loss: 956834775040.0000 - val_mae: 406182.2500\n",
      "Epoch 91/100\n",
      "58/58 [==============================] - 0s 2ms/step - loss: 1015905094360.9491 - mae: 427603.8379 - val_loss: 955653160960.0000 - val_mae: 405626.0625\n",
      "Epoch 92/100\n",
      "58/58 [==============================] - 0s 2ms/step - loss: 689871415886.1017 - mae: 431257.8030 - val_loss: 954534854656.0000 - val_mae: 404440.2188\n",
      "Epoch 93/100\n",
      "58/58 [==============================] - 0s 3ms/step - loss: 668431306821.4237 - mae: 415125.8681 - val_loss: 953394528256.0000 - val_mae: 404827.8750\n",
      "Epoch 94/100\n",
      "58/58 [==============================] - 0s 3ms/step - loss: 904264987109.9661 - mae: 440912.5456 - val_loss: 952233295872.0000 - val_mae: 404783.5625\n",
      "Epoch 95/100\n",
      "58/58 [==============================] - 0s 3ms/step - loss: 790118296697.4916 - mae: 436548.9163 - val_loss: 951221485568.0000 - val_mae: 404085.6875\n",
      "Epoch 96/100\n",
      "58/58 [==============================] - 0s 3ms/step - loss: 677138388679.5933 - mae: 421677.6149 - val_loss: 950146433024.0000 - val_mae: 403561.0312\n",
      "Epoch 97/100\n",
      "58/58 [==============================] - 0s 3ms/step - loss: 738721020008.1356 - mae: 435168.7685 - val_loss: 948971307008.0000 - val_mae: 403249.0625\n",
      "Epoch 98/100\n",
      "58/58 [==============================] - 0s 2ms/step - loss: 1074659627910.5084 - mae: 444942.1621 - val_loss: 947991281664.0000 - val_mae: 402693.5312\n",
      "Epoch 99/100\n",
      "58/58 [==============================] - 0s 2ms/step - loss: 548721016832.0000 - mae: 396966.4619 - val_loss: 946931957760.0000 - val_mae: 402115.9375\n",
      "Epoch 100/100\n",
      "58/58 [==============================] - 0s 2ms/step - loss: 1019381204887.8644 - mae: 448996.8935 - val_loss: 945837309952.0000 - val_mae: 402245.1250\n"
     ]
    }
   ],
   "source": [
    "history = model.fit(X_train_scaled, y_train, validation_split=.33, epochs =100)"
   ]
  },
  {
   "cell_type": "code",
   "execution_count": 60,
   "metadata": {},
   "outputs": [
    {
     "data": {
      "text/plain": [
       "<matplotlib.axes._subplots.AxesSubplot at 0x13521f39a88>"
      ]
     },
     "execution_count": 60,
     "metadata": {},
     "output_type": "execute_result"
    },
    {
     "data": {
      "image/png": "[encoded data removed]",
      "text/plain": [
       "<Figure size 864x576 with 1 Axes>"
      ]
     },
     "metadata": {},
     "output_type": "display_data"
    }
   ],
   "source": [
    "loss_df = pd.DataFrame(model.history.history)\n",
    "loss_df.plot(figsize=(12,8))"
   ]
  },
  {
   "cell_type": "code",
   "execution_count": 63,
   "metadata": {},
   "outputs": [],
   "source": [
    "y_pred_nn = model.predict(X_test_scaled)"
   ]
  },
  {
   "cell_type": "code",
   "execution_count": 66,
   "metadata": {},
   "outputs": [
    {
     "data": {
      "text/html": [
       "<div>\n",
       "<style scoped>\n",
       "    .dataframe tbody tr th:only-of-type {\n",
       "        vertical-align: middle;\n",
       "    }\n",
       "\n",
       "    .dataframe tbody tr th {\n",
       "        vertical-align: top;\n",
       "    }\n",
       "\n",
       "    .dataframe thead th {\n",
       "        text-align: right;\n",
       "    }\n",
       "</style>\n",
       "<table border=\"1\" class=\"dataframe\">\n",
       "  <thead>\n",
       "    <tr style=\"text-align: right;\">\n",
       "      <th></th>\n",
       "      <th>Actual</th>\n",
       "      <th>Predicted</th>\n",
       "    </tr>\n",
       "  </thead>\n",
       "  <tbody>\n",
       "    <tr>\n",
       "      <th>0</th>\n",
       "      <td>1250000</td>\n",
       "      <td>1.999642e+06</td>\n",
       "    </tr>\n",
       "    <tr>\n",
       "      <th>1</th>\n",
       "      <td>750000</td>\n",
       "      <td>1.108105e+06</td>\n",
       "    </tr>\n",
       "    <tr>\n",
       "      <th>2</th>\n",
       "      <td>2160000</td>\n",
       "      <td>2.286012e+06</td>\n",
       "    </tr>\n",
       "    <tr>\n",
       "      <th>3</th>\n",
       "      <td>920000</td>\n",
       "      <td>1.399684e+06</td>\n",
       "    </tr>\n",
       "    <tr>\n",
       "      <th>4</th>\n",
       "      <td>500000</td>\n",
       "      <td>1.084565e+06</td>\n",
       "    </tr>\n",
       "  </tbody>\n",
       "</table>\n",
       "</div>"
      ],
      "text/plain": [
       "    Actual     Predicted\n",
       "0  1250000  1.999642e+06\n",
       "1   750000  1.108105e+06\n",
       "2  2160000  2.286012e+06\n",
       "3   920000  1.399684e+06\n",
       "4   500000  1.084565e+06"
      ]
     },
     "execution_count": 66,
     "metadata": {},
     "output_type": "execute_result"
    }
   ],
   "source": [
    "df2 = pd.DataFrame({'Actual': y_test.ravel(), 'Predicted': y_pred_nn.ravel()})\n",
    "df2 = df.head(5)\n",
    "df2"
   ]
  },
  {
   "cell_type": "code",
   "execution_count": 65,
   "metadata": {},
   "outputs": [
    {
     "name": "stdout",
     "output_type": "stream",
     "text": [
      "prdicted value are: [[1201526.2 ]\n",
      " [ 801533.56]\n",
      " [1793800.2 ]\n",
      " [1152875.2 ]\n",
      " [ 678116.25]]\n",
      "Real values are: [1250000  750000 2160000  920000  500000]\n"
     ]
    }
   ],
   "source": [
    "predictions = model.predict(X_test_scaled[0:5])\n",
    "print(\"prdicted value are:\",predictions)\n",
    "print(\"Real values are:\", y_test[:5])"
   ]
  },
  {
   "cell_type": "code",
   "execution_count": 55,
   "metadata": {},
   "outputs": [
    {
     "name": "stdout",
     "output_type": "stream",
     "text": [
      "43/43 [==============================] - 0s 738us/step - loss: 789340684288.0000 - mae: 441105.1250\n",
      "mean squared error from neural net: 789340684288.0\n",
      "mean absoulte error from neural net: 441105.125\n"
     ]
    }
   ],
   "source": [
    "mse_neural, mae_neural = model.evaluate(X_test_scaled, y_test)\n",
    "print(\"mean squared error from neural net:\",mse_neural)\n",
    "print(\"mean absoulte error from neural net:\",mae_neural)"
   ]
  },
  {
   "cell_type": "code",
   "execution_count": null,
   "metadata": {},
   "outputs": [],
   "source": []
  },
  {
   "cell_type": "code",
   "execution_count": null,
   "metadata": {},
   "outputs": [],
   "source": []
  },
  {
   "cell_type": "markdown",
   "metadata": {},
   "source": [
    "## Method1 : Linear Regression"
   ]
  },
  {
   "cell_type": "code",
   "execution_count": 83,
   "metadata": {},
   "outputs": [
    {
     "name": "stdout",
     "output_type": "stream",
     "text": [
      "mean squared error from linear regression: 789340684288.0\n",
      "mean absoulte error from linear regression: 441105.125\n"
     ]
    }
   ],
   "source": [
    "#Liner Regression\n",
    "from sklearn.linear_model import LinearRegression\n",
    "from sklearn.metrics import mean_squared_error, mean_absolute_error\n",
    "lr_model=linear_model.LinearRegression()\n",
    "lr_model.fit(X_train_scaled,y_train)\n",
    "mse_lr=mean_squared_error(y_test,y_pred_lr)\n",
    "mae_lr=mean_absolute_error(y_test,y_pred_lr)\n",
    "print(\"mean squared error from linear regression:\",mse_neural)\n",
    "print(\"mean absoulte error from linear regression:\",mae_neural)"
   ]
  },
  {
   "cell_type": "code",
   "execution_count": 33,
   "metadata": {},
   "outputs": [
    {
     "data": {
      "text/plain": [
       "-138722.5041624317"
      ]
     },
     "execution_count": 33,
     "metadata": {},
     "output_type": "execute_result"
    }
   ],
   "source": [
    "regressor.intercept_"
   ]
  },
  {
   "cell_type": "code",
   "execution_count": 34,
   "metadata": {},
   "outputs": [
    {
     "data": {
      "text/html": [
       "<div>\n",
       "<style scoped>\n",
       "    .dataframe tbody tr th:only-of-type {\n",
       "        vertical-align: middle;\n",
       "    }\n",
       "\n",
       "    .dataframe tbody tr th {\n",
       "        vertical-align: top;\n",
       "    }\n",
       "\n",
       "    .dataframe thead th {\n",
       "        text-align: right;\n",
       "    }\n",
       "</style>\n",
       "<table border=\"1\" class=\"dataframe\">\n",
       "  <thead>\n",
       "    <tr style=\"text-align: right;\">\n",
       "      <th></th>\n",
       "      <th>Actual</th>\n",
       "      <th>Predicted</th>\n",
       "    </tr>\n",
       "  </thead>\n",
       "  <tbody>\n",
       "    <tr>\n",
       "      <th>0</th>\n",
       "      <td>1250000</td>\n",
       "      <td>1.999642e+06</td>\n",
       "    </tr>\n",
       "    <tr>\n",
       "      <th>1</th>\n",
       "      <td>750000</td>\n",
       "      <td>1.108105e+06</td>\n",
       "    </tr>\n",
       "    <tr>\n",
       "      <th>2</th>\n",
       "      <td>2160000</td>\n",
       "      <td>2.286012e+06</td>\n",
       "    </tr>\n",
       "    <tr>\n",
       "      <th>3</th>\n",
       "      <td>920000</td>\n",
       "      <td>1.399684e+06</td>\n",
       "    </tr>\n",
       "    <tr>\n",
       "      <th>4</th>\n",
       "      <td>500000</td>\n",
       "      <td>1.084565e+06</td>\n",
       "    </tr>\n",
       "    <tr>\n",
       "      <th>5</th>\n",
       "      <td>1007000</td>\n",
       "      <td>7.549936e+05</td>\n",
       "    </tr>\n",
       "    <tr>\n",
       "      <th>6</th>\n",
       "      <td>525000</td>\n",
       "      <td>3.948510e+05</td>\n",
       "    </tr>\n",
       "    <tr>\n",
       "      <th>7</th>\n",
       "      <td>950000</td>\n",
       "      <td>1.692402e+06</td>\n",
       "    </tr>\n",
       "    <tr>\n",
       "      <th>8</th>\n",
       "      <td>1417675</td>\n",
       "      <td>1.355989e+06</td>\n",
       "    </tr>\n",
       "    <tr>\n",
       "      <th>9</th>\n",
       "      <td>675000</td>\n",
       "      <td>8.170328e+05</td>\n",
       "    </tr>\n",
       "  </tbody>\n",
       "</table>\n",
       "</div>"
      ],
      "text/plain": [
       "    Actual     Predicted\n",
       "0  1250000  1.999642e+06\n",
       "1   750000  1.108105e+06\n",
       "2  2160000  2.286012e+06\n",
       "3   920000  1.399684e+06\n",
       "4   500000  1.084565e+06\n",
       "5  1007000  7.549936e+05\n",
       "6   525000  3.948510e+05\n",
       "7   950000  1.692402e+06\n",
       "8  1417675  1.355989e+06\n",
       "9   675000  8.170328e+05"
      ]
     },
     "execution_count": 34,
     "metadata": {},
     "output_type": "execute_result"
    }
   ],
   "source": [
    "y_pred_lr = regressor.predict(X_test)\n",
    "df = pd.DataFrame({'Actual': y_test, 'Predicted': y_pred_lr})\n",
    "df1 = df.head(10)\n",
    "df1"
   ]
  },
  {
   "cell_type": "code",
   "execution_count": null,
   "metadata": {},
   "outputs": [],
   "source": []
  },
  {
   "cell_type": "code",
   "execution_count": 35,
   "metadata": {},
   "outputs": [
    {
     "data": {
      "text/plain": [
       "<matplotlib.axes._subplots.AxesSubplot at 0x1351ee0f148>"
      ]
     },
     "execution_count": 35,
     "metadata": {},
     "output_type": "execute_result"
    },
    {
     "data": {
      "image/png": "[encoded data removed]",
      "text/plain": [
       "<Figure size 432x288 with 1 Axes>"
      ]
     },
     "metadata": {},
     "output_type": "display_data"
    }
   ],
   "source": [
    "df1.plot()"
   ]
  },
  {
   "cell_type": "code",
   "execution_count": 36,
   "metadata": {},
   "outputs": [
    {
     "name": "stdout",
     "output_type": "stream",
     "text": [
      "Train Accuracy Score 0.50\n",
      "Test Accuracy Score 0.50\n",
      "Mean Absolute Error: 420131.53\n",
      "Mean Squared Error:663699870255.73\n",
      "Root Mean Squared Error:814677.77\n"
     ]
    }
   ],
   "source": [
    "from sklearn import metrics\n",
    "\n",
    "print(\"Train Accuracy Score {:.2f}\".format(regressor.score(X_train,y_train)))\n",
    "print(\"Test Accuracy Score {:.2f}\".format(regressor.score(X_test, y_test)))\n",
    "print('Mean Absolute Error: {:.2f}'.format(metrics.mean_absolute_error(y_test, y_pred_lr))) \n",
    "print('Mean Squared Error:{:.2f}'.format(metrics.mean_squared_error(y_test, y_pred_lr)))  \n",
    "print('Root Mean Squared Error:{:.2f}'.format(np.sqrt(metrics.mean_squared_error(y_test, y_pred_lr))))\n"
   ]
  },
  {
   "cell_type": "markdown",
   "metadata": {},
   "source": [
    "## Method2: Neural Network"
   ]
  },
  {
   "cell_type": "code",
   "execution_count": 37,
   "metadata": {},
   "outputs": [],
   "source": [
    "# Creating a Neural Network Model\n",
    "import keras\n",
    "from tensorflow.keras.models import Sequential\n",
    "from tensorflow.keras.layers import Dense, Activation\n",
    "from tensorflow.keras.optimizers import Adam"
   ]
  },
  {
   "cell_type": "code",
   "execution_count": 38,
   "metadata": {},
   "outputs": [],
   "source": [
    "# having 5 nueron is based on the number of available featurs\n",
    "\n",
    "model = Sequential()\n",
    "\n",
    "model.add(Dense(19,activation='relu'))\n",
    "model.add(Dense(19,activation='relu'))\n",
    "model.add(Dense(19,activation='relu'))\n",
    "model.add(Dense(1))\n",
    "\n",
    "model.compile(optimizer='adam',loss='mse')"
   ]
  },
  {
   "cell_type": "code",
   "execution_count": 56,
   "metadata": {},
   "outputs": [
    {
     "name": "stdout",
     "output_type": "stream",
     "text": [
      "Epoch 1/100\n",
      "22/22 [==============================] - 1s 9ms/step - loss: 2872995969647.3042 - val_loss: 2635020369920.0000\n",
      "Epoch 2/100\n",
      "22/22 [==============================] - 0s 3ms/step - loss: 3002189941537.3911 - val_loss: 2635018272768.0000\n",
      "Epoch 3/100\n",
      "22/22 [==============================] - 0s 3ms/step - loss: 2740009794159.3042 - val_loss: 2635013816320.0000\n",
      "Epoch 4/100\n",
      "22/22 [==============================] - 0s 3ms/step - loss: 2643794916574.6089 - val_loss: 2635003854848.0000\n",
      "Epoch 5/100\n",
      "22/22 [==============================] - 0s 3ms/step - loss: 2716158873065.7393 - val_loss: 2634984456192.0000\n",
      "Epoch 6/100\n",
      "22/22 [==============================] - 0s 3ms/step - loss: 3027751899314.0869 - val_loss: 2634946445312.0000\n",
      "Epoch 7/100\n",
      "22/22 [==============================] - 0s 3ms/step - loss: 3105958737830.9565 - val_loss: 2634880909312.0000\n",
      "Epoch 8/100\n",
      "22/22 [==============================] - 0s 3ms/step - loss: 2928371872278.2607 - val_loss: 2634775003136.0000\n",
      "Epoch 9/100\n",
      "22/22 [==============================] - 0s 3ms/step - loss: 2685403489324.5220 - val_loss: 2634611949568.0000\n",
      "Epoch 10/100\n",
      "22/22 [==============================] - 0s 3ms/step - loss: 2537169269270.2607 - val_loss: 2634368417792.0000\n",
      "Epoch 11/100\n",
      "22/22 [==============================] - 0s 3ms/step - loss: 3231883346632.3477 - val_loss: 2634021076992.0000\n",
      "Epoch 12/100\n",
      "22/22 [==============================] - 0s 3ms/step - loss: 2800099222572.5220 - val_loss: 2633559703552.0000\n",
      "Epoch 13/100\n",
      "22/22 [==============================] - 0s 3ms/step - loss: 2890717325757.2173 - val_loss: 2632938946560.0000\n",
      "Epoch 14/100\n",
      "22/22 [==============================] - 0s 3ms/step - loss: 2976697537402.4346 - val_loss: 2632144912384.0000\n",
      "Epoch 15/100\n",
      "22/22 [==============================] - 0s 3ms/step - loss: 2690947492997.5654 - val_loss: 2631104200704.0000\n",
      "Epoch 16/100\n",
      "22/22 [==============================] - 0s 3ms/step - loss: 3124791618693.5654 - val_loss: 2629865046016.0000\n",
      "Epoch 17/100\n",
      "22/22 [==============================] - 0s 3ms/step - loss: 3584466718898.0869 - val_loss: 2628312104960.0000\n",
      "Epoch 18/100\n",
      "22/22 [==============================] - 0s 3ms/step - loss: 2559447035725.9131 - val_loss: 2626490204160.0000\n",
      "Epoch 19/100\n",
      "22/22 [==============================] - 0s 3ms/step - loss: 2954034265399.6523 - val_loss: 2624225804288.0000\n",
      "Epoch 20/100\n",
      "22/22 [==============================] - 0s 3ms/step - loss: 3456370133081.0435 - val_loss: 2621555867648.0000\n",
      "Epoch 21/100\n",
      "22/22 [==============================] - 0s 3ms/step - loss: 3351527760228.1738 - val_loss: 2618462830592.0000\n",
      "Epoch 22/100\n",
      "22/22 [==============================] - 0s 3ms/step - loss: 2839448524354.7827 - val_loss: 2614863331328.0000\n",
      "Epoch 23/100\n",
      "22/22 [==============================] - 0s 3ms/step - loss: 2957221811066.4346 - val_loss: 2610632589312.0000\n",
      "Epoch 24/100\n",
      "22/22 [==============================] - 0s 3ms/step - loss: 3143330032061.2173 - val_loss: 2605734952960.0000\n",
      "Epoch 25/100\n",
      "22/22 [==============================] - 0s 3ms/step - loss: 2814846498014.6089 - val_loss: 2600364670976.0000\n",
      "Epoch 26/100\n",
      "22/22 [==============================] - 0s 3ms/step - loss: 3690874000250.4346 - val_loss: 2594152382464.0000\n",
      "Epoch 27/100\n",
      "22/22 [==============================] - 0s 3ms/step - loss: 2834871136790.2607 - val_loss: 2587456700416.0000\n",
      "Epoch 28/100\n",
      "22/22 [==============================] - 0s 3ms/step - loss: 2912297783474.0869 - val_loss: 2579765395456.0000\n",
      "Epoch 29/100\n",
      "22/22 [==============================] - 0s 3ms/step - loss: 2849062119869.2173 - val_loss: 2571315970048.0000\n",
      "Epoch 30/100\n",
      "22/22 [==============================] - 0s 3ms/step - loss: 2786528586173.2173 - val_loss: 2561669070848.0000\n",
      "Epoch 31/100\n",
      "22/22 [==============================] - 0s 3ms/step - loss: 2905555285926.9565 - val_loss: 2551497621504.0000\n",
      "Epoch 32/100\n",
      "22/22 [==============================] - 0s 3ms/step - loss: 2663872046836.8696 - val_loss: 2540409716736.0000\n",
      "Epoch 33/100\n",
      "22/22 [==============================] - 0s 3ms/step - loss: 2869434355890.0869 - val_loss: 2528253837312.0000\n",
      "Epoch 34/100\n",
      "22/22 [==============================] - 0s 3ms/step - loss: 2983768472887.6523 - val_loss: 2515087917056.0000\n",
      "Epoch 35/100\n",
      "22/22 [==============================] - 0s 3ms/step - loss: 2575750130109.2173 - val_loss: 2501243043840.0000\n",
      "Epoch 36/100\n",
      "22/22 [==============================] - 0s 3ms/step - loss: 2981467236084.8696 - val_loss: 2485783101440.0000\n",
      "Epoch 37/100\n",
      "22/22 [==============================] - 0s 3ms/step - loss: 2613438213965.9131 - val_loss: 2469625593856.0000\n",
      "Epoch 38/100\n",
      "22/22 [==============================] - 0s 3ms/step - loss: 2985843809947.8262 - val_loss: 2452123549696.0000\n",
      "Epoch 39/100\n",
      "22/22 [==============================] - 0s 3ms/step - loss: 2852561047017.7393 - val_loss: 2433319174144.0000\n",
      "Epoch 40/100\n",
      "22/22 [==============================] - 0s 3ms/step - loss: 2642567968678.9565 - val_loss: 2413517078528.0000\n",
      "Epoch 41/100\n",
      "22/22 [==============================] - 0s 3ms/step - loss: 2221609679471.3042 - val_loss: 2393114673152.0000\n",
      "Epoch 42/100\n",
      "22/22 [==============================] - 0s 3ms/step - loss: 2637959243508.8696 - val_loss: 2370473820160.0000\n",
      "Epoch 43/100\n",
      "22/22 [==============================] - 0s 3ms/step - loss: 2384344206825.7393 - val_loss: 2346868277248.0000\n",
      "Epoch 44/100\n",
      "22/22 [==============================] - 0s 3ms/step - loss: 2934983941787.8262 - val_loss: 2321571905536.0000\n",
      "Epoch 45/100\n",
      "22/22 [==============================] - 0s 3ms/step - loss: 3260659087270.9565 - val_loss: 2295226957824.0000\n",
      "Epoch 46/100\n",
      "22/22 [==============================] - 0s 3ms/step - loss: 2469267790091.1304 - val_loss: 2268360081408.0000\n",
      "Epoch 47/100\n",
      "22/22 [==============================] - 0s 3ms/step - loss: 2138162297455.3044 - val_loss: 2240823689216.0000\n",
      "Epoch 48/100\n",
      "22/22 [==============================] - 0s 3ms/step - loss: 2662639582519.6523 - val_loss: 2210329526272.0000\n",
      "Epoch 49/100\n",
      "22/22 [==============================] - 0s 3ms/step - loss: 2621178790600.3477 - val_loss: 2178993225728.0000\n",
      "Epoch 50/100\n",
      "22/22 [==============================] - 0s 3ms/step - loss: 2040023898379.1304 - val_loss: 2148404953088.0000\n",
      "Epoch 51/100\n",
      "22/22 [==============================] - 0s 3ms/step - loss: 2715005165924.1738 - val_loss: 2114049146880.0000\n",
      "Epoch 52/100\n",
      "22/22 [==============================] - 0s 3ms/step - loss: 2152855611124.8696 - val_loss: 2081020182528.0000\n",
      "Epoch 53/100\n",
      "22/22 [==============================] - 0s 3ms/step - loss: 3045521837545.7393 - val_loss: 2045782654976.0000\n",
      "Epoch 54/100\n",
      "22/22 [==============================] - 0s 3ms/step - loss: 2293734207309.9131 - val_loss: 2011486355456.0000\n",
      "Epoch 55/100\n",
      "22/22 [==============================] - 0s 4ms/step - loss: 2928424529029.5654 - val_loss: 1975008493568.0000\n",
      "Epoch 56/100\n",
      "22/22 [==============================] - 0s 3ms/step - loss: 2327661208620.5220 - val_loss: 1938640470016.0000\n",
      "Epoch 57/100\n",
      "22/22 [==============================] - 0s 3ms/step - loss: 2379787414661.5654 - val_loss: 1900974964736.0000\n",
      "Epoch 58/100\n",
      "22/22 [==============================] - 0s 3ms/step - loss: 2798647463401.7393 - val_loss: 1862218153984.0000\n",
      "Epoch 59/100\n",
      "22/22 [==============================] - 0s 3ms/step - loss: 2264351443745.3911 - val_loss: 1826164834304.0000\n",
      "Epoch 60/100\n",
      "22/22 [==============================] - 0s 3ms/step - loss: 1713840752016.6956 - val_loss: 1787409858560.0000\n",
      "Epoch 61/100\n",
      "22/22 [==============================] - 0s 3ms/step - loss: 1912434441527.6521 - val_loss: 1747696353280.0000\n",
      "Epoch 62/100\n",
      "22/22 [==============================] - 0s 3ms/step - loss: 1987947072289.3914 - val_loss: 1708759056384.0000\n",
      "Epoch 63/100\n",
      "22/22 [==============================] - 0s 3ms/step - loss: 1836280817396.8696 - val_loss: 1669012127744.0000\n",
      "Epoch 64/100\n",
      "22/22 [==============================] - 0s 3ms/step - loss: 2228469332591.3042 - val_loss: 1629732077568.0000\n",
      "Epoch 65/100\n",
      "22/22 [==============================] - 0s 3ms/step - loss: 1624778795453.2173 - val_loss: 1591256547328.0000\n",
      "Epoch 66/100\n",
      "22/22 [==============================] - 0s 3ms/step - loss: 1664079053512.3479 - val_loss: 1552812867584.0000\n",
      "Epoch 67/100\n",
      "22/22 [==============================] - 0s 3ms/step - loss: 1599720649950.6086 - val_loss: 1514781933568.0000\n",
      "Epoch 68/100\n",
      "22/22 [==============================] - 0s 3ms/step - loss: 1910095652596.8696 - val_loss: 1476215308288.0000\n",
      "Epoch 69/100\n",
      "22/22 [==============================] - 0s 3ms/step - loss: 1723832980346.4348 - val_loss: 1439159943168.0000\n",
      "Epoch 70/100\n",
      "22/22 [==============================] - 0s 4ms/step - loss: 1614227795789.9131 - val_loss: 1403411103744.0000\n",
      "Epoch 71/100\n",
      "22/22 [==============================] - 0s 3ms/step - loss: 1269428387840.0000 - val_loss: 1369873973248.0000\n",
      "Epoch 72/100\n",
      "22/22 [==============================] - 0s 3ms/step - loss: 1633060360370.0869 - val_loss: 1331986694144.0000\n",
      "Epoch 73/100\n",
      "22/22 [==============================] - 0s 3ms/step - loss: 1574404950817.3914 - val_loss: 1298890883072.0000\n",
      "Epoch 74/100\n",
      "22/22 [==============================] - 0s 3ms/step - loss: 1736132577369.0435 - val_loss: 1266426052608.0000\n",
      "Epoch 75/100\n",
      "22/22 [==============================] - 0s 3ms/step - loss: 1235424495705.0435 - val_loss: 1235822444544.0000\n",
      "Epoch 76/100\n",
      "22/22 [==============================] - 0s 3ms/step - loss: 1698209367440.6956 - val_loss: 1203354730496.0000\n",
      "Epoch 77/100\n",
      "22/22 [==============================] - 0s 3ms/step - loss: 1328143116020.8696 - val_loss: 1175048159232.0000\n",
      "Epoch 78/100\n",
      "22/22 [==============================] - 0s 3ms/step - loss: 1701474433647.3044 - val_loss: 1147137032192.0000\n",
      "Epoch 79/100\n",
      "22/22 [==============================] - 0s 3ms/step - loss: 1364872547817.7390 - val_loss: 1120253378560.0000\n",
      "Epoch 80/100\n",
      "22/22 [==============================] - 0s 3ms/step - loss: 1292717554287.3044 - val_loss: 1096546910208.0000\n",
      "Epoch 81/100\n",
      "22/22 [==============================] - 0s 3ms/step - loss: 1137937943329.3914 - val_loss: 1072900079616.0000\n",
      "Epoch 82/100\n",
      "22/22 [==============================] - 0s 3ms/step - loss: 1198202686241.3914 - val_loss: 1049706823680.0000\n",
      "Epoch 83/100\n",
      "22/22 [==============================] - 0s 4ms/step - loss: 1201135507723.1304 - val_loss: 1029385879552.0000\n",
      "Epoch 84/100\n",
      "22/22 [==============================] - 0s 3ms/step - loss: 1566019505641.7390 - val_loss: 1008268410880.0000\n",
      "Epoch 85/100\n",
      "22/22 [==============================] - 0s 3ms/step - loss: 1087592836229.5652 - val_loss: 990408933376.0000\n",
      "Epoch 86/100\n",
      "22/22 [==============================] - 0s 3ms/step - loss: 1441328076354.7827 - val_loss: 973391659008.0000\n",
      "Epoch 87/100\n",
      "22/22 [==============================] - 0s 3ms/step - loss: 1079748581643.1305 - val_loss: 955938439168.0000\n",
      "Epoch 88/100\n",
      "22/22 [==============================] - 0s 3ms/step - loss: 996597611831.6522 - val_loss: 941552435200.0000\n",
      "Epoch 89/100\n",
      "22/22 [==============================] - 0s 3ms/step - loss: 951923719479.6522 - val_loss: 926817058816.0000\n",
      "Epoch 90/100\n",
      "22/22 [==============================] - 0s 3ms/step - loss: 1164292878157.9131 - val_loss: 913106141184.0000\n",
      "Epoch 91/100\n",
      "22/22 [==============================] - 0s 3ms/step - loss: 899647155333.5652 - val_loss: 901881397248.0000\n",
      "Epoch 92/100\n",
      "22/22 [==============================] - 0s 3ms/step - loss: 932069538415.3043 - val_loss: 891456454656.0000\n",
      "Epoch 93/100\n",
      "22/22 [==============================] - 0s 3ms/step - loss: 969748709376.0000 - val_loss: 880667918336.0000\n",
      "Epoch 94/100\n",
      "22/22 [==============================] - 0s 3ms/step - loss: 1318412020157.2173 - val_loss: 870024413184.0000\n",
      "Epoch 95/100\n",
      "22/22 [==============================] - 0s 3ms/step - loss: 1747951282621.2173 - val_loss: 861111189504.0000\n",
      "Epoch 96/100\n",
      "22/22 [==============================] - 0s 3ms/step - loss: 996578852864.0000 - val_loss: 854160900096.0000\n",
      "Epoch 97/100\n",
      "22/22 [==============================] - 0s 3ms/step - loss: 969479937691.8260 - val_loss: 845960839168.0000\n",
      "Epoch 98/100\n",
      "22/22 [==============================] - 0s 3ms/step - loss: 1311894114482.0869 - val_loss: 838824493056.0000\n",
      "Epoch 99/100\n",
      "22/22 [==============================] - 0s 3ms/step - loss: 904419526745.0435 - val_loss: 833011056640.0000\n",
      "Epoch 100/100\n",
      "22/22 [==============================] - 0s 3ms/step - loss: 857332298262.2609 - val_loss: 827294744576.0000\n"
     ]
    },
    {
     "data": {
      "text/plain": [
       "<tensorflow.python.keras.callbacks.History at 0x1a0c5fe8688>"
      ]
     },
     "execution_count": 56,
     "metadata": {},
     "output_type": "execute_result"
    }
   ],
   "source": [
    "#Training model\n",
    "model.fit(x=X_train,y=y_train,\n",
    "          validation_data=(X_test,y_test),\n",
    "          batch_size=128,epochs=100,callbacks=[keras.callbacks.EarlyStopping(patience=5)])"
   ]
  },
  {
   "cell_type": "code",
   "execution_count": 57,
   "metadata": {},
   "outputs": [
    {
     "name": "stdout",
     "output_type": "stream",
     "text": [
      "Model: \"sequential_5\"\n",
      "_________________________________________________________________\n",
      "Layer (type)                 Output Shape              Param #   \n",
      "=================================================================\n",
      "dense_20 (Dense)             (None, 19)                114       \n",
      "_________________________________________________________________\n",
      "dense_21 (Dense)             (None, 19)                380       \n",
      "_________________________________________________________________\n",
      "dense_22 (Dense)             (None, 19)                380       \n",
      "_________________________________________________________________\n",
      "dense_23 (Dense)             (None, 1)                 20        \n",
      "=================================================================\n",
      "Total params: 894\n",
      "Trainable params: 894\n",
      "Non-trainable params: 0\n",
      "_________________________________________________________________\n"
     ]
    }
   ],
   "source": [
    "model.summary()"
   ]
  },
  {
   "cell_type": "code",
   "execution_count": 59,
   "metadata": {},
   "outputs": [
    {
     "data": {
      "text/plain": [
       "<matplotlib.axes._subplots.AxesSubplot at 0x1a0c291cb88>"
      ]
     },
     "execution_count": 59,
     "metadata": {},
     "output_type": "execute_result"
    },
    {
     "data": {
      "image/png": "[encoded data removed]",
      "text/plain": [
       "<Figure size 864x576 with 1 Axes>"
      ]
     },
     "metadata": {},
     "output_type": "display_data"
    }
   ],
   "source": [
    "loss_df = pd.DataFrame(model.history.history)\n",
    "loss_df.plot(figsize=(12,8))"
   ]
  },
  {
   "cell_type": "code",
   "execution_count": 61,
   "metadata": {},
   "outputs": [],
   "source": [
    "y_pred_nn = model.predict(X_test)"
   ]
  },
  {
   "cell_type": "code",
   "execution_count": 62,
   "metadata": {},
   "outputs": [
    {
     "data": {
      "text/html": [
       "<div>\n",
       "<style scoped>\n",
       "    .dataframe tbody tr th:only-of-type {\n",
       "        vertical-align: middle;\n",
       "    }\n",
       "\n",
       "    .dataframe tbody tr th {\n",
       "        vertical-align: top;\n",
       "    }\n",
       "\n",
       "    .dataframe thead th {\n",
       "        text-align: right;\n",
       "    }\n",
       "</style>\n",
       "<table border=\"1\" class=\"dataframe\">\n",
       "  <thead>\n",
       "    <tr style=\"text-align: right;\">\n",
       "      <th></th>\n",
       "      <th>Actual</th>\n",
       "      <th>Predicted</th>\n",
       "    </tr>\n",
       "  </thead>\n",
       "  <tbody>\n",
       "    <tr>\n",
       "      <th>0</th>\n",
       "      <td>1250000</td>\n",
       "      <td>1.999642e+06</td>\n",
       "    </tr>\n",
       "    <tr>\n",
       "      <th>1</th>\n",
       "      <td>750000</td>\n",
       "      <td>1.108105e+06</td>\n",
       "    </tr>\n",
       "    <tr>\n",
       "      <th>2</th>\n",
       "      <td>2160000</td>\n",
       "      <td>2.286012e+06</td>\n",
       "    </tr>\n",
       "    <tr>\n",
       "      <th>3</th>\n",
       "      <td>920000</td>\n",
       "      <td>1.399684e+06</td>\n",
       "    </tr>\n",
       "    <tr>\n",
       "      <th>4</th>\n",
       "      <td>500000</td>\n",
       "      <td>1.084565e+06</td>\n",
       "    </tr>\n",
       "    <tr>\n",
       "      <th>5</th>\n",
       "      <td>1007000</td>\n",
       "      <td>7.549936e+05</td>\n",
       "    </tr>\n",
       "    <tr>\n",
       "      <th>6</th>\n",
       "      <td>525000</td>\n",
       "      <td>3.948510e+05</td>\n",
       "    </tr>\n",
       "    <tr>\n",
       "      <th>7</th>\n",
       "      <td>950000</td>\n",
       "      <td>1.692402e+06</td>\n",
       "    </tr>\n",
       "    <tr>\n",
       "      <th>8</th>\n",
       "      <td>1417675</td>\n",
       "      <td>1.355989e+06</td>\n",
       "    </tr>\n",
       "    <tr>\n",
       "      <th>9</th>\n",
       "      <td>675000</td>\n",
       "      <td>8.170328e+05</td>\n",
       "    </tr>\n",
       "  </tbody>\n",
       "</table>\n",
       "</div>"
      ],
      "text/plain": [
       "    Actual     Predicted\n",
       "0  1250000  1.999642e+06\n",
       "1   750000  1.108105e+06\n",
       "2  2160000  2.286012e+06\n",
       "3   920000  1.399684e+06\n",
       "4   500000  1.084565e+06\n",
       "5  1007000  7.549936e+05\n",
       "6   525000  3.948510e+05\n",
       "7   950000  1.692402e+06\n",
       "8  1417675  1.355989e+06\n",
       "9   675000  8.170328e+05"
      ]
     },
     "execution_count": 62,
     "metadata": {},
     "output_type": "execute_result"
    }
   ],
   "source": [
    "df2 = pd.DataFrame({'Actual': y_test.ravel(), 'Predicted': y_pred_nn.ravel()})\n",
    "df2 = df.head(10)\n",
    "df2"
   ]
  },
  {
   "cell_type": "code",
   "execution_count": 63,
   "metadata": {},
   "outputs": [
    {
     "data": {
      "text/plain": [
       "<matplotlib.axes._subplots.AxesSubplot at 0x1a0c5e832c8>"
      ]
     },
     "execution_count": 63,
     "metadata": {},
     "output_type": "execute_result"
    },
    {
     "data": {
      "image/png": "[encoded data removed]",
      "text/plain": [
       "<Figure size 432x288 with 1 Axes>"
      ]
     },
     "metadata": {},
     "output_type": "display_data"
    }
   ],
   "source": [
    "df2.plot()"
   ]
  },
  {
   "cell_type": "code",
   "execution_count": 64,
   "metadata": {},
   "outputs": [
    {
     "name": "stdout",
     "output_type": "stream",
     "text": [
      "Train Accuracy Score 0.50\n",
      "Test Accuracy Score 0.50\n",
      "Mean Absolute Error: 439639.57\n",
      "Mean Squared Error: 827294676296.70\n",
      "Root Mean Squared Error: 909557.41\n"
     ]
    }
   ],
   "source": [
    "y_pred_nn = model.predict(X_test)\n",
    "from sklearn import metrics\n",
    "\n",
    "print(\"Train Accuracy Score {:.2f}\".format(regressor.score(X_train,y_train)))\n",
    "print(\"Test Accuracy Score {:.2f}\".format(regressor.score(X_test, y_test)))\n",
    "print('Mean Absolute Error: {:.2f}'.format(metrics.mean_absolute_error(y_test, y_pred_nn)))\n",
    "print('Mean Squared Error: {:.2f}'.format(metrics.mean_squared_error(y_test, y_pred_nn)))\n",
    "print('Root Mean Squared Error: {:.2f}'.format(np.sqrt(metrics.mean_squared_error(y_test, y_pred_nn))))\n"
   ]
  },
  {
   "cell_type": "markdown",
   "metadata": {},
   "source": [
    "## Method3: Random Forest Regressor"
   ]
  },
  {
   "cell_type": "code",
   "execution_count": 65,
   "metadata": {},
   "outputs": [
    {
     "data": {
      "text/plain": [
       "RandomForestRegressor(n_estimators=200, random_state=0)"
      ]
     },
     "execution_count": 65,
     "metadata": {},
     "output_type": "execute_result"
    }
   ],
   "source": [
    "from sklearn.ensemble import RandomForestRegressor\n",
    "\n",
    "regressor = RandomForestRegressor(n_estimators=200, random_state=0)\n",
    "\n",
    "regressor.fit(X_train, y_train)\n"
   ]
  },
  {
   "cell_type": "code",
   "execution_count": 67,
   "metadata": {},
   "outputs": [
    {
     "data": {
      "text/html": [
       "<div>\n",
       "<style scoped>\n",
       "    .dataframe tbody tr th:only-of-type {\n",
       "        vertical-align: middle;\n",
       "    }\n",
       "\n",
       "    .dataframe tbody tr th {\n",
       "        vertical-align: top;\n",
       "    }\n",
       "\n",
       "    .dataframe thead th {\n",
       "        text-align: right;\n",
       "    }\n",
       "</style>\n",
       "<table border=\"1\" class=\"dataframe\">\n",
       "  <thead>\n",
       "    <tr style=\"text-align: right;\">\n",
       "      <th></th>\n",
       "      <th>Actual</th>\n",
       "      <th>Predicted</th>\n",
       "    </tr>\n",
       "  </thead>\n",
       "  <tbody>\n",
       "    <tr>\n",
       "      <th>0</th>\n",
       "      <td>1250000</td>\n",
       "      <td>1.999642e+06</td>\n",
       "    </tr>\n",
       "    <tr>\n",
       "      <th>1</th>\n",
       "      <td>750000</td>\n",
       "      <td>1.108105e+06</td>\n",
       "    </tr>\n",
       "    <tr>\n",
       "      <th>2</th>\n",
       "      <td>2160000</td>\n",
       "      <td>2.286012e+06</td>\n",
       "    </tr>\n",
       "    <tr>\n",
       "      <th>3</th>\n",
       "      <td>920000</td>\n",
       "      <td>1.399684e+06</td>\n",
       "    </tr>\n",
       "    <tr>\n",
       "      <th>4</th>\n",
       "      <td>500000</td>\n",
       "      <td>1.084565e+06</td>\n",
       "    </tr>\n",
       "    <tr>\n",
       "      <th>5</th>\n",
       "      <td>1007000</td>\n",
       "      <td>7.549936e+05</td>\n",
       "    </tr>\n",
       "    <tr>\n",
       "      <th>6</th>\n",
       "      <td>525000</td>\n",
       "      <td>3.948510e+05</td>\n",
       "    </tr>\n",
       "    <tr>\n",
       "      <th>7</th>\n",
       "      <td>950000</td>\n",
       "      <td>1.692402e+06</td>\n",
       "    </tr>\n",
       "    <tr>\n",
       "      <th>8</th>\n",
       "      <td>1417675</td>\n",
       "      <td>1.355989e+06</td>\n",
       "    </tr>\n",
       "    <tr>\n",
       "      <th>9</th>\n",
       "      <td>675000</td>\n",
       "      <td>8.170328e+05</td>\n",
       "    </tr>\n",
       "  </tbody>\n",
       "</table>\n",
       "</div>"
      ],
      "text/plain": [
       "    Actual     Predicted\n",
       "0  1250000  1.999642e+06\n",
       "1   750000  1.108105e+06\n",
       "2  2160000  2.286012e+06\n",
       "3   920000  1.399684e+06\n",
       "4   500000  1.084565e+06\n",
       "5  1007000  7.549936e+05\n",
       "6   525000  3.948510e+05\n",
       "7   950000  1.692402e+06\n",
       "8  1417675  1.355989e+06\n",
       "9   675000  8.170328e+05"
      ]
     },
     "execution_count": 67,
     "metadata": {},
     "output_type": "execute_result"
    }
   ],
   "source": [
    "y_pred_forest = regressor.predict(X_test)\n",
    "df3 = pd.DataFrame({'Actual': y_test, 'Predicted': y_pred_forest})\n",
    "df3 = df.head(10)\n",
    "df3"
   ]
  },
  {
   "cell_type": "code",
   "execution_count": 68,
   "metadata": {},
   "outputs": [
    {
     "data": {
      "text/plain": [
       "<matplotlib.axes._subplots.AxesSubplot at 0x1a0c3f76e88>"
      ]
     },
     "execution_count": 68,
     "metadata": {},
     "output_type": "execute_result"
    },
    {
     "data": {
      "image/png": "[encoded data removed]",
      "text/plain": [
       "<Figure size 432x288 with 1 Axes>"
      ]
     },
     "metadata": {},
     "output_type": "display_data"
    }
   ],
   "source": [
    "df3.plot()"
   ]
  },
  {
   "cell_type": "code",
   "execution_count": 69,
   "metadata": {},
   "outputs": [
    {
     "name": "stdout",
     "output_type": "stream",
     "text": [
      "Train Accuracy Score 0.93\n",
      "Test Accuracy Score 0.58\n",
      "Mean Absolute Error: 439639.57\n",
      "Mean Squared Error: 827294676296.70\n",
      "Root Mean Squared Error: 909557.41\n"
     ]
    }
   ],
   "source": [
    "y_pred_forest = model.predict(X_test)\n",
    "from sklearn import metrics\n",
    "\n",
    "print(\"Train Accuracy Score {:.2f}\".format(regressor.score(X_train,y_train)))\n",
    "print(\"Test Accuracy Score {:.2f}\".format(regressor.score(X_test, y_test)))\n",
    "print('Mean Absolute Error: {:.2f}'.format(metrics.mean_absolute_error(y_test, y_pred_forest)))\n",
    "print('Mean Squared Error: {:.2f}'.format(metrics.mean_squared_error(y_test, y_pred_forest)))\n",
    "print('Root Mean Squared Error: {:.2f}'.format(np.sqrt(metrics.mean_squared_error(y_test, y_pred_forest))))\n"
   ]
  },
  {
   "cell_type": "code",
   "execution_count": 70,
   "metadata": {},
   "outputs": [
    {
     "name": "stdout",
     "output_type": "stream",
     "text": [
      "Model: Linear Regression\n",
      "\n",
      "Mean Absolute Error(MAE): 420131.53\n",
      "Mean Squared Error(MSE): 663699870255.79\n",
      "Root Mean Squared Error(RMSE): 814677.77\n",
      "*********************************\n",
      "\n",
      "Model: Neural Network\n",
      "\n",
      "Mean Absolute Error(MAE): 439639.57\n",
      "Mean Squared Error(MSE):827294676296.70\n",
      "Root Mean Squared Error(RMSE):909557.41\n",
      "*********************************\n",
      "\n",
      "Model: Random Forest\n",
      "\n",
      "Mean Absolute Error(MAE): 439639.57\n",
      "Mean Squared Error(MSE):827294676296.70\n",
      "Root Mean Squared Error(RMSE):909557.41\n"
     ]
    }
   ],
   "source": [
    "print('Model: Linear Regression\\n')\n",
    "\n",
    "print('Mean Absolute Error(MAE): {:.2f}'.format(metrics.mean_absolute_error(y_test, y_pred_lr)))\n",
    "print('Mean Squared Error(MSE): {:.2f}'.format(metrics.mean_squared_error(y_test, y_pred_lr)))\n",
    "print('Root Mean Squared Error(RMSE): {:.2f}'.format(np.sqrt(metrics.mean_squared_error(y_test, y_pred_lr))))\n",
    "print('*********************************\\n')\n",
    "print('Model: Neural Network\\n')\n",
    "print('Mean Absolute Error(MAE): {:.2f}'.format(metrics.mean_absolute_error(y_test, y_pred_nn))) \n",
    "print('Mean Squared Error(MSE):{:.2f}'.format(metrics.mean_squared_error(y_test, y_pred_nn)))  \n",
    "print('Root Mean Squared Error(RMSE):{:.2f}'.format(np.sqrt(metrics.mean_squared_error(y_test, y_pred_nn))))\n",
    "print('*********************************\\n')\n",
    "print('Model: Random Forest\\n')\n",
    "print('Mean Absolute Error(MAE): {:.2f}'.format(metrics.mean_absolute_error(y_test, y_pred_forest))) \n",
    "print('Mean Squared Error(MSE):{:.2f}'.format(metrics.mean_squared_error(y_test, y_pred_forest)))  \n",
    "print('Root Mean Squared Error(RMSE):{:.2f}'.format(np.sqrt(metrics.mean_squared_error(y_test, y_pred_forest))))\n"
   ]
  },
  {
   "cell_type": "code",
   "execution_count": null,
   "metadata": {},
   "outputs": [],
   "source": []
  }
 ],
 "metadata": {
  "kernelspec": {
   "display_name": "Python 3",
   "language": "python",
   "name": "python3"
  },
  "language_info": {
   "codemirror_mode": {
    "name": "ipython",
    "version": 3
   },
   "file_extension": ".py",
   "mimetype": "text/x-python",
   "name": "python",
   "nbconvert_exporter": "python",
   "pygments_lexer": "ipython3",
   "version": "3.7.9"
  }
 },
 "nbformat": 4,
 "nbformat_minor": 4
}
