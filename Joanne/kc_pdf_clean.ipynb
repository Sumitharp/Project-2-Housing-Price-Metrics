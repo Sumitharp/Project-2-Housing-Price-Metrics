{
 "cells": [
  {
   "cell_type": "code",
   "execution_count": 1,
   "metadata": {},
   "outputs": [
    {
     "name": "stderr",
     "output_type": "stream",
     "text": [
      "\n",
      "Bad key \"text.kerning_factor\" on line 4 in\n",
      "C:\\Users\\Joanne\\anaconda3\\envs\\dev\\lib\\site-packages\\matplotlib\\mpl-data\\stylelib\\_classic_test_patch.mplstyle.\n",
      "You probably need to get an updated matplotlibrc file from\n",
      "http://github.com/matplotlib/matplotlib/blob/master/matplotlibrc.template\n",
      "or from the matplotlib source distribution\n"
     ]
    }
   ],
   "source": [
    "# Import libary and dependencies\n",
    "import tensorflow as tf\n",
    "from tensorflow import keras\n",
    "from tensorflow.keras import layers\n",
    "import pandas as pd\n",
    "import numpy as np\n",
    "import matplotlib.pyplot as plt\n",
    "import seaborn as sns"
   ]
  },
  {
   "cell_type": "code",
   "execution_count": 2,
   "metadata": {},
   "outputs": [
    {
     "data": {
      "text/html": [
       "<div>\n",
       "<style scoped>\n",
       "    .dataframe tbody tr th:only-of-type {\n",
       "        vertical-align: middle;\n",
       "    }\n",
       "\n",
       "    .dataframe tbody tr th {\n",
       "        vertical-align: top;\n",
       "    }\n",
       "\n",
       "    .dataframe thead th {\n",
       "        text-align: right;\n",
       "    }\n",
       "</style>\n",
       "<table border=\"1\" class=\"dataframe\">\n",
       "  <thead>\n",
       "    <tr style=\"text-align: right;\">\n",
       "      <th></th>\n",
       "      <th>Status</th>\n",
       "      <th>ZipCode</th>\n",
       "      <th>City</th>\n",
       "      <th>Price</th>\n",
       "      <th>Days_on_market</th>\n",
       "      <th>Beds</th>\n",
       "      <th>Baths</th>\n",
       "      <th>Sqft</th>\n",
       "      <th>Date</th>\n",
       "      <th>Acres</th>\n",
       "      <th>Lot_sqft</th>\n",
       "      <th>Liv_index</th>\n",
       "    </tr>\n",
       "  </thead>\n",
       "  <tbody>\n",
       "    <tr>\n",
       "      <th>0</th>\n",
       "      <td>A</td>\n",
       "      <td>98001</td>\n",
       "      <td>Auburn</td>\n",
       "      <td>725000</td>\n",
       "      <td>4</td>\n",
       "      <td>3</td>\n",
       "      <td>0.00</td>\n",
       "      <td>3060</td>\n",
       "      <td>5/26/2021</td>\n",
       "      <td>0.227</td>\n",
       "      <td>9894</td>\n",
       "      <td>68</td>\n",
       "    </tr>\n",
       "    <tr>\n",
       "      <th>1</th>\n",
       "      <td>A</td>\n",
       "      <td>98001</td>\n",
       "      <td>Auburn</td>\n",
       "      <td>300000</td>\n",
       "      <td>4</td>\n",
       "      <td>2</td>\n",
       "      <td>1.00</td>\n",
       "      <td>920</td>\n",
       "      <td>5/26/2021</td>\n",
       "      <td>0.164</td>\n",
       "      <td>7150</td>\n",
       "      <td>68</td>\n",
       "    </tr>\n",
       "    <tr>\n",
       "      <th>2</th>\n",
       "      <td>S</td>\n",
       "      <td>98001</td>\n",
       "      <td>Auburn</td>\n",
       "      <td>555000</td>\n",
       "      <td>3</td>\n",
       "      <td>2</td>\n",
       "      <td>1.00</td>\n",
       "      <td>1196</td>\n",
       "      <td>5/7/2021</td>\n",
       "      <td>0.544</td>\n",
       "      <td>23689</td>\n",
       "      <td>68</td>\n",
       "    </tr>\n",
       "    <tr>\n",
       "      <th>3</th>\n",
       "      <td>A</td>\n",
       "      <td>98001</td>\n",
       "      <td>Auburn</td>\n",
       "      <td>1300000</td>\n",
       "      <td>220</td>\n",
       "      <td>4</td>\n",
       "      <td>1.75</td>\n",
       "      <td>2850</td>\n",
       "      <td>10/22/2020</td>\n",
       "      <td>6.000</td>\n",
       "      <td>261360</td>\n",
       "      <td>68</td>\n",
       "    </tr>\n",
       "    <tr>\n",
       "      <th>4</th>\n",
       "      <td>S</td>\n",
       "      <td>98001</td>\n",
       "      <td>Auburn</td>\n",
       "      <td>250000</td>\n",
       "      <td>46</td>\n",
       "      <td>2</td>\n",
       "      <td>1.50</td>\n",
       "      <td>1200</td>\n",
       "      <td>5/20/2021</td>\n",
       "      <td>0.220</td>\n",
       "      <td>9600</td>\n",
       "      <td>68</td>\n",
       "    </tr>\n",
       "  </tbody>\n",
       "</table>\n",
       "</div>"
      ],
      "text/plain": [
       "  Status  ZipCode    City    Price  Days_on_market  Beds  Baths  Sqft  \\\n",
       "0      A    98001  Auburn   725000               4     3   0.00  3060   \n",
       "1      A    98001  Auburn   300000               4     2   1.00   920   \n",
       "2      S    98001  Auburn   555000               3     2   1.00  1196   \n",
       "3      A    98001  Auburn  1300000             220     4   1.75  2850   \n",
       "4      S    98001  Auburn   250000              46     2   1.50  1200   \n",
       "\n",
       "         Date  Acres  Lot_sqft  Liv_index  \n",
       "0   5/26/2021  0.227      9894         68  \n",
       "1   5/26/2021  0.164      7150         68  \n",
       "2    5/7/2021  0.544     23689         68  \n",
       "3  10/22/2020  6.000    261360         68  \n",
       "4   5/20/2021  0.220      9600         68  "
      ]
     },
     "execution_count": 2,
     "metadata": {},
     "output_type": "execute_result"
    }
   ],
   "source": [
    "# Read the data\n",
    "file_path=('cleaned_data.csv')\n",
    "data=pd.read_csv(file_path, index_col = 0)\n",
    "data.head()"
   ]
  },
  {
   "cell_type": "code",
   "execution_count": 3,
   "metadata": {},
   "outputs": [
    {
     "data": {
      "text/html": [
       "<div>\n",
       "<style scoped>\n",
       "    .dataframe tbody tr th:only-of-type {\n",
       "        vertical-align: middle;\n",
       "    }\n",
       "\n",
       "    .dataframe tbody tr th {\n",
       "        vertical-align: top;\n",
       "    }\n",
       "\n",
       "    .dataframe thead th {\n",
       "        text-align: right;\n",
       "    }\n",
       "</style>\n",
       "<table border=\"1\" class=\"dataframe\">\n",
       "  <thead>\n",
       "    <tr style=\"text-align: right;\">\n",
       "      <th></th>\n",
       "      <th>Price</th>\n",
       "      <th>Beds</th>\n",
       "      <th>Baths</th>\n",
       "      <th>Sqft</th>\n",
       "      <th>Lot_sqft</th>\n",
       "      <th>Liv_index</th>\n",
       "    </tr>\n",
       "  </thead>\n",
       "  <tbody>\n",
       "    <tr>\n",
       "      <th>0</th>\n",
       "      <td>725000</td>\n",
       "      <td>3</td>\n",
       "      <td>0.00</td>\n",
       "      <td>3060</td>\n",
       "      <td>9894</td>\n",
       "      <td>68</td>\n",
       "    </tr>\n",
       "    <tr>\n",
       "      <th>1</th>\n",
       "      <td>300000</td>\n",
       "      <td>2</td>\n",
       "      <td>1.00</td>\n",
       "      <td>920</td>\n",
       "      <td>7150</td>\n",
       "      <td>68</td>\n",
       "    </tr>\n",
       "    <tr>\n",
       "      <th>2</th>\n",
       "      <td>555000</td>\n",
       "      <td>2</td>\n",
       "      <td>1.00</td>\n",
       "      <td>1196</td>\n",
       "      <td>23689</td>\n",
       "      <td>68</td>\n",
       "    </tr>\n",
       "    <tr>\n",
       "      <th>3</th>\n",
       "      <td>1300000</td>\n",
       "      <td>4</td>\n",
       "      <td>1.75</td>\n",
       "      <td>2850</td>\n",
       "      <td>261360</td>\n",
       "      <td>68</td>\n",
       "    </tr>\n",
       "    <tr>\n",
       "      <th>4</th>\n",
       "      <td>250000</td>\n",
       "      <td>2</td>\n",
       "      <td>1.50</td>\n",
       "      <td>1200</td>\n",
       "      <td>9600</td>\n",
       "      <td>68</td>\n",
       "    </tr>\n",
       "  </tbody>\n",
       "</table>\n",
       "</div>"
      ],
      "text/plain": [
       "     Price  Beds  Baths  Sqft  Lot_sqft  Liv_index\n",
       "0   725000     3   0.00  3060      9894         68\n",
       "1   300000     2   1.00   920      7150         68\n",
       "2   555000     2   1.00  1196     23689         68\n",
       "3  1300000     4   1.75  2850    261360         68\n",
       "4   250000     2   1.50  1200      9600         68"
      ]
     },
     "execution_count": 3,
     "metadata": {},
     "output_type": "execute_result"
    }
   ],
   "source": [
    "data = data.drop(columns=[\"Date\",\"Status\",\"ZipCode\",\"City\",\"Acres\",\"Days_on_market\"])\n",
    "data.head()"
   ]
  },
  {
   "cell_type": "code",
   "execution_count": 4,
   "metadata": {},
   "outputs": [
    {
     "name": "stdout",
     "output_type": "stream",
     "text": [
      "<class 'pandas.core.frame.DataFrame'>\n",
      "Int64Index: 4128 entries, 0 to 4187\n",
      "Data columns (total 6 columns):\n",
      " #   Column     Non-Null Count  Dtype  \n",
      "---  ------     --------------  -----  \n",
      " 0   Price      4128 non-null   int64  \n",
      " 1   Beds       4128 non-null   int64  \n",
      " 2   Baths      4128 non-null   float64\n",
      " 3   Sqft       4128 non-null   int64  \n",
      " 4   Lot_sqft   4128 non-null   int64  \n",
      " 5   Liv_index  4128 non-null   int64  \n",
      "dtypes: float64(1), int64(5)\n",
      "memory usage: 225.8 KB\n"
     ]
    }
   ],
   "source": [
    "data.info()"
   ]
  },
  {
   "cell_type": "code",
   "execution_count": 5,
   "metadata": {},
   "outputs": [
    {
     "name": "stdout",
     "output_type": "stream",
     "text": [
      "count         4,128.0\n",
      "mean      1,171,752.0\n",
      "std       1,229,190.1\n",
      "min         139,000.0\n",
      "25%         659,990.0\n",
      "50%         868,222.5\n",
      "75%       1,299,237.5\n",
      "max      27,500,000.0\n",
      "Name: Price, dtype: object\n"
     ]
    }
   ],
   "source": [
    "print(data['Price'].describe().apply(lambda x: '{:,.1f}'.format(x)))"
   ]
  },
  {
   "cell_type": "code",
   "execution_count": 6,
   "metadata": {},
   "outputs": [
    {
     "name": "stderr",
     "output_type": "stream",
     "text": [
      "C:\\Users\\Joanne\\anaconda3\\envs\\dev\\lib\\site-packages\\seaborn\\distributions.py:2551: FutureWarning: `distplot` is a deprecated function and will be removed in a future version. Please adapt your code to use either `displot` (a figure-level function with similar flexibility) or `histplot` (an axes-level function for histograms).\n",
      "  warnings.warn(msg, FutureWarning)\n",
      "C:\\Users\\Joanne\\anaconda3\\envs\\dev\\lib\\site-packages\\matplotlib\\cbook\\__init__.py:1377: FutureWarning: Support for multi-dimensional indexing (e.g. `obj[:, None]`) is deprecated and will be removed in a future version.  Convert to a numpy array before indexing instead.\n",
      "  x[:, None]\n",
      "C:\\Users\\Joanne\\anaconda3\\envs\\dev\\lib\\site-packages\\matplotlib\\axes\\_base.py:237: FutureWarning: Support for multi-dimensional indexing (e.g. `obj[:, None]`) is deprecated and will be removed in a future version.  Convert to a numpy array before indexing instead.\n",
      "  x = x[:, np.newaxis]\n",
      "C:\\Users\\Joanne\\anaconda3\\envs\\dev\\lib\\site-packages\\matplotlib\\axes\\_base.py:239: FutureWarning: Support for multi-dimensional indexing (e.g. `obj[:, None]`) is deprecated and will be removed in a future version.  Convert to a numpy array before indexing instead.\n",
      "  y = y[:, np.newaxis]\n"
     ]
    },
    {
     "data": {
      "image/png": "[encoded data removed]",
      "text/plain": [
       "<Figure size 1008x576 with 1 Axes>"
      ]
     },
     "metadata": {
      "needs_background": "light"
     },
     "output_type": "display_data"
    }
   ],
   "source": [
    "# Sale Price Distribution\n",
    "fig, ax = plt.subplots(figsize=(14,8))\n",
    "sns.set_style(\"whitegrid\")\n",
    "sns.distplot(data['Price'])\n",
    "plt.xlim(0,5000000)\n",
    "plt.show()"
   ]
  },
  {
   "cell_type": "code",
   "execution_count": 7,
   "metadata": {},
   "outputs": [
    {
     "data": {
      "text/plain": [
       "1171752.0479651163"
      ]
     },
     "execution_count": 7,
     "metadata": {},
     "output_type": "execute_result"
    }
   ],
   "source": [
    "data['Price'].mean()"
   ]
  },
  {
   "cell_type": "code",
   "execution_count": 8,
   "metadata": {},
   "outputs": [
    {
     "data": {
      "image/png": "[encoded data removed]",
      "text/plain": [
       "<Figure size 720x1008 with 2 Axes>"
      ]
     },
     "metadata": {},
     "output_type": "display_data"
    }
   ],
   "source": [
    "# Correlation to price value using heatmap\n",
    "fig, ax = plt.subplots(figsize=(10,14))\n",
    "price_corr = data.corr()[['Price']].sort_values(\n",
    "  by='Price', ascending=False)\n",
    "sns.heatmap(price_corr, annot=True, ax=ax); "
   ]
  },
  {
   "cell_type": "code",
   "execution_count": 9,
   "metadata": {},
   "outputs": [
    {
     "name": "stderr",
     "output_type": "stream",
     "text": [
      "C:\\Users\\Joanne\\anaconda3\\envs\\dev\\lib\\site-packages\\seaborn\\_decorators.py:43: FutureWarning: Pass the following variable as a keyword arg: x. From version 0.12, the only valid positional argument will be `data`, and passing other arguments without an explicit keyword will result in an error or misinterpretation.\n",
      "  FutureWarning\n",
      "C:\\Users\\Joanne\\anaconda3\\envs\\dev\\lib\\site-packages\\seaborn\\_decorators.py:43: FutureWarning: Pass the following variable as a keyword arg: x. From version 0.12, the only valid positional argument will be `data`, and passing other arguments without an explicit keyword will result in an error or misinterpretation.\n",
      "  FutureWarning\n",
      "C:\\Users\\Joanne\\anaconda3\\envs\\dev\\lib\\site-packages\\seaborn\\_decorators.py:43: FutureWarning: Pass the following variable as a keyword arg: x. From version 0.12, the only valid positional argument will be `data`, and passing other arguments without an explicit keyword will result in an error or misinterpretation.\n",
      "  FutureWarning\n",
      "C:\\Users\\Joanne\\anaconda3\\envs\\dev\\lib\\site-packages\\matplotlib\\figure.py:2144: UserWarning: This figure was using constrained_layout==True, but that is incompatible with subplots_adjust and or tight_layout: setting constrained_layout==False. \n",
      "  warnings.warn(\"This figure was using constrained_layout==True, \"\n"
     ]
    },
    {
     "data": {
      "image/png": "[encoded data removed]",
      "text/plain": [
       "<Figure size 1440x576 with 3 Axes>"
      ]
     },
     "metadata": {},
     "output_type": "display_data"
    }
   ],
   "source": [
    "#visualizing bedrooms, bathrooms, Livng index\n",
    "fig = plt.figure(figsize=(20,8),constrained_layout=True)\n",
    "fig.add_subplot(2,2,1)\n",
    "sns.countplot(data['Baths'], palette = 'Greens_d')\n",
    "fig.add_subplot(2,2,2)\n",
    "sns.countplot(data['Beds'])\n",
    "fig.add_subplot(2,2,4)\n",
    "sns.countplot(data['Liv_index'])\n",
    "plt.tight_layout()"
   ]
  },
  {
   "cell_type": "code",
   "execution_count": 10,
   "metadata": {},
   "outputs": [
    {
     "name": "stderr",
     "output_type": "stream",
     "text": [
      "C:\\Users\\Joanne\\anaconda3\\envs\\dev\\lib\\site-packages\\seaborn\\_decorators.py:43: FutureWarning: Pass the following variables as keyword args: x, y. From version 0.12, the only valid positional argument will be `data`, and passing other arguments without an explicit keyword will result in an error or misinterpretation.\n",
      "  FutureWarning\n",
      "C:\\Users\\Joanne\\anaconda3\\envs\\dev\\lib\\site-packages\\seaborn\\_decorators.py:43: FutureWarning: Pass the following variables as keyword args: x, y. From version 0.12, the only valid positional argument will be `data`, and passing other arguments without an explicit keyword will result in an error or misinterpretation.\n",
      "  FutureWarning\n"
     ]
    },
    {
     "data": {
      "image/png": "[encoded data removed]",
      "text/plain": [
       "<Figure size 1152x360 with 2 Axes>"
      ]
     },
     "metadata": {},
     "output_type": "display_data"
    }
   ],
   "source": [
    "# sqft liveing and price scatter plot\n",
    "fig = plt.figure(figsize=(16,5))\n",
    "fig.add_subplot(2,2,1)\n",
    "sns.scatterplot(data['Sqft'], data['Price']);\n",
    "fig.add_subplot(2,2,2)\n",
    "sns.scatterplot(data['Lot_sqft'],data['Price']);"
   ]
  },
  {
   "cell_type": "markdown",
   "metadata": {},
   "source": [
    "# Machine Learning"
   ]
  },
  {
   "cell_type": "code",
   "execution_count": 11,
   "metadata": {},
   "outputs": [],
   "source": [
    "# Initial imports\n",
    "import pandas as pd\n",
    "from pathlib import Path\n",
    "from sklearn import tree\n",
    "from sklearn.preprocessing import StandardScaler\n",
    "from sklearn.model_selection import train_test_split\n",
    "# Needed for decision tree visualization\n",
    "import pydotplus\n",
    "from IPython.display import Image"
   ]
  },
  {
   "cell_type": "code",
   "execution_count": 12,
   "metadata": {},
   "outputs": [
    {
     "data": {
      "text/html": [
       "<div>\n",
       "<style scoped>\n",
       "    .dataframe tbody tr th:only-of-type {\n",
       "        vertical-align: middle;\n",
       "    }\n",
       "\n",
       "    .dataframe tbody tr th {\n",
       "        vertical-align: top;\n",
       "    }\n",
       "\n",
       "    .dataframe thead th {\n",
       "        text-align: right;\n",
       "    }\n",
       "</style>\n",
       "<table border=\"1\" class=\"dataframe\">\n",
       "  <thead>\n",
       "    <tr style=\"text-align: right;\">\n",
       "      <th></th>\n",
       "      <th>Price</th>\n",
       "      <th>Beds</th>\n",
       "      <th>Baths</th>\n",
       "      <th>Sqft</th>\n",
       "      <th>Lot_sqft</th>\n",
       "      <th>Liv_index</th>\n",
       "    </tr>\n",
       "  </thead>\n",
       "  <tbody>\n",
       "    <tr>\n",
       "      <th>0</th>\n",
       "      <td>725000</td>\n",
       "      <td>3</td>\n",
       "      <td>0.00</td>\n",
       "      <td>3060</td>\n",
       "      <td>9894</td>\n",
       "      <td>68</td>\n",
       "    </tr>\n",
       "    <tr>\n",
       "      <th>1</th>\n",
       "      <td>300000</td>\n",
       "      <td>2</td>\n",
       "      <td>1.00</td>\n",
       "      <td>920</td>\n",
       "      <td>7150</td>\n",
       "      <td>68</td>\n",
       "    </tr>\n",
       "    <tr>\n",
       "      <th>2</th>\n",
       "      <td>555000</td>\n",
       "      <td>2</td>\n",
       "      <td>1.00</td>\n",
       "      <td>1196</td>\n",
       "      <td>23689</td>\n",
       "      <td>68</td>\n",
       "    </tr>\n",
       "    <tr>\n",
       "      <th>3</th>\n",
       "      <td>1300000</td>\n",
       "      <td>4</td>\n",
       "      <td>1.75</td>\n",
       "      <td>2850</td>\n",
       "      <td>261360</td>\n",
       "      <td>68</td>\n",
       "    </tr>\n",
       "    <tr>\n",
       "      <th>4</th>\n",
       "      <td>250000</td>\n",
       "      <td>2</td>\n",
       "      <td>1.50</td>\n",
       "      <td>1200</td>\n",
       "      <td>9600</td>\n",
       "      <td>68</td>\n",
       "    </tr>\n",
       "  </tbody>\n",
       "</table>\n",
       "</div>"
      ],
      "text/plain": [
       "     Price  Beds  Baths  Sqft  Lot_sqft  Liv_index\n",
       "0   725000     3   0.00  3060      9894         68\n",
       "1   300000     2   1.00   920      7150         68\n",
       "2   555000     2   1.00  1196     23689         68\n",
       "3  1300000     4   1.75  2850    261360         68\n",
       "4   250000     2   1.50  1200      9600         68"
      ]
     },
     "execution_count": 12,
     "metadata": {},
     "output_type": "execute_result"
    }
   ],
   "source": [
    "data.head()"
   ]
  },
  {
   "cell_type": "code",
   "execution_count": 13,
   "metadata": {},
   "outputs": [],
   "source": [
    "# Define the features X set and the target y vector\n",
    "X=data.copy()\n",
    "X = X.drop(columns=['Price'])\n",
    "y = data['Price'].values\n",
    "#splitting Train and Test \n",
    "from sklearn.model_selection import train_test_split\n",
    "X_train, X_test, y_train, y_test = train_test_split(X, y, test_size=0.33, random_state=101)"
   ]
  },
  {
   "cell_type": "code",
   "execution_count": 14,
   "metadata": {},
   "outputs": [],
   "source": [
    "#standardization scaler - fit&transform on train, fit only on test\n",
    "from sklearn.preprocessing import StandardScaler\n",
    "scaler = StandardScaler()\n",
    "X_train = scaler.fit_transform(X_train)\n",
    "X_test = scaler.transform(X_test)"
   ]
  },
  {
   "cell_type": "markdown",
   "metadata": {},
   "source": [
    "## Method1 : Linear Regression"
   ]
  },
  {
   "cell_type": "code",
   "execution_count": 15,
   "metadata": {},
   "outputs": [
    {
     "name": "stdout",
     "output_type": "stream",
     "text": [
      "1185934.250994575\n",
      "[-306737.86442683   77540.75343445  987871.56658412   -3001.80755973\n",
      "   41362.85416336]\n"
     ]
    }
   ],
   "source": [
    "#Liner Regression\n",
    "from sklearn.linear_model import LinearRegression\n",
    "regressor = LinearRegression()  \n",
    "regressor.fit(X_train, y_train)\n",
    "\n",
    "#evaluate the model (intercept and slope)\n",
    "print(regressor.intercept_)\n",
    "print(regressor.coef_)"
   ]
  },
  {
   "cell_type": "code",
   "execution_count": 16,
   "metadata": {},
   "outputs": [
    {
     "data": {
      "text/html": [
       "<div>\n",
       "<style scoped>\n",
       "    .dataframe tbody tr th:only-of-type {\n",
       "        vertical-align: middle;\n",
       "    }\n",
       "\n",
       "    .dataframe tbody tr th {\n",
       "        vertical-align: top;\n",
       "    }\n",
       "\n",
       "    .dataframe thead th {\n",
       "        text-align: right;\n",
       "    }\n",
       "</style>\n",
       "<table border=\"1\" class=\"dataframe\">\n",
       "  <thead>\n",
       "    <tr style=\"text-align: right;\">\n",
       "      <th></th>\n",
       "      <th>Actual</th>\n",
       "      <th>Predicted</th>\n",
       "    </tr>\n",
       "  </thead>\n",
       "  <tbody>\n",
       "    <tr>\n",
       "      <th>0</th>\n",
       "      <td>1250000</td>\n",
       "      <td>1999642.22</td>\n",
       "    </tr>\n",
       "    <tr>\n",
       "      <th>1</th>\n",
       "      <td>750000</td>\n",
       "      <td>1108105.09</td>\n",
       "    </tr>\n",
       "    <tr>\n",
       "      <th>2</th>\n",
       "      <td>2160000</td>\n",
       "      <td>2286012.32</td>\n",
       "    </tr>\n",
       "    <tr>\n",
       "      <th>3</th>\n",
       "      <td>920000</td>\n",
       "      <td>1399684.09</td>\n",
       "    </tr>\n",
       "    <tr>\n",
       "      <th>4</th>\n",
       "      <td>500000</td>\n",
       "      <td>1084565.43</td>\n",
       "    </tr>\n",
       "    <tr>\n",
       "      <th>5</th>\n",
       "      <td>1007000</td>\n",
       "      <td>754993.62</td>\n",
       "    </tr>\n",
       "    <tr>\n",
       "      <th>6</th>\n",
       "      <td>525000</td>\n",
       "      <td>394851.01</td>\n",
       "    </tr>\n",
       "    <tr>\n",
       "      <th>7</th>\n",
       "      <td>950000</td>\n",
       "      <td>1692402.01</td>\n",
       "    </tr>\n",
       "    <tr>\n",
       "      <th>8</th>\n",
       "      <td>1417675</td>\n",
       "      <td>1355989.03</td>\n",
       "    </tr>\n",
       "    <tr>\n",
       "      <th>9</th>\n",
       "      <td>675000</td>\n",
       "      <td>817032.84</td>\n",
       "    </tr>\n",
       "  </tbody>\n",
       "</table>\n",
       "</div>"
      ],
      "text/plain": [
       "    Actual  Predicted\n",
       "0  1250000 1999642.22\n",
       "1   750000 1108105.09\n",
       "2  2160000 2286012.32\n",
       "3   920000 1399684.09\n",
       "4   500000 1084565.43\n",
       "5  1007000  754993.62\n",
       "6   525000  394851.01\n",
       "7   950000 1692402.01\n",
       "8  1417675 1355989.03\n",
       "9   675000  817032.84"
      ]
     },
     "execution_count": 16,
     "metadata": {},
     "output_type": "execute_result"
    }
   ],
   "source": [
    "pd.options.display.float_format = '{:.2f}'.format\n",
    "y_pred_lr = regressor.predict(X_test)\n",
    "df = pd.DataFrame({'Actual': y_test, 'Predicted': y_pred_lr})\n",
    "df_lr = df.head(10)\n",
    "df_lr"
   ]
  },
  {
   "cell_type": "code",
   "execution_count": 75,
   "metadata": {},
   "outputs": [
    {
     "data": {
      "image/png": "[encoded data removed]",
      "text/plain": [
       "<Figure size 432x288 with 1 Axes>"
      ]
     },
     "metadata": {},
     "output_type": "display_data"
    }
   ],
   "source": [
    "df_lr.plot(title = \"Linear Regression Model\");"
   ]
  },
  {
   "cell_type": "code",
   "execution_count": 18,
   "metadata": {},
   "outputs": [
    {
     "name": "stdout",
     "output_type": "stream",
     "text": [
      "Train Accuracy Score 0.50 \n",
      "Test Accuracy Score 0.50 \n",
      "Mean Absolute Error: 420131.53\n",
      "Mean Squared Error:663699870255.79\n",
      "Root Mean Squared Error:814677.77\n"
     ]
    }
   ],
   "source": [
    "from sklearn import metrics\n",
    "\n",
    "print(\"Train Accuracy Score {:.2f} \".format(regressor.score(X_train,y_train)))\n",
    "print(\"Test Accuracy Score {:.2f} \".format(regressor.score(X_test, y_test)))\n",
    "print('Mean Absolute Error: {:.2f}'.format(metrics.mean_absolute_error(y_test, y_pred_lr))) \n",
    "print('Mean Squared Error:{:.2f}'.format(metrics.mean_squared_error(y_test, y_pred_lr)))  \n",
    "print('Root Mean Squared Error:{:.2f}'.format(np.sqrt(metrics.mean_squared_error(y_test, y_pred_lr))))"
   ]
  },
  {
   "cell_type": "markdown",
   "metadata": {},
   "source": [
    "## Method2: Neural Network"
   ]
  },
  {
   "cell_type": "code",
   "execution_count": 19,
   "metadata": {},
   "outputs": [],
   "source": [
    "# Creating a Neural Network Model\n",
    "import keras\n",
    "from tensorflow.keras.models import Sequential\n",
    "from tensorflow.keras.layers import Dense, Activation\n",
    "from tensorflow.keras.optimizers import Adam"
   ]
  },
  {
   "cell_type": "code",
   "execution_count": 20,
   "metadata": {},
   "outputs": [],
   "source": [
    "# having 5 nueron is based on the number of available featurs\n",
    "model = Sequential()\n",
    "\n",
    "model.add(Dense(5,activation='relu'))\n",
    "model.add(Dense(5,activation='relu'))\n",
    "model.add(Dense(5,activation='relu'))\n",
    "model.add(Dense(1))\n",
    "\n",
    "model.compile(optimizer='adam',loss='mse')"
   ]
  },
  {
   "cell_type": "code",
   "execution_count": 21,
   "metadata": {},
   "outputs": [
    {
     "name": "stdout",
     "output_type": "stream",
     "text": [
      "Epoch 1/300\n",
      "22/22 [==============================] - 2s 42ms/step - loss: 2822387098668.5220 - val_loss: 2635022204928.0000\n",
      "Epoch 2/300\n",
      "22/22 [==============================] - 0s 5ms/step - loss: 3031479923222.2607 - val_loss: 2635022204928.0000\n",
      "Epoch 3/300\n",
      "22/22 [==============================] - 0s 5ms/step - loss: 3306691756032.0000 - val_loss: 2635021680640.0000\n",
      "Epoch 4/300\n",
      "22/22 [==============================] - 0s 4ms/step - loss: 2628910927337.7393 - val_loss: 2635021418496.0000\n",
      "Epoch 5/300\n",
      "22/22 [==============================] - 0s 4ms/step - loss: 2941176991209.7393 - val_loss: 2635021418496.0000\n",
      "Epoch 6/300\n",
      "22/22 [==============================] - 0s 4ms/step - loss: 3234531684886.2607 - val_loss: 2635020632064.0000\n",
      "Epoch 7/300\n",
      "22/22 [==============================] - 0s 4ms/step - loss: 2951751840278.2607 - val_loss: 2635019845632.0000\n",
      "Epoch 8/300\n",
      "22/22 [==============================] - 0s 4ms/step - loss: 2903787802802.0869 - val_loss: 2635019059200.0000\n",
      "Epoch 9/300\n",
      "22/22 [==============================] - 0s 5ms/step - loss: 2880024124371.4780 - val_loss: 2635016962048.0000\n",
      "Epoch 10/300\n",
      "22/22 [==============================] - 0s 5ms/step - loss: 2368459539856.6958 - val_loss: 2635014864896.0000\n",
      "Epoch 11/300\n",
      "22/22 [==============================] - 0s 4ms/step - loss: 3232338394423.6523 - val_loss: 2635011719168.0000\n",
      "Epoch 12/300\n",
      "22/22 [==============================] - 0s 4ms/step - loss: 3762983773940.8696 - val_loss: 2635007524864.0000\n",
      "Epoch 13/300\n",
      "22/22 [==============================] - 0s 4ms/step - loss: 3525761712840.3477 - val_loss: 2635001757696.0000\n",
      "Epoch 14/300\n",
      "22/22 [==============================] - 0s 4ms/step - loss: 2791693666393.0435 - val_loss: 2634994941952.0000\n",
      "Epoch 15/300\n",
      "22/22 [==============================] - 0s 4ms/step - loss: 2599838821509.5654 - val_loss: 2634986553344.0000\n",
      "Epoch 16/300\n",
      "22/22 [==============================] - 0s 5ms/step - loss: 2485434780449.3911 - val_loss: 2634975543296.0000\n",
      "Epoch 17/300\n",
      "22/22 [==============================] - 0s 5ms/step - loss: 2757050481975.6523 - val_loss: 2634962698240.0000\n",
      "Epoch 18/300\n",
      "22/22 [==============================] - 0s 4ms/step - loss: 2522528891592.3477 - val_loss: 2634946969600.0000\n",
      "Epoch 19/300\n",
      "22/22 [==============================] - 0s 4ms/step - loss: 3470243454619.8262 - val_loss: 2634928095232.0000\n",
      "Epoch 20/300\n",
      "22/22 [==============================] - 0s 4ms/step - loss: 2800113617697.3911 - val_loss: 2634905026560.0000\n",
      "Epoch 21/300\n",
      "22/22 [==============================] - 0s 4ms/step - loss: 3181074528166.9565 - val_loss: 2634877239296.0000\n",
      "Epoch 22/300\n",
      "22/22 [==============================] - 0s 4ms/step - loss: 3117575483926.2607 - val_loss: 2634843422720.0000\n",
      "Epoch 23/300\n",
      "22/22 [==============================] - 0s 4ms/step - loss: 3396511921374.6089 - val_loss: 2634802790400.0000\n",
      "Epoch 24/300\n",
      "22/22 [==============================] - 0s 5ms/step - loss: 2593735117601.3911 - val_loss: 2634757439488.0000\n",
      "Epoch 25/300\n",
      "22/22 [==============================] - 0s 5ms/step - loss: 2904450696592.6958 - val_loss: 2634702651392.0000\n",
      "Epoch 26/300\n",
      "22/22 [==============================] - 0s 6ms/step - loss: 2658950458501.5654 - val_loss: 2634643406848.0000\n",
      "Epoch 27/300\n",
      "22/22 [==============================] - 0s 4ms/step - loss: 2984284657218.7827 - val_loss: 2634576035840.0000\n",
      "Epoch 28/300\n",
      "22/22 [==============================] - 0s 4ms/step - loss: 3525786285990.9565 - val_loss: 2634500276224.0000\n",
      "Epoch 29/300\n",
      "22/22 [==============================] - 0s 6ms/step - loss: 3270891274240.0000 - val_loss: 2634417176576.0000\n",
      "Epoch 30/300\n",
      "22/22 [==============================] - 0s 5ms/step - loss: 3273673966992.6958 - val_loss: 2634323329024.0000\n",
      "Epoch 31/300\n",
      "22/22 [==============================] - 0s 5ms/step - loss: 3483929913076.8696 - val_loss: 2634221355008.0000\n",
      "Epoch 32/300\n",
      "22/22 [==============================] - 0s 5ms/step - loss: 3201486718352.6958 - val_loss: 2634108633088.0000\n",
      "Epoch 33/300\n",
      "22/22 [==============================] - 0s 4ms/step - loss: 3661494359618.7827 - val_loss: 2633985687552.0000\n",
      "Epoch 34/300\n",
      "22/22 [==============================] - 0s 6ms/step - loss: 3965411176982.2607 - val_loss: 2633849634816.0000\n",
      "Epoch 35/300\n",
      "22/22 [==============================] - 0s 6ms/step - loss: 2876128795603.4780 - val_loss: 2633704669184.0000\n",
      "Epoch 36/300\n",
      "22/22 [==============================] - 0s 6ms/step - loss: 2993109096715.1304 - val_loss: 2633548693504.0000\n",
      "Epoch 37/300\n",
      "22/22 [==============================] - 0s 6ms/step - loss: 4102695556674.7827 - val_loss: 2633376464896.0000\n",
      "Epoch 38/300\n",
      "22/22 [==============================] - 0s 5ms/step - loss: 2975649440100.1738 - val_loss: 2633197420544.0000\n",
      "Epoch 39/300\n",
      "22/22 [==============================] - 0s 4ms/step - loss: 2469618903485.2173 - val_loss: 2633004482560.0000\n",
      "Epoch 40/300\n",
      "22/22 [==============================] - 0s 5ms/step - loss: 2434094983613.2173 - val_loss: 2632792145920.0000\n",
      "Epoch 41/300\n",
      "22/22 [==============================] - 0s 5ms/step - loss: 2379406325670.9565 - val_loss: 2632569323520.0000\n",
      "Epoch 42/300\n",
      "22/22 [==============================] - 0s 5ms/step - loss: 2680911036416.0000 - val_loss: 2632323956736.0000\n",
      "Epoch 43/300\n",
      "22/22 [==============================] - 0s 5ms/step - loss: 2885075377107.4780 - val_loss: 2632070201344.0000\n",
      "Epoch 44/300\n",
      "22/22 [==============================] - 0s 4ms/step - loss: 3863062010123.1304 - val_loss: 2631796260864.0000\n",
      "Epoch 45/300\n",
      "22/22 [==============================] - 0s 4ms/step - loss: 2895297973025.3911 - val_loss: 2631504756736.0000\n",
      "Epoch 46/300\n",
      "22/22 [==============================] - 0s 4ms/step - loss: 2640829931163.8262 - val_loss: 2631205650432.0000\n",
      "Epoch 47/300\n",
      "22/22 [==============================] - 0s 4ms/step - loss: 2874135800253.2173 - val_loss: 2630880067584.0000\n",
      "Epoch 48/300\n",
      "22/22 [==============================] - 0s 4ms/step - loss: 2746435348212.8696 - val_loss: 2630541115392.0000\n",
      "Epoch 49/300\n",
      "22/22 [==============================] - ETA: 0s - loss: 1945385304064.000 - 0s 4ms/step - loss: 2614829036054.2607 - val_loss: 2630183813120.0000\n",
      "Epoch 50/300\n",
      "22/22 [==============================] - 0s 4ms/step - loss: 3165212189028.1738 - val_loss: 2629796102144.0000\n",
      "Epoch 51/300\n",
      "22/22 [==============================] - 0s 4ms/step - loss: 2845127167465.7393 - val_loss: 2629400264704.0000\n",
      "Epoch 52/300\n",
      "22/22 [==============================] - 0s 4ms/step - loss: 3217859497449.7393 - val_loss: 2628977164288.0000\n",
      "Epoch 53/300\n",
      "22/22 [==============================] - 0s 4ms/step - loss: 2800535071165.2173 - val_loss: 2628538597376.0000\n",
      "Epoch 54/300\n",
      "22/22 [==============================] - 0s 4ms/step - loss: 2788160204621.9131 - val_loss: 2628080893952.0000\n",
      "Epoch 55/300\n",
      "22/22 [==============================] - 0s 4ms/step - loss: 2674514141540.1738 - val_loss: 2627593830400.0000\n",
      "Epoch 56/300\n",
      "22/22 [==============================] - 0s 4ms/step - loss: 3018087111635.4780 - val_loss: 2627071115264.0000\n",
      "Epoch 57/300\n",
      "22/22 [==============================] - 0s 4ms/step - loss: 3157176489538.7827 - val_loss: 2626541584384.0000\n",
      "Epoch 58/300\n",
      "22/22 [==============================] - 0s 4ms/step - loss: 2503374701968.6958 - val_loss: 2625984528384.0000\n",
      "Epoch 59/300\n",
      "22/22 [==============================] - 0s 4ms/step - loss: 2720199606272.0000 - val_loss: 2625401257984.0000\n",
      "Epoch 60/300\n",
      "22/22 [==============================] - 0s 5ms/step - loss: 2725986702914.7827 - val_loss: 2624786006016.0000\n",
      "Epoch 61/300\n",
      "22/22 [==============================] - 0s 4ms/step - loss: 3262630603909.5654 - val_loss: 2624129597440.0000\n",
      "Epoch 62/300\n",
      "22/22 [==============================] - 0s 4ms/step - loss: 2509990715035.8262 - val_loss: 2623478431744.0000\n",
      "Epoch 63/300\n",
      "22/22 [==============================] - 0s 4ms/step - loss: 3474573572006.9565 - val_loss: 2622769594368.0000\n",
      "Epoch 64/300\n",
      "22/22 [==============================] - 0s 4ms/step - loss: 2723350218128.6958 - val_loss: 2622056562688.0000\n",
      "Epoch 65/300\n",
      "22/22 [==============================] - 0s 5ms/step - loss: 2888071278413.9131 - val_loss: 2621297393664.0000\n",
      "Epoch 66/300\n",
      "22/22 [==============================] - 0s 5ms/step - loss: 2517473279287.6523 - val_loss: 2620530622464.0000\n",
      "Epoch 67/300\n",
      "22/22 [==============================] - 0s 4ms/step - loss: 3217370769853.2173 - val_loss: 2619715878912.0000\n",
      "Epoch 68/300\n",
      "22/22 [==============================] - 0s 4ms/step - loss: 3579860495493.5654 - val_loss: 2618867843072.0000\n",
      "Epoch 69/300\n",
      "22/22 [==============================] - 0s 4ms/step - loss: 2673927827990.2607 - val_loss: 2618045235200.0000\n",
      "Epoch 70/300\n",
      "22/22 [==============================] - 0s 4ms/step - loss: 3481489095991.6523 - val_loss: 2617131401216.0000\n",
      "Epoch 71/300\n",
      "22/22 [==============================] - 0s 4ms/step - loss: 2735143341545.7393 - val_loss: 2616226480128.0000\n",
      "Epoch 72/300\n",
      "22/22 [==============================] - 0s 4ms/step - loss: 2601137522777.0435 - val_loss: 2615260217344.0000\n",
      "Epoch 73/300\n",
      "22/22 [==============================] - 0s 4ms/step - loss: 3286526989890.7827 - val_loss: 2614258565120.0000\n",
      "Epoch 74/300\n",
      "22/22 [==============================] - 0s 4ms/step - loss: 2880004885281.3911 - val_loss: 2613227552768.0000\n",
      "Epoch 75/300\n",
      "22/22 [==============================] - 0s 4ms/step - loss: 3106600705691.8262 - val_loss: 2612156956672.0000\n",
      "Epoch 76/300\n",
      "22/22 [==============================] - 0s 4ms/step - loss: 2680019040166.9565 - val_loss: 2611089244160.0000\n",
      "Epoch 77/300\n",
      "22/22 [==============================] - 0s 4ms/step - loss: 2871181841986.7827 - val_loss: 2609933189120.0000\n",
      "Epoch 78/300\n",
      "22/22 [==============================] - 0s 4ms/step - loss: 2398943615955.4780 - val_loss: 2608810688512.0000\n",
      "Epoch 79/300\n",
      "22/22 [==============================] - 0s 4ms/step - loss: 2717600026802.0869 - val_loss: 2607587262464.0000\n",
      "Epoch 80/300\n",
      "22/22 [==============================] - 0s 4ms/step - loss: 2652384913853.2173 - val_loss: 2606344437760.0000\n",
      "Epoch 81/300\n",
      "22/22 [==============================] - 0s 4ms/step - loss: 2877241368932.1738 - val_loss: 2605075398656.0000\n",
      "Epoch 82/300\n",
      "22/22 [==============================] - 0s 4ms/step - loss: 3153304064178.0869 - val_loss: 2603785388032.0000\n",
      "Epoch 83/300\n",
      "22/22 [==============================] - 0s 4ms/step - loss: 2541771116009.7393 - val_loss: 2602445832192.0000\n",
      "Epoch 84/300\n",
      "22/22 [==============================] - ETA: 0s - loss: 2785392721920.000 - 0s 4ms/step - loss: 2657673087777.3911 - val_loss: 2601044148224.0000\n",
      "Epoch 85/300\n",
      "22/22 [==============================] - 0s 4ms/step - loss: 2946748896122.4346 - val_loss: 2599635124224.0000\n",
      "Epoch 86/300\n",
      "22/22 [==============================] - 0s 4ms/step - loss: 3313324261376.0000 - val_loss: 2598178390016.0000\n",
      "Epoch 87/300\n",
      "22/22 [==============================] - 0s 4ms/step - loss: 2885276777783.6523 - val_loss: 2596715364352.0000\n",
      "Epoch 88/300\n",
      "22/22 [==============================] - 0s 4ms/step - loss: 2679730396827.8262 - val_loss: 2595204890624.0000\n",
      "Epoch 89/300\n",
      "22/22 [==============================] - 0s 4ms/step - loss: 3171661005512.3477 - val_loss: 2593610530816.0000\n",
      "Epoch 90/300\n",
      "22/22 [==============================] - 0s 4ms/step - loss: 2425378194120.3477 - val_loss: 2591991791616.0000\n",
      "Epoch 91/300\n",
      "22/22 [==============================] - 0s 4ms/step - loss: 2458601977054.6089 - val_loss: 2590360993792.0000\n",
      "Epoch 92/300\n",
      "22/22 [==============================] - 0s 4ms/step - loss: 2894814579489.3911 - val_loss: 2588665184256.0000\n",
      "Epoch 93/300\n",
      "22/22 [==============================] - 0s 4ms/step - loss: 2808749171044.1738 - val_loss: 2586932674560.0000\n",
      "Epoch 94/300\n",
      "22/22 [==============================] - 0s 4ms/step - loss: 3090922739266.7827 - val_loss: 2585118375936.0000\n",
      "Epoch 95/300\n",
      "22/22 [==============================] - 0s 4ms/step - loss: 2633781027172.1738 - val_loss: 2583329505280.0000\n",
      "Epoch 96/300\n",
      "22/22 [==============================] - 0s 4ms/step - loss: 2833396861729.3911 - val_loss: 2581477457920.0000\n",
      "Epoch 97/300\n",
      "22/22 [==============================] - 0s 4ms/step - loss: 2961283869117.2173 - val_loss: 2579553583104.0000\n",
      "Epoch 98/300\n",
      "22/22 [==============================] - 0s 4ms/step - loss: 3103619319184.6958 - val_loss: 2577603231744.0000\n",
      "Epoch 99/300\n",
      "22/22 [==============================] - 0s 5ms/step - loss: 3042234369424.6958 - val_loss: 2575598354432.0000\n",
      "Epoch 100/300\n",
      "22/22 [==============================] - 0s 4ms/step - loss: 2667302776653.9131 - val_loss: 2573602652160.0000\n",
      "Epoch 101/300\n",
      "22/22 [==============================] - 0s 4ms/step - loss: 2606020667124.8696 - val_loss: 2571560550400.0000\n",
      "Epoch 102/300\n",
      "22/22 [==============================] - 0s 4ms/step - loss: 3027505951254.2607 - val_loss: 2569365094400.0000\n",
      "Epoch 103/300\n",
      "22/22 [==============================] - 0s 4ms/step - loss: 3682505041652.8696 - val_loss: 2567165968384.0000\n",
      "Epoch 104/300\n",
      "22/22 [==============================] - 0s 4ms/step - loss: 2809848739750.9565 - val_loss: 2564971560960.0000\n",
      "Epoch 105/300\n",
      "22/22 [==============================] - ETA: 0s - loss: 2231082680320.000 - 0s 4ms/step - loss: 2619472347136.0000 - val_loss: 2562688024576.0000\n",
      "Epoch 106/300\n",
      "22/22 [==============================] - 0s 4ms/step - loss: 2603849259987.4780 - val_loss: 2560439353344.0000\n",
      "Epoch 107/300\n",
      "22/22 [==============================] - 0s 4ms/step - loss: 3194467499319.6523 - val_loss: 2558036279296.0000\n",
      "Epoch 108/300\n",
      "22/22 [==============================] - 0s 5ms/step - loss: 3182965931319.6523 - val_loss: 2555632680960.0000\n",
      "Epoch 109/300\n",
      "22/22 [==============================] - 0s 4ms/step - loss: 2456343258868.8696 - val_loss: 2553185304576.0000\n",
      "Epoch 110/300\n",
      "22/22 [==============================] - 0s 4ms/step - loss: 3097284598027.1304 - val_loss: 2550645129216.0000\n",
      "Epoch 111/300\n",
      "22/22 [==============================] - 0s 4ms/step - loss: 3143629240943.3042 - val_loss: 2548139032576.0000\n",
      "Epoch 112/300\n",
      "22/22 [==============================] - 0s 4ms/step - loss: 2576960141222.9565 - val_loss: 2545559011328.0000\n",
      "Epoch 113/300\n",
      "22/22 [==============================] - 0s 4ms/step - loss: 2561713732207.3042 - val_loss: 2542893268992.0000\n",
      "Epoch 114/300\n",
      "22/22 [==============================] - 0s 4ms/step - loss: 2858200094987.1304 - val_loss: 2540124241920.0000\n",
      "Epoch 115/300\n",
      "22/22 [==============================] - 0s 4ms/step - loss: 3131297120968.3477 - val_loss: 2537350234112.0000\n",
      "Epoch 116/300\n",
      "22/22 [==============================] - 0s 4ms/step - loss: 2664018340285.2173 - val_loss: 2534599032832.0000\n",
      "Epoch 117/300\n",
      "22/22 [==============================] - 0s 5ms/step - loss: 2942305692093.2173 - val_loss: 2531772858368.0000\n",
      "Epoch 118/300\n",
      "22/22 [==============================] - 0s 4ms/step - loss: 3042907281675.1304 - val_loss: 2528876429312.0000\n",
      "Epoch 119/300\n",
      "22/22 [==============================] - 0s 4ms/step - loss: 2755116508916.8696 - val_loss: 2525956669440.0000\n",
      "Epoch 120/300\n",
      "22/22 [==============================] - 0s 4ms/step - loss: 3315700961458.0869 - val_loss: 2522903216128.0000\n",
      "Epoch 121/300\n",
      "22/22 [==============================] - 0s 4ms/step - loss: 3515060242521.0435 - val_loss: 2519862870016.0000\n",
      "Epoch 122/300\n",
      "22/22 [==============================] - 0s 4ms/step - loss: 3245400072548.1738 - val_loss: 2516836417536.0000\n",
      "Epoch 123/300\n",
      "22/22 [==============================] - 0s 4ms/step - loss: 3027800834760.3477 - val_loss: 2513646911488.0000\n",
      "Epoch 124/300\n",
      "22/22 [==============================] - 0s 4ms/step - loss: 2613274345472.0000 - val_loss: 2510501445632.0000\n",
      "Epoch 125/300\n",
      "22/22 [==============================] - 0s 4ms/step - loss: 2673946223660.5220 - val_loss: 2507281006592.0000\n",
      "Epoch 126/300\n",
      "22/22 [==============================] - 0s 4ms/step - loss: 2913486811670.2607 - val_loss: 2503940505600.0000\n",
      "Epoch 127/300\n",
      "22/22 [==============================] - 0s 4ms/step - loss: 2562656065803.1304 - val_loss: 2500711153664.0000\n",
      "Epoch 128/300\n",
      "22/22 [==============================] - 0s 4ms/step - loss: 2652171682504.3477 - val_loss: 2497213366272.0000\n",
      "Epoch 129/300\n",
      "22/22 [==============================] - 0s 4ms/step - loss: 2699200036864.0000 - val_loss: 2493712695296.0000\n",
      "Epoch 130/300\n",
      "22/22 [==============================] - 0s 4ms/step - loss: 2442246864183.6523 - val_loss: 2490304036864.0000\n",
      "Epoch 131/300\n",
      "22/22 [==============================] - 0s 4ms/step - loss: 2942198680353.3911 - val_loss: 2486639001600.0000\n",
      "Epoch 132/300\n",
      "22/22 [==============================] - 0s 4ms/step - loss: 2743076229298.0869 - val_loss: 2483030851584.0000\n",
      "Epoch 133/300\n",
      "22/22 [==============================] - 0s 4ms/step - loss: 3096878685139.4780 - val_loss: 2479303426048.0000\n",
      "Epoch 134/300\n",
      "22/22 [==============================] - 0s 4ms/step - loss: 3011635844674.7827 - val_loss: 2475660410880.0000\n",
      "Epoch 135/300\n",
      "22/22 [==============================] - 0s 4ms/step - loss: 2701475623446.2607 - val_loss: 2471879770112.0000\n",
      "Epoch 136/300\n",
      "22/22 [==============================] - 0s 4ms/step - loss: 2456173583315.4780 - val_loss: 2468136353792.0000\n",
      "Epoch 137/300\n",
      "22/22 [==============================] - 0s 5ms/step - loss: 3296131410365.2173 - val_loss: 2464213630976.0000\n",
      "Epoch 138/300\n",
      "22/22 [==============================] - 0s 5ms/step - loss: 2824590988866.7827 - val_loss: 2460285927424.0000\n",
      "Epoch 139/300\n",
      "22/22 [==============================] - 0s 4ms/step - loss: 2662834885498.4346 - val_loss: 2456351932416.0000\n",
      "Epoch 140/300\n",
      "22/22 [==============================] - 0s 5ms/step - loss: 2398558674587.8262 - val_loss: 2452299186176.0000\n",
      "Epoch 141/300\n",
      "22/22 [==============================] - 0s 4ms/step - loss: 2711545662953.7393 - val_loss: 2448203710464.0000\n",
      "Epoch 142/300\n",
      "22/22 [==============================] - 0s 4ms/step - loss: 2246032832422.9565 - val_loss: 2444171935744.0000\n",
      "Epoch 143/300\n",
      "22/22 [==============================] - 0s 4ms/step - loss: 2617172837064.3477 - val_loss: 2439942504448.0000\n",
      "Epoch 144/300\n",
      "22/22 [==============================] - 0s 4ms/step - loss: 2418140831387.8262 - val_loss: 2435609788416.0000\n",
      "Epoch 145/300\n",
      "22/22 [==============================] - 0s 4ms/step - loss: 2421011160019.4780 - val_loss: 2431418105856.0000\n",
      "Epoch 146/300\n",
      "22/22 [==============================] - 0s 4ms/step - loss: 2711613358792.3477 - val_loss: 2426997309440.0000\n",
      "Epoch 147/300\n",
      "22/22 [==============================] - 0s 4ms/step - loss: 3043902004179.4780 - val_loss: 2422542434304.0000\n",
      "Epoch 148/300\n",
      "22/22 [==============================] - 0s 4ms/step - loss: 2248361030166.2607 - val_loss: 2418238816256.0000\n",
      "Epoch 149/300\n",
      "22/22 [==============================] - 0s 4ms/step - loss: 2616529307737.0435 - val_loss: 2413550895104.0000\n",
      "Epoch 150/300\n",
      "22/22 [==============================] - 0s 4ms/step - loss: 2820864845556.8696 - val_loss: 2408953675776.0000\n",
      "Epoch 151/300\n",
      "22/22 [==============================] - 0s 4ms/step - loss: 2508338700644.1738 - val_loss: 2404425138176.0000\n",
      "Epoch 152/300\n",
      "22/22 [==============================] - 0s 4ms/step - loss: 2328604197576.3477 - val_loss: 2399763431424.0000\n",
      "Epoch 153/300\n",
      "22/22 [==============================] - 0s 4ms/step - loss: 2831308554240.0000 - val_loss: 2394987954176.0000\n",
      "Epoch 154/300\n",
      "22/22 [==============================] - 0s 4ms/step - loss: 3744569012758.2607 - val_loss: 2390122561536.0000\n",
      "Epoch 155/300\n",
      "22/22 [==============================] - 0s 4ms/step - loss: 2646205854942.6089 - val_loss: 2385465835520.0000\n",
      "Epoch 156/300\n",
      "22/22 [==============================] - 0s 4ms/step - loss: 2664846703927.6523 - val_loss: 2380593889280.0000\n",
      "Epoch 157/300\n",
      "22/22 [==============================] - 0s 4ms/step - loss: 2414610669211.8262 - val_loss: 2375742914560.0000\n",
      "Epoch 158/300\n",
      "22/22 [==============================] - 0s 4ms/step - loss: 2705385233363.4780 - val_loss: 2370656010240.0000\n",
      "Epoch 159/300\n",
      "22/22 [==============================] - 0s 4ms/step - loss: 2308266433491.4780 - val_loss: 2365803200512.0000\n",
      "Epoch 160/300\n",
      "22/22 [==============================] - 0s 4ms/step - loss: 2743713011266.7827 - val_loss: 2360701878272.0000\n",
      "Epoch 161/300\n",
      "22/22 [==============================] - 0s 4ms/step - loss: 2628824066493.2173 - val_loss: 2355511689216.0000\n",
      "Epoch 162/300\n",
      "22/22 [==============================] - 0s 4ms/step - loss: 2446365494049.3911 - val_loss: 2350422163456.0000\n",
      "Epoch 163/300\n",
      "22/22 [==============================] - 0s 5ms/step - loss: 2614102660674.7827 - val_loss: 2345210216448.0000\n",
      "Epoch 164/300\n",
      "22/22 [==============================] - 0s 4ms/step - loss: 2083791728461.9131 - val_loss: 2340050436096.0000\n",
      "Epoch 165/300\n",
      "22/22 [==============================] - 0s 4ms/step - loss: 2627471534525.2173 - val_loss: 2334604132352.0000\n",
      "Epoch 166/300\n",
      "22/22 [==============================] - 0s 4ms/step - loss: 2933047392879.3042 - val_loss: 2329214189568.0000\n",
      "Epoch 167/300\n",
      "22/22 [==============================] - 0s 4ms/step - loss: 3558636451038.6089 - val_loss: 2323736166400.0000\n",
      "Epoch 168/300\n",
      "22/22 [==============================] - 0s 4ms/step - loss: 2845394748104.3477 - val_loss: 2318362476544.0000\n",
      "Epoch 169/300\n",
      "22/22 [==============================] - 0s 4ms/step - loss: 2419955198397.2173 - val_loss: 2312799256576.0000\n",
      "Epoch 170/300\n",
      "22/22 [==============================] - 0s 4ms/step - loss: 2768687988736.0000 - val_loss: 2307248357376.0000\n",
      "Epoch 171/300\n",
      "22/22 [==============================] - 0s 4ms/step - loss: 2866702462085.5654 - val_loss: 2301585784832.0000\n",
      "Epoch 172/300\n",
      "22/22 [==============================] - 0s 4ms/step - loss: 2872549116705.3911 - val_loss: 2295882317824.0000\n",
      "Epoch 173/300\n",
      "22/22 [==============================] - 0s 4ms/step - loss: 2653389603528.3477 - val_loss: 2290073206784.0000\n",
      "Epoch 174/300\n",
      "22/22 [==============================] - 0s 4ms/step - loss: 2658609141314.7827 - val_loss: 2284352962560.0000\n",
      "Epoch 175/300\n",
      "22/22 [==============================] - 0s 4ms/step - loss: 2666052851266.7827 - val_loss: 2278567444480.0000\n",
      "Epoch 176/300\n",
      "22/22 [==============================] - 0s 5ms/step - loss: 3161230090596.1738 - val_loss: 2272565919744.0000\n",
      "Epoch 177/300\n",
      "22/22 [==============================] - 0s 4ms/step - loss: 2160095652285.2173 - val_loss: 2266813431808.0000\n",
      "Epoch 178/300\n",
      "22/22 [==============================] - 0s 4ms/step - loss: 2875941926822.9565 - val_loss: 2260681359360.0000\n",
      "Epoch 179/300\n",
      "22/22 [==============================] - 0s 4ms/step - loss: 3106500566683.8262 - val_loss: 2254625570816.0000\n",
      "Epoch 180/300\n",
      "22/22 [==============================] - 0s 4ms/step - loss: 2299636937950.6089 - val_loss: 2248627453952.0000\n",
      "Epoch 181/300\n",
      "22/22 [==============================] - 0s 5ms/step - loss: 2343250883806.6089 - val_loss: 2242420146176.0000\n",
      "Epoch 182/300\n",
      "22/22 [==============================] - 0s 4ms/step - loss: 2426827138092.5220 - val_loss: 2236264218624.0000\n",
      "Epoch 183/300\n",
      "22/22 [==============================] - 0s 5ms/step - loss: 2338974346373.5654 - val_loss: 2230014967808.0000\n",
      "Epoch 184/300\n",
      "22/22 [==============================] - 0s 4ms/step - loss: 2496444797106.0869 - val_loss: 2223658237952.0000\n",
      "Epoch 185/300\n",
      "22/22 [==============================] - 0s 5ms/step - loss: 2424637380875.1304 - val_loss: 2217432055808.0000\n",
      "Epoch 186/300\n",
      "22/22 [==============================] - 0s 4ms/step - loss: 2621128698301.2173 - val_loss: 2211025780736.0000\n",
      "Epoch 187/300\n",
      "22/22 [==============================] - 0s 4ms/step - loss: 2953796671755.1304 - val_loss: 2204544794624.0000\n",
      "Epoch 188/300\n",
      "22/22 [==============================] - 0s 4ms/step - loss: 2296880636260.1738 - val_loss: 2198156869632.0000\n",
      "Epoch 189/300\n",
      "22/22 [==============================] - 0s 4ms/step - loss: 2451693804499.4780 - val_loss: 2191628959744.0000\n",
      "Epoch 190/300\n",
      "22/22 [==============================] - 0s 4ms/step - loss: 2202405055621.5654 - val_loss: 2185092005888.0000\n",
      "Epoch 191/300\n",
      "22/22 [==============================] - 0s 4ms/step - loss: 2647391218821.5654 - val_loss: 2178341142528.0000\n",
      "Epoch 192/300\n",
      "22/22 [==============================] - 0s 4ms/step - loss: 3080428077768.3477 - val_loss: 2171722399744.0000\n",
      "Epoch 193/300\n",
      "22/22 [==============================] - 0s 5ms/step - loss: 2549949877737.7393 - val_loss: 2165265530880.0000\n",
      "Epoch 194/300\n",
      "22/22 [==============================] - 0s 4ms/step - loss: 2506716280030.6089 - val_loss: 2158317142016.0000\n",
      "Epoch 195/300\n",
      "22/22 [==============================] - 0s 5ms/step - loss: 3084434207966.6089 - val_loss: 2151620411392.0000\n",
      "Epoch 196/300\n",
      "22/22 [==============================] - 0s 5ms/step - loss: 2917810717384.3477 - val_loss: 2144842022912.0000\n",
      "Epoch 197/300\n",
      "22/22 [==============================] - 0s 4ms/step - loss: 2462508942736.6958 - val_loss: 2138039910400.0000\n",
      "Epoch 198/300\n",
      "22/22 [==============================] - 0s 4ms/step - loss: 2115446841700.1738 - val_loss: 2131223117824.0000\n",
      "Epoch 199/300\n",
      "22/22 [==============================] - 0s 5ms/step - loss: 2713818405843.4780 - val_loss: 2124276301824.0000\n",
      "Epoch 200/300\n",
      "22/22 [==============================] - 0s 6ms/step - loss: 2763066601293.9131 - val_loss: 2117336301568.0000\n",
      "Epoch 201/300\n",
      "22/22 [==============================] - 0s 5ms/step - loss: 1939771609978.4348 - val_loss: 2110514921472.0000\n",
      "Epoch 202/300\n",
      "22/22 [==============================] - 0s 6ms/step - loss: 2377043217185.3911 - val_loss: 2103574396928.0000\n",
      "Epoch 203/300\n",
      "22/22 [==============================] - 0s 7ms/step - loss: 2637064836674.7827 - val_loss: 2096151265280.0000\n",
      "Epoch 204/300\n",
      "22/22 [==============================] - 0s 5ms/step - loss: 1998098781050.4348 - val_loss: 2089408004096.0000\n",
      "Epoch 205/300\n",
      "22/22 [==============================] - 0s 6ms/step - loss: 2959013086608.6958 - val_loss: 2081918287872.0000\n",
      "Epoch 206/300\n",
      "22/22 [==============================] - 0s 7ms/step - loss: 2805580841672.3477 - val_loss: 2074927431680.0000\n",
      "Epoch 207/300\n",
      "22/22 [==============================] - 0s 5ms/step - loss: 2750556901554.0869 - val_loss: 2067953483776.0000\n",
      "Epoch 208/300\n",
      "22/22 [==============================] - 0s 5ms/step - loss: 1829765672781.9131 - val_loss: 2060761432064.0000\n",
      "Epoch 209/300\n",
      "22/22 [==============================] - 0s 5ms/step - loss: 1977262567245.9131 - val_loss: 2053399248896.0000\n",
      "Epoch 210/300\n",
      "22/22 [==============================] - 0s 5ms/step - loss: 2411721181273.0435 - val_loss: 2046045978624.0000\n",
      "Epoch 211/300\n",
      "22/22 [==============================] - 0s 5ms/step - loss: 2011916476772.1738 - val_loss: 2038628876288.0000\n",
      "Epoch 212/300\n",
      "22/22 [==============================] - 0s 5ms/step - loss: 2688547085979.8262 - val_loss: 2031209676800.0000\n",
      "Epoch 213/300\n",
      "22/22 [==============================] - 0s 5ms/step - loss: 2093155101829.5652 - val_loss: 2023878688768.0000\n",
      "Epoch 214/300\n",
      "22/22 [==============================] - 0s 5ms/step - loss: 2399026630121.7393 - val_loss: 2016582696960.0000\n",
      "Epoch 215/300\n",
      "22/22 [==============================] - 0s 4ms/step - loss: 2090616510731.1304 - val_loss: 2009083805696.0000\n",
      "Epoch 216/300\n",
      "22/22 [==============================] - 0s 4ms/step - loss: 2141746085175.6521 - val_loss: 2001516363776.0000\n",
      "Epoch 217/300\n",
      "22/22 [==============================] - 0s 6ms/step - loss: 2096643298170.4348 - val_loss: 1993994272768.0000\n",
      "Epoch 218/300\n",
      "22/22 [==============================] - 0s 4ms/step - loss: 2230576836429.9131 - val_loss: 1986443870208.0000\n",
      "Epoch 219/300\n",
      "22/22 [==============================] - 0s 4ms/step - loss: 2014704680247.6521 - val_loss: 1978711146496.0000\n",
      "Epoch 220/300\n",
      "22/22 [==============================] - 0s 4ms/step - loss: 1982652749378.7827 - val_loss: 1971236765696.0000\n",
      "Epoch 221/300\n",
      "22/22 [==============================] - 0s 4ms/step - loss: 1784740058690.7827 - val_loss: 1963722407936.0000\n",
      "Epoch 222/300\n",
      "22/22 [==============================] - 0s 4ms/step - loss: 2660031181334.2607 - val_loss: 1955881156608.0000\n",
      "Epoch 223/300\n",
      "22/22 [==============================] - 0s 4ms/step - loss: 3092383228972.5220 - val_loss: 1948152496128.0000\n",
      "Epoch 224/300\n",
      "22/22 [==============================] - 0s 4ms/step - loss: 2707086616308.8696 - val_loss: 1940457652224.0000\n",
      "Epoch 225/300\n",
      "22/22 [==============================] - 0s 4ms/step - loss: 1903192469325.9131 - val_loss: 1932857049088.0000\n",
      "Epoch 226/300\n",
      "22/22 [==============================] - 0s 4ms/step - loss: 2139457625043.4783 - val_loss: 1924866113536.0000\n",
      "Epoch 227/300\n",
      "22/22 [==============================] - 0s 4ms/step - loss: 2237628974480.6958 - val_loss: 1917121069056.0000\n",
      "Epoch 228/300\n",
      "22/22 [==============================] - 0s 4ms/step - loss: 1835046079265.3914 - val_loss: 1909538422784.0000\n",
      "Epoch 229/300\n",
      "22/22 [==============================] - 0s 4ms/step - loss: 2382489087821.9131 - val_loss: 1901553778688.0000\n",
      "Epoch 230/300\n",
      "22/22 [==============================] - 0s 4ms/step - loss: 2040121347561.7390 - val_loss: 1893846220800.0000\n",
      "Epoch 231/300\n",
      "22/22 [==============================] - 0s 4ms/step - loss: 1954940133732.1738 - val_loss: 1886192009216.0000\n",
      "Epoch 232/300\n",
      "22/22 [==============================] - 0s 5ms/step - loss: 2097067355981.9131 - val_loss: 1878280634368.0000\n",
      "Epoch 233/300\n",
      "22/22 [==============================] - 0s 4ms/step - loss: 1778149148761.0435 - val_loss: 1870583955456.0000\n",
      "Epoch 234/300\n",
      "22/22 [==============================] - 0s 5ms/step - loss: 2002466154228.8696 - val_loss: 1862702596096.0000\n",
      "Epoch 235/300\n",
      "22/22 [==============================] - 0s 5ms/step - loss: 1914028670263.6521 - val_loss: 1854953357312.0000\n",
      "Epoch 236/300\n",
      "22/22 [==============================] - 0s 5ms/step - loss: 2366870742060.5220 - val_loss: 1846967533568.0000\n",
      "Epoch 237/300\n",
      "22/22 [==============================] - 0s 5ms/step - loss: 2041845867564.5217 - val_loss: 1839132704768.0000\n",
      "Epoch 238/300\n",
      "22/22 [==============================] - 0s 5ms/step - loss: 1694384985666.7827 - val_loss: 1831358300160.0000\n",
      "Epoch 239/300\n",
      "22/22 [==============================] - 0s 4ms/step - loss: 2291560731514.4346 - val_loss: 1823317164032.0000\n",
      "Epoch 240/300\n",
      "22/22 [==============================] - 0s 5ms/step - loss: 1900331726046.6086 - val_loss: 1815279304704.0000\n",
      "Epoch 241/300\n",
      "22/22 [==============================] - 0s 5ms/step - loss: 2697939665608.3477 - val_loss: 1807164375040.0000\n",
      "Epoch 242/300\n",
      "22/22 [==============================] - 0s 6ms/step - loss: 2571329060151.6523 - val_loss: 1799425490944.0000\n",
      "Epoch 243/300\n",
      "22/22 [==============================] - 0s 5ms/step - loss: 1754088501069.9131 - val_loss: 1791709413376.0000\n",
      "Epoch 244/300\n",
      "22/22 [==============================] - 0s 4ms/step - loss: 2264350309687.6523 - val_loss: 1783714414592.0000\n",
      "Epoch 245/300\n",
      "22/22 [==============================] - 0s 4ms/step - loss: 2302919305661.2173 - val_loss: 1775581396992.0000\n",
      "Epoch 246/300\n",
      "22/22 [==============================] - 0s 4ms/step - loss: 2155225689221.5652 - val_loss: 1767669891072.0000\n",
      "Epoch 247/300\n",
      "22/22 [==============================] - 0s 4ms/step - loss: 1634789749982.6086 - val_loss: 1759825100800.0000\n",
      "Epoch 248/300\n",
      "22/22 [==============================] - 0s 4ms/step - loss: 1862120961246.6086 - val_loss: 1751880695808.0000\n",
      "Epoch 249/300\n",
      "22/22 [==============================] - 0s 5ms/step - loss: 1606418232542.6086 - val_loss: 1744067493888.0000\n",
      "Epoch 250/300\n",
      "22/22 [==============================] - 0s 4ms/step - loss: 1931538276708.1738 - val_loss: 1735940636672.0000\n",
      "Epoch 251/300\n",
      "22/22 [==============================] - 0s 4ms/step - loss: 2042874281271.6521 - val_loss: 1727984566272.0000\n",
      "Epoch 252/300\n",
      "22/22 [==============================] - 0s 4ms/step - loss: 1779869673917.2173 - val_loss: 1720164941824.0000\n",
      "Epoch 253/300\n",
      "22/22 [==============================] - 0s 4ms/step - loss: 2060739246703.3044 - val_loss: 1712037953536.0000\n",
      "Epoch 254/300\n",
      "22/22 [==============================] - 0s 4ms/step - loss: 1872142971414.2610 - val_loss: 1704268791808.0000\n",
      "Epoch 255/300\n",
      "22/22 [==============================] - 0s 4ms/step - loss: 1923109167460.1738 - val_loss: 1696321503232.0000\n",
      "Epoch 256/300\n",
      "22/22 [==============================] - 0s 4ms/step - loss: 1736085411394.7827 - val_loss: 1688417468416.0000\n",
      "Epoch 257/300\n",
      "22/22 [==============================] - 0s 4ms/step - loss: 1612874884852.8696 - val_loss: 1680735469568.0000\n",
      "Epoch 258/300\n",
      "22/22 [==============================] - 0s 4ms/step - loss: 1862336933709.9131 - val_loss: 1672756592640.0000\n",
      "Epoch 259/300\n",
      "22/22 [==============================] - 0s 4ms/step - loss: 1945680768845.9131 - val_loss: 1664678363136.0000\n",
      "Epoch 260/300\n",
      "22/22 [==============================] - 0s 4ms/step - loss: 1707696663685.5652 - val_loss: 1656839995392.0000\n",
      "Epoch 261/300\n",
      "22/22 [==============================] - 0s 4ms/step - loss: 1994852264381.2173 - val_loss: 1649007001600.0000\n",
      "Epoch 262/300\n",
      "22/22 [==============================] - 0s 4ms/step - loss: 1523416338610.0869 - val_loss: 1641165094912.0000\n",
      "Epoch 263/300\n",
      "22/22 [==============================] - 0s 5ms/step - loss: 2121573494605.9131 - val_loss: 1633110458368.0000\n",
      "Epoch 264/300\n",
      "22/22 [==============================] - 0s 4ms/step - loss: 1687425253376.0000 - val_loss: 1625243254784.0000\n",
      "Epoch 265/300\n",
      "22/22 [==============================] - 0s 5ms/step - loss: 1900669532783.3044 - val_loss: 1617333452800.0000\n",
      "Epoch 266/300\n",
      "22/22 [==============================] - 0s 5ms/step - loss: 2208428275622.9565 - val_loss: 1609533358080.0000\n",
      "Epoch 267/300\n",
      "22/22 [==============================] - 0s 4ms/step - loss: 1455533178167.6521 - val_loss: 1601858437120.0000\n",
      "Epoch 268/300\n",
      "22/22 [==============================] - 0s 4ms/step - loss: 1810687399490.7827 - val_loss: 1594154287104.0000\n",
      "Epoch 269/300\n",
      "22/22 [==============================] - 0s 4ms/step - loss: 1731345571483.8262 - val_loss: 1586267684864.0000\n",
      "Epoch 270/300\n",
      "22/22 [==============================] - 0s 4ms/step - loss: 1464612985811.4783 - val_loss: 1578675077120.0000\n",
      "Epoch 271/300\n",
      "22/22 [==============================] - 0s 4ms/step - loss: 2309234343223.6523 - val_loss: 1570701180928.0000\n",
      "Epoch 272/300\n",
      "22/22 [==============================] - 0s 4ms/step - loss: 1546051347500.5217 - val_loss: 1563123908608.0000\n",
      "Epoch 273/300\n",
      "22/22 [==============================] - 0s 4ms/step - loss: 1850874467906.7827 - val_loss: 1555261947904.0000\n",
      "Epoch 274/300\n",
      "22/22 [==============================] - 0s 5ms/step - loss: 1446351610212.1738 - val_loss: 1547760828416.0000\n",
      "Epoch 275/300\n",
      "22/22 [==============================] - 0s 4ms/step - loss: 1809716352578.7827 - val_loss: 1540072931328.0000\n",
      "Epoch 276/300\n",
      "22/22 [==============================] - 0s 4ms/step - loss: 1390179510717.2173 - val_loss: 1532696854528.0000\n",
      "Epoch 277/300\n",
      "22/22 [==============================] - 0s 5ms/step - loss: 1967859239713.3914 - val_loss: 1524786659328.0000\n",
      "Epoch 278/300\n",
      "22/22 [==============================] - 0s 4ms/step - loss: 1798994019016.3479 - val_loss: 1517324337152.0000\n",
      "Epoch 279/300\n",
      "22/22 [==============================] - 0s 5ms/step - loss: 1575885788026.4348 - val_loss: 1509611405312.0000\n",
      "Epoch 280/300\n",
      "22/22 [==============================] - 0s 5ms/step - loss: 1684282967440.6956 - val_loss: 1502152753152.0000\n",
      "Epoch 281/300\n",
      "22/22 [==============================] - 0s 4ms/step - loss: 1615941998146.7827 - val_loss: 1494703013888.0000\n",
      "Epoch 282/300\n",
      "22/22 [==============================] - 0s 4ms/step - loss: 1825241574533.5652 - val_loss: 1486995587072.0000\n",
      "Epoch 283/300\n",
      "22/22 [==============================] - 0s 4ms/step - loss: 2119577815129.0435 - val_loss: 1479393017856.0000\n",
      "Epoch 284/300\n",
      "22/22 [==============================] - 0s 4ms/step - loss: 1828885700964.1738 - val_loss: 1472039616512.0000\n",
      "Epoch 285/300\n",
      "22/22 [==============================] - 0s 5ms/step - loss: 1783665405061.5652 - val_loss: 1464719376384.0000\n",
      "Epoch 286/300\n",
      "22/22 [==============================] - 0s 4ms/step - loss: 1414789221865.7390 - val_loss: 1457794973696.0000\n",
      "Epoch 287/300\n",
      "22/22 [==============================] - 0s 4ms/step - loss: 1631539446472.3479 - val_loss: 1450295033856.0000\n",
      "Epoch 288/300\n",
      "22/22 [==============================] - 0s 4ms/step - loss: 1402962469932.5217 - val_loss: 1443040985088.0000\n",
      "Epoch 289/300\n",
      "22/22 [==============================] - 0s 4ms/step - loss: 2113186208723.4783 - val_loss: 1435619164160.0000\n",
      "Epoch 290/300\n",
      "22/22 [==============================] - 0s 5ms/step - loss: 1582204885971.4783 - val_loss: 1428411252736.0000\n",
      "Epoch 291/300\n",
      "22/22 [==============================] - 0s 4ms/step - loss: 1553143841480.3479 - val_loss: 1421147111424.0000\n",
      "Epoch 292/300\n",
      "22/22 [==============================] - 0s 4ms/step - loss: 1524964908699.8262 - val_loss: 1413962924032.0000\n",
      "Epoch 293/300\n",
      "22/22 [==============================] - 0s 4ms/step - loss: 1439978549069.9131 - val_loss: 1406922653696.0000\n",
      "Epoch 294/300\n",
      "22/22 [==============================] - 0s 5ms/step - loss: 1237758623031.6521 - val_loss: 1399870062592.0000\n",
      "Epoch 295/300\n",
      "22/22 [==============================] - 0s 5ms/step - loss: 1461395567126.2610 - val_loss: 1392643407872.0000\n",
      "Epoch 296/300\n",
      "22/22 [==============================] - 0s 5ms/step - loss: 1166532021025.3914 - val_loss: 1385852960768.0000\n",
      "Epoch 297/300\n",
      "22/22 [==============================] - 0s 5ms/step - loss: 1708300617817.0435 - val_loss: 1378345680896.0000\n",
      "Epoch 298/300\n",
      "22/22 [==============================] - 0s 4ms/step - loss: 1658933406141.2173 - val_loss: 1371202519040.0000\n",
      "Epoch 299/300\n",
      "22/22 [==============================] - 0s 4ms/step - loss: 1391932108621.9131 - val_loss: 1364382580736.0000\n",
      "Epoch 300/300\n",
      "22/22 [==============================] - 0s 4ms/step - loss: 1551581656998.9565 - val_loss: 1357299187712.0000\n"
     ]
    },
    {
     "data": {
      "text/plain": [
       "<tensorflow.python.keras.callbacks.History at 0x2b2ba8dde48>"
      ]
     },
     "execution_count": 21,
     "metadata": {},
     "output_type": "execute_result"
    }
   ],
   "source": [
    "#Training model\n",
    "model.fit(x=X_train,y=y_train,\n",
    "          validation_data=(X_test,y_test),\n",
    "          batch_size=128,epochs=300)"
   ]
  },
  {
   "cell_type": "code",
   "execution_count": 22,
   "metadata": {},
   "outputs": [
    {
     "name": "stdout",
     "output_type": "stream",
     "text": [
      "Model: \"sequential\"\n",
      "_________________________________________________________________\n",
      "Layer (type)                 Output Shape              Param #   \n",
      "=================================================================\n",
      "dense (Dense)                (None, 5)                 30        \n",
      "_________________________________________________________________\n",
      "dense_1 (Dense)              (None, 5)                 30        \n",
      "_________________________________________________________________\n",
      "dense_2 (Dense)              (None, 5)                 30        \n",
      "_________________________________________________________________\n",
      "dense_3 (Dense)              (None, 1)                 6         \n",
      "=================================================================\n",
      "Total params: 96\n",
      "Trainable params: 96\n",
      "Non-trainable params: 0\n",
      "_________________________________________________________________\n"
     ]
    }
   ],
   "source": [
    "model.summary()"
   ]
  },
  {
   "cell_type": "code",
   "execution_count": 23,
   "metadata": {},
   "outputs": [
    {
     "data": {
      "text/plain": [
       "<matplotlib.axes._subplots.AxesSubplot at 0x2b2bc56a048>"
      ]
     },
     "execution_count": 23,
     "metadata": {},
     "output_type": "execute_result"
    },
    {
     "data": {
      "image/png": "[encoded data removed]",
      "text/plain": [
       "<Figure size 864x576 with 1 Axes>"
      ]
     },
     "metadata": {},
     "output_type": "display_data"
    }
   ],
   "source": [
    "loss_df = pd.DataFrame(model.history.history)\n",
    "loss_df.plot(figsize=(12,8))"
   ]
  },
  {
   "cell_type": "code",
   "execution_count": 24,
   "metadata": {},
   "outputs": [],
   "source": [
    "y_pred_nn = model.predict(X_test)"
   ]
  },
  {
   "cell_type": "code",
   "execution_count": 25,
   "metadata": {},
   "outputs": [
    {
     "data": {
      "text/plain": [
       "array([[1194043.9 ],\n",
       "       [ 559338.1 ],\n",
       "       [ 515362.47],\n",
       "       [ 332188.25],\n",
       "       [ 482600.16]], dtype=float32)"
      ]
     },
     "execution_count": 25,
     "metadata": {},
     "output_type": "execute_result"
    }
   ],
   "source": [
    "y_pred_nn[0:5]"
   ]
  },
  {
   "cell_type": "code",
   "execution_count": 26,
   "metadata": {},
   "outputs": [
    {
     "data": {
      "text/html": [
       "<div>\n",
       "<style scoped>\n",
       "    .dataframe tbody tr th:only-of-type {\n",
       "        vertical-align: middle;\n",
       "    }\n",
       "\n",
       "    .dataframe tbody tr th {\n",
       "        vertical-align: top;\n",
       "    }\n",
       "\n",
       "    .dataframe thead th {\n",
       "        text-align: right;\n",
       "    }\n",
       "</style>\n",
       "<table border=\"1\" class=\"dataframe\">\n",
       "  <thead>\n",
       "    <tr style=\"text-align: right;\">\n",
       "      <th></th>\n",
       "      <th>Actual</th>\n",
       "      <th>Predicted</th>\n",
       "    </tr>\n",
       "  </thead>\n",
       "  <tbody>\n",
       "    <tr>\n",
       "      <th>0</th>\n",
       "      <td>1250000</td>\n",
       "      <td>1194043.88</td>\n",
       "    </tr>\n",
       "    <tr>\n",
       "      <th>1</th>\n",
       "      <td>750000</td>\n",
       "      <td>559338.12</td>\n",
       "    </tr>\n",
       "    <tr>\n",
       "      <th>2</th>\n",
       "      <td>2160000</td>\n",
       "      <td>515362.47</td>\n",
       "    </tr>\n",
       "    <tr>\n",
       "      <th>3</th>\n",
       "      <td>920000</td>\n",
       "      <td>332188.25</td>\n",
       "    </tr>\n",
       "    <tr>\n",
       "      <th>4</th>\n",
       "      <td>500000</td>\n",
       "      <td>482600.16</td>\n",
       "    </tr>\n",
       "    <tr>\n",
       "      <th>5</th>\n",
       "      <td>1007000</td>\n",
       "      <td>465918.38</td>\n",
       "    </tr>\n",
       "    <tr>\n",
       "      <th>6</th>\n",
       "      <td>525000</td>\n",
       "      <td>897737.44</td>\n",
       "    </tr>\n",
       "    <tr>\n",
       "      <th>7</th>\n",
       "      <td>950000</td>\n",
       "      <td>468087.41</td>\n",
       "    </tr>\n",
       "    <tr>\n",
       "      <th>8</th>\n",
       "      <td>1417675</td>\n",
       "      <td>255263.03</td>\n",
       "    </tr>\n",
       "    <tr>\n",
       "      <th>9</th>\n",
       "      <td>675000</td>\n",
       "      <td>751363.38</td>\n",
       "    </tr>\n",
       "  </tbody>\n",
       "</table>\n",
       "</div>"
      ],
      "text/plain": [
       "    Actual  Predicted\n",
       "0  1250000 1194043.88\n",
       "1   750000  559338.12\n",
       "2  2160000  515362.47\n",
       "3   920000  332188.25\n",
       "4   500000  482600.16\n",
       "5  1007000  465918.38\n",
       "6   525000  897737.44\n",
       "7   950000  468087.41\n",
       "8  1417675  255263.03\n",
       "9   675000  751363.38"
      ]
     },
     "execution_count": 26,
     "metadata": {},
     "output_type": "execute_result"
    }
   ],
   "source": [
    "df_nn = pd.DataFrame({'Actual': y_test.ravel(), 'Predicted': y_pred_nn.ravel()})\n",
    "df_nn = df_nn.head(10)\n",
    "df_nn"
   ]
  },
  {
   "cell_type": "code",
   "execution_count": 72,
   "metadata": {},
   "outputs": [
    {
     "data": {
      "text/plain": [
       "<matplotlib.axes._subplots.AxesSubplot at 0x2b2c1c24b08>"
      ]
     },
     "execution_count": 72,
     "metadata": {},
     "output_type": "execute_result"
    },
    {
     "data": {
      "image/png": "[encoded data removed]",
      "text/plain": [
       "<Figure size 432x288 with 1 Axes>"
      ]
     },
     "metadata": {},
     "output_type": "display_data"
    }
   ],
   "source": [
    "df_nn.plot(title='Neural Network model')"
   ]
  },
  {
   "cell_type": "code",
   "execution_count": 28,
   "metadata": {},
   "outputs": [
    {
     "name": "stdout",
     "output_type": "stream",
     "text": [
      "Mean Absolute Error: 605453.48\n",
      "Mean Squared Error: 1357299034389.56\n",
      "Root Mean Squared Error: 1165031.77\n"
     ]
    }
   ],
   "source": [
    "y_pred_nn = model.predict(X_test)\n",
    "from sklearn import metrics\n",
    "\n",
    "#print(\"Train Accuracy Score {:.2f}\".format(model.score(X_train,y_train)))\n",
    "#print(\"Test Accuracy Score {:.2f}\".format(model.score(X_test, y_test)))\n",
    "print('Mean Absolute Error: {:.2f}'.format(metrics.mean_absolute_error(y_test, y_pred_nn)))\n",
    "print('Mean Squared Error: {:.2f}'.format(metrics.mean_squared_error(y_test, y_pred_nn)))\n",
    "print('Root Mean Squared Error: {:.2f}'.format(np.sqrt(metrics.mean_squared_error(y_test, y_pred_nn))))\n"
   ]
  },
  {
   "cell_type": "markdown",
   "metadata": {},
   "source": [
    "## Method3 DecisionTree "
   ]
  },
  {
   "cell_type": "code",
   "execution_count": 29,
   "metadata": {},
   "outputs": [
    {
     "data": {
      "text/plain": [
       "DecisionTreeRegressor(random_state=0)"
      ]
     },
     "execution_count": 29,
     "metadata": {},
     "output_type": "execute_result"
    }
   ],
   "source": [
    "from sklearn.tree import DecisionTreeRegressor\n",
    "\n",
    "tree_regressor = DecisionTreeRegressor(random_state=0)\n",
    "tree_regressor.fit(X_train, y_train)"
   ]
  },
  {
   "cell_type": "code",
   "execution_count": 30,
   "metadata": {},
   "outputs": [
    {
     "data": {
      "text/html": [
       "<div>\n",
       "<style scoped>\n",
       "    .dataframe tbody tr th:only-of-type {\n",
       "        vertical-align: middle;\n",
       "    }\n",
       "\n",
       "    .dataframe tbody tr th {\n",
       "        vertical-align: top;\n",
       "    }\n",
       "\n",
       "    .dataframe thead th {\n",
       "        text-align: right;\n",
       "    }\n",
       "</style>\n",
       "<table border=\"1\" class=\"dataframe\">\n",
       "  <thead>\n",
       "    <tr style=\"text-align: right;\">\n",
       "      <th></th>\n",
       "      <th>Actual</th>\n",
       "      <th>Predicted</th>\n",
       "    </tr>\n",
       "  </thead>\n",
       "  <tbody>\n",
       "    <tr>\n",
       "      <th>0</th>\n",
       "      <td>1250000</td>\n",
       "      <td>1000000.00</td>\n",
       "    </tr>\n",
       "    <tr>\n",
       "      <th>1</th>\n",
       "      <td>750000</td>\n",
       "      <td>1025750.00</td>\n",
       "    </tr>\n",
       "    <tr>\n",
       "      <th>2</th>\n",
       "      <td>2160000</td>\n",
       "      <td>1999000.00</td>\n",
       "    </tr>\n",
       "    <tr>\n",
       "      <th>3</th>\n",
       "      <td>920000</td>\n",
       "      <td>1025000.00</td>\n",
       "    </tr>\n",
       "    <tr>\n",
       "      <th>4</th>\n",
       "      <td>500000</td>\n",
       "      <td>751000.00</td>\n",
       "    </tr>\n",
       "    <tr>\n",
       "      <th>5</th>\n",
       "      <td>1007000</td>\n",
       "      <td>875000.00</td>\n",
       "    </tr>\n",
       "    <tr>\n",
       "      <th>6</th>\n",
       "      <td>525000</td>\n",
       "      <td>482500.00</td>\n",
       "    </tr>\n",
       "    <tr>\n",
       "      <th>7</th>\n",
       "      <td>950000</td>\n",
       "      <td>765000.00</td>\n",
       "    </tr>\n",
       "    <tr>\n",
       "      <th>8</th>\n",
       "      <td>1417675</td>\n",
       "      <td>1635000.00</td>\n",
       "    </tr>\n",
       "    <tr>\n",
       "      <th>9</th>\n",
       "      <td>675000</td>\n",
       "      <td>749000.00</td>\n",
       "    </tr>\n",
       "  </tbody>\n",
       "</table>\n",
       "</div>"
      ],
      "text/plain": [
       "    Actual  Predicted\n",
       "0  1250000 1000000.00\n",
       "1   750000 1025750.00\n",
       "2  2160000 1999000.00\n",
       "3   920000 1025000.00\n",
       "4   500000  751000.00\n",
       "5  1007000  875000.00\n",
       "6   525000  482500.00\n",
       "7   950000  765000.00\n",
       "8  1417675 1635000.00\n",
       "9   675000  749000.00"
      ]
     },
     "execution_count": 30,
     "metadata": {},
     "output_type": "execute_result"
    }
   ],
   "source": [
    "y_pred_tree = tree_regressor.predict(X_test)\n",
    "df_tree = pd.DataFrame({'Actual': y_test, 'Predicted': y_pred_tree})\n",
    "df_tree = df_tree.head(10)\n",
    "df_tree"
   ]
  },
  {
   "cell_type": "code",
   "execution_count": 69,
   "metadata": {},
   "outputs": [
    {
     "data": {
      "image/png": "[encoded data removed]",
      "text/plain": [
       "<Figure size 432x288 with 1 Axes>"
      ]
     },
     "metadata": {},
     "output_type": "display_data"
    }
   ],
   "source": [
    "df_tree.plot(title='Decision Tree model');"
   ]
  },
  {
   "cell_type": "code",
   "execution_count": 32,
   "metadata": {},
   "outputs": [
    {
     "name": "stdout",
     "output_type": "stream",
     "text": [
      "Train Accuracy Score 1.00\n",
      "Test Accuracy Score 0.35\n",
      "Mean Absolute Error: 423526.40\n",
      "Mean Squared Error: 865222250879.20\n",
      "Root Mean Squared Error: 930173.24\n"
     ]
    }
   ],
   "source": [
    "y_pred_tree = tree_regressor.predict(X_test)\n",
    "from sklearn import metrics\n",
    "\n",
    "print(\"Train Accuracy Score {:.2f}\".format(tree_regressor.score(X_train,y_train)))\n",
    "print(\"Test Accuracy Score {:.2f}\".format(tree_regressor.score(X_test, y_test)))\n",
    "print('Mean Absolute Error: {:.2f}'.format(metrics.mean_absolute_error(y_test, y_pred_tree)))\n",
    "print('Mean Squared Error: {:.2f}'.format(metrics.mean_squared_error(y_test, y_pred_tree)))\n",
    "print('Root Mean Squared Error: {:.2f}'.format(np.sqrt(metrics.mean_squared_error(y_test, y_pred_tree))))\n"
   ]
  },
  {
   "cell_type": "markdown",
   "metadata": {},
   "source": [
    "## Method4: Random Forest Regressor"
   ]
  },
  {
   "cell_type": "code",
   "execution_count": 33,
   "metadata": {},
   "outputs": [
    {
     "data": {
      "text/plain": [
       "RandomForestRegressor(n_estimators=200, random_state=0)"
      ]
     },
     "execution_count": 33,
     "metadata": {},
     "output_type": "execute_result"
    }
   ],
   "source": [
    "from sklearn.ensemble import RandomForestRegressor\n",
    "\n",
    "rf_regressor = RandomForestRegressor(n_estimators=200, random_state=0)\n",
    "rf_regressor.fit(X_train, y_train)"
   ]
  },
  {
   "cell_type": "code",
   "execution_count": 35,
   "metadata": {},
   "outputs": [
    {
     "data": {
      "text/html": [
       "<div>\n",
       "<style scoped>\n",
       "    .dataframe tbody tr th:only-of-type {\n",
       "        vertical-align: middle;\n",
       "    }\n",
       "\n",
       "    .dataframe tbody tr th {\n",
       "        vertical-align: top;\n",
       "    }\n",
       "\n",
       "    .dataframe thead th {\n",
       "        text-align: right;\n",
       "    }\n",
       "</style>\n",
       "<table border=\"1\" class=\"dataframe\">\n",
       "  <thead>\n",
       "    <tr style=\"text-align: right;\">\n",
       "      <th></th>\n",
       "      <th>Actual</th>\n",
       "      <th>Predicted</th>\n",
       "    </tr>\n",
       "  </thead>\n",
       "  <tbody>\n",
       "    <tr>\n",
       "      <th>0</th>\n",
       "      <td>1250000</td>\n",
       "      <td>1868674.25</td>\n",
       "    </tr>\n",
       "    <tr>\n",
       "      <th>1</th>\n",
       "      <td>750000</td>\n",
       "      <td>898367.46</td>\n",
       "    </tr>\n",
       "    <tr>\n",
       "      <th>2</th>\n",
       "      <td>2160000</td>\n",
       "      <td>2161649.95</td>\n",
       "    </tr>\n",
       "    <tr>\n",
       "      <th>3</th>\n",
       "      <td>920000</td>\n",
       "      <td>1139703.26</td>\n",
       "    </tr>\n",
       "    <tr>\n",
       "      <th>4</th>\n",
       "      <td>500000</td>\n",
       "      <td>672826.74</td>\n",
       "    </tr>\n",
       "    <tr>\n",
       "      <th>5</th>\n",
       "      <td>1007000</td>\n",
       "      <td>891512.25</td>\n",
       "    </tr>\n",
       "    <tr>\n",
       "      <th>6</th>\n",
       "      <td>525000</td>\n",
       "      <td>631546.25</td>\n",
       "    </tr>\n",
       "    <tr>\n",
       "      <th>7</th>\n",
       "      <td>950000</td>\n",
       "      <td>962632.64</td>\n",
       "    </tr>\n",
       "    <tr>\n",
       "      <th>8</th>\n",
       "      <td>1417675</td>\n",
       "      <td>1384997.25</td>\n",
       "    </tr>\n",
       "    <tr>\n",
       "      <th>9</th>\n",
       "      <td>675000</td>\n",
       "      <td>771046.68</td>\n",
       "    </tr>\n",
       "  </tbody>\n",
       "</table>\n",
       "</div>"
      ],
      "text/plain": [
       "    Actual  Predicted\n",
       "0  1250000 1868674.25\n",
       "1   750000  898367.46\n",
       "2  2160000 2161649.95\n",
       "3   920000 1139703.26\n",
       "4   500000  672826.74\n",
       "5  1007000  891512.25\n",
       "6   525000  631546.25\n",
       "7   950000  962632.64\n",
       "8  1417675 1384997.25\n",
       "9   675000  771046.68"
      ]
     },
     "execution_count": 35,
     "metadata": {},
     "output_type": "execute_result"
    }
   ],
   "source": [
    "y_pred_forest = rf_regressor.predict(X_test)\n",
    "df_forest = pd.DataFrame({'Actual': y_test, 'Predicted': y_pred_forest})\n",
    "df_forest = df_forest.head(10)\n",
    "df_forest"
   ]
  },
  {
   "cell_type": "code",
   "execution_count": 76,
   "metadata": {},
   "outputs": [
    {
     "data": {
      "image/png": "[encoded data removed]",
      "text/plain": [
       "<Figure size 432x288 with 1 Axes>"
      ]
     },
     "metadata": {},
     "output_type": "display_data"
    }
   ],
   "source": [
    "df_forest.plot(title=\"Random Forest Model \");"
   ]
  },
  {
   "cell_type": "code",
   "execution_count": 37,
   "metadata": {},
   "outputs": [
    {
     "name": "stdout",
     "output_type": "stream",
     "text": [
      "Train Accuracy Score 0.93\n",
      "Test Accuracy Score 0.58\n",
      "Mean Absolute Error: 328583.78\n",
      "Mean Squared Error: 559220087806.43\n",
      "Root Mean Squared Error: 747810.20\n"
     ]
    }
   ],
   "source": [
    "y_pred_forest = rf_regressor.predict(X_test)\n",
    "from sklearn import metrics\n",
    "\n",
    "print(\"Train Accuracy Score {:.2f}\".format(rf_regressor.score(X_train,y_train)))\n",
    "print(\"Test Accuracy Score {:.2f}\".format(rf_regressor.score(X_test, y_test)))\n",
    "print('Mean Absolute Error: {:.2f}'.format(metrics.mean_absolute_error(y_test, y_pred_forest)))\n",
    "print('Mean Squared Error: {:.2f}'.format(metrics.mean_squared_error(y_test, y_pred_forest)))\n",
    "print('Root Mean Squared Error: {:.2f}'.format(np.sqrt(metrics.mean_squared_error(y_test, y_pred_forest))))"
   ]
  },
  {
   "cell_type": "markdown",
   "metadata": {},
   "source": [
    "## Comparing the 4 models"
   ]
  },
  {
   "cell_type": "code",
   "execution_count": 38,
   "metadata": {},
   "outputs": [
    {
     "name": "stdout",
     "output_type": "stream",
     "text": [
      "Model: Linear Regression\n",
      "\n",
      "Mean Absolute Error(MAE): 420131.53\n",
      "Mean Squared Error(MSE): 663699870255.79\n",
      "Root Mean Squared Error(RMSE): 814677.77\n",
      "*********************************\n",
      "\n",
      "Model: Neural Network\n",
      "\n",
      "Mean Absolute Error(MAE): 605453.48\n",
      "Mean Squared Error(MSE):1357299034389.56\n",
      "Root Mean Squared Error(RMSE):1165031.77\n",
      "*********************************\n",
      "\n",
      "Model: DecisionTree\n",
      "\n",
      "Mean Absolute Error: 423526.40\n",
      "Mean Squared Error: 865222250879.20\n",
      "Root Mean Squared Error: 930173.24\n",
      "*********************************\n",
      "\n",
      "Model: Random Forest\n",
      "\n",
      "Mean Absolute Error(MAE): 328583.78\n",
      "Mean Squared Error(MSE):559220087806.43\n",
      "Root Mean Squared Error(RMSE):747810.20\n"
     ]
    }
   ],
   "source": [
    "print('Model: Linear Regression\\n')\n",
    "\n",
    "print('Mean Absolute Error(MAE): {:.2f}'.format(metrics.mean_absolute_error(y_test, y_pred_lr)))\n",
    "print('Mean Squared Error(MSE): {:.2f}'.format(metrics.mean_squared_error(y_test, y_pred_lr)))\n",
    "print('Root Mean Squared Error(RMSE): {:.2f}'.format(np.sqrt(metrics.mean_squared_error(y_test, y_pred_lr))))\n",
    "print('*********************************\\n')\n",
    "print('Model: Neural Network\\n')\n",
    "print('Mean Absolute Error(MAE): {:.2f}'.format(metrics.mean_absolute_error(y_test, y_pred_nn))) \n",
    "print('Mean Squared Error(MSE):{:.2f}'.format(metrics.mean_squared_error(y_test, y_pred_nn)))  \n",
    "print('Root Mean Squared Error(RMSE):{:.2f}'.format(np.sqrt(metrics.mean_squared_error(y_test, y_pred_nn))))\n",
    "print('*********************************\\n')\n",
    "print('Model: DecisionTree\\n')\n",
    "print('Mean Absolute Error: {:.2f}'.format(metrics.mean_absolute_error(y_test, y_pred_tree)))\n",
    "print('Mean Squared Error: {:.2f}'.format(metrics.mean_squared_error(y_test, y_pred_tree)))\n",
    "print('Root Mean Squared Error: {:.2f}'.format(np.sqrt(metrics.mean_squared_error(y_test, y_pred_tree))))\n",
    "print('*********************************\\n')\n",
    "print('Model: Random Forest\\n')\n",
    "print('Mean Absolute Error(MAE): {:.2f}'.format(metrics.mean_absolute_error(y_test, y_pred_forest))) \n",
    "print('Mean Squared Error(MSE):{:.2f}'.format(metrics.mean_squared_error(y_test, y_pred_forest)))  \n",
    "print('Root Mean Squared Error(RMSE):{:.2f}'.format(np.sqrt(metrics.mean_squared_error(y_test, y_pred_forest))))\n"
   ]
  },
  {
   "cell_type": "code",
   "execution_count": 48,
   "metadata": {},
   "outputs": [],
   "source": [
    "house_price = data.drop('Price',axis = 1).iloc[0:5]\n",
    "house_price = scaler.transform(house_price.values.reshape(-1,5))"
   ]
  },
  {
   "cell_type": "code",
   "execution_count": 49,
   "metadata": {},
   "outputs": [],
   "source": [
    "y_pred_lr = regressor.predict(house_price)\n",
    "y_pred_nn = model.predict(house_price)\n",
    "y_pred_rf = rf_regressor.predict(house_price)\n",
    "y_pred_tree = tree_regressor.predict(house_price)"
   ]
  },
  {
   "cell_type": "code",
   "execution_count": 50,
   "metadata": {},
   "outputs": [
    {
     "data": {
      "text/plain": [
       "array([1648676.74284285,  391610.04062494,  601706.49946282,\n",
       "       1331904.15023104,  645829.8570311 ])"
      ]
     },
     "execution_count": 50,
     "metadata": {},
     "output_type": "execute_result"
    }
   ],
   "source": [
    "y_pred_lr\n"
   ]
  },
  {
   "cell_type": "code",
   "execution_count": 66,
   "metadata": {},
   "outputs": [
    {
     "data": {
      "text/plain": [
       "(197499.9940860215, 1352500.0059139784, 328756.6994434069, 1711530.0840243816)"
      ]
     },
     "execution_count": 66,
     "metadata": {},
     "output_type": "execute_result"
    },
    {
     "data": {
      "image/png": "[encoded data removed]",
      "text/plain": [
       "<Figure size 720x720 with 1 Axes>"
      ]
     },
     "metadata": {},
     "output_type": "display_data"
    }
   ],
   "source": [
    "plt.figure(figsize=(10,10))\n",
    "plt.scatter(data['Price'][0:5],y_pred_lr)\n",
    "plt.title(\"Add title\")\n",
    "plt.xlabel('Real Values')\n",
    "plt.ylabel('Predicted Values')\n",
    "plt.axis('equal')"
   ]
  },
  {
   "cell_type": "code",
   "execution_count": 42,
   "metadata": {},
   "outputs": [
    {
     "data": {
      "text/plain": [
       "array([[620065.1]], dtype=float32)"
      ]
     },
     "execution_count": 42,
     "metadata": {},
     "output_type": "execute_result"
    }
   ],
   "source": [
    "y_pred_nn"
   ]
  },
  {
   "cell_type": "code",
   "execution_count": 43,
   "metadata": {},
   "outputs": [
    {
     "data": {
      "text/plain": [
       "array([1048605.735])"
      ]
     },
     "execution_count": 43,
     "metadata": {},
     "output_type": "execute_result"
    }
   ],
   "source": [
    "y_pred_rf"
   ]
  },
  {
   "cell_type": "code",
   "execution_count": 44,
   "metadata": {},
   "outputs": [
    {
     "data": {
      "text/plain": [
       "725000"
      ]
     },
     "execution_count": 44,
     "metadata": {},
     "output_type": "execute_result"
    }
   ],
   "source": [
    "data['Price'][0]"
   ]
  },
  {
   "cell_type": "code",
   "execution_count": null,
   "metadata": {},
   "outputs": [],
   "source": []
  }
 ],
 "metadata": {
  "kernelspec": {
   "display_name": "Python 3",
   "language": "python",
   "name": "python3"
  },
  "language_info": {
   "codemirror_mode": {
    "name": "ipython",
    "version": 3
   },
   "file_extension": ".py",
   "mimetype": "text/x-python",
   "name": "python",
   "nbconvert_exporter": "python",
   "pygments_lexer": "ipython3",
   "version": "3.7.9"
  }
 },
 "nbformat": 4,
 "nbformat_minor": 4
}
