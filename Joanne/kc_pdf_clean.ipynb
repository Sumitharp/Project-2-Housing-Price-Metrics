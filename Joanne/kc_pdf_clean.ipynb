{
 "cells": [
  {
   "cell_type": "code",
   "execution_count": 1,
   "metadata": {},
   "outputs": [
    {
     "name": "stderr",
     "output_type": "stream",
     "text": [
      "\n",
      "Bad key \"text.kerning_factor\" on line 4 in\n",
      "C:\\Users\\Joanne\\anaconda3\\envs\\dev\\lib\\site-packages\\matplotlib\\mpl-data\\stylelib\\_classic_test_patch.mplstyle.\n",
      "You probably need to get an updated matplotlibrc file from\n",
      "http://github.com/matplotlib/matplotlib/blob/master/matplotlibrc.template\n",
      "or from the matplotlib source distribution\n"
     ]
    }
   ],
   "source": [
    "# Import libary and dependencies\n",
    "import tensorflow as tf\n",
    "from tensorflow import keras\n",
    "from tensorflow.keras import layers\n",
    "import pandas as pd\n",
    "import numpy as np\n",
    "import matplotlib.pyplot as plt\n",
    "import seaborn as sns"
   ]
  },
  {
   "cell_type": "code",
   "execution_count": 2,
   "metadata": {},
   "outputs": [
    {
     "data": {
      "text/html": [
       "<div>\n",
       "<style scoped>\n",
       "    .dataframe tbody tr th:only-of-type {\n",
       "        vertical-align: middle;\n",
       "    }\n",
       "\n",
       "    .dataframe tbody tr th {\n",
       "        vertical-align: top;\n",
       "    }\n",
       "\n",
       "    .dataframe thead th {\n",
       "        text-align: right;\n",
       "    }\n",
       "</style>\n",
       "<table border=\"1\" class=\"dataframe\">\n",
       "  <thead>\n",
       "    <tr style=\"text-align: right;\">\n",
       "      <th></th>\n",
       "      <th>Status</th>\n",
       "      <th>ZipCode</th>\n",
       "      <th>City</th>\n",
       "      <th>Price</th>\n",
       "      <th>Days_on_market</th>\n",
       "      <th>Beds</th>\n",
       "      <th>Baths</th>\n",
       "      <th>Sqft</th>\n",
       "      <th>Date</th>\n",
       "      <th>Acres</th>\n",
       "      <th>Lot_sqft</th>\n",
       "      <th>Liv_index</th>\n",
       "    </tr>\n",
       "  </thead>\n",
       "  <tbody>\n",
       "    <tr>\n",
       "      <th>0</th>\n",
       "      <td>A</td>\n",
       "      <td>98001</td>\n",
       "      <td>Auburn</td>\n",
       "      <td>725000</td>\n",
       "      <td>4</td>\n",
       "      <td>3</td>\n",
       "      <td>0.00</td>\n",
       "      <td>3060</td>\n",
       "      <td>5/26/2021</td>\n",
       "      <td>0.227</td>\n",
       "      <td>9894</td>\n",
       "      <td>68</td>\n",
       "    </tr>\n",
       "    <tr>\n",
       "      <th>1</th>\n",
       "      <td>A</td>\n",
       "      <td>98001</td>\n",
       "      <td>Auburn</td>\n",
       "      <td>300000</td>\n",
       "      <td>4</td>\n",
       "      <td>2</td>\n",
       "      <td>1.00</td>\n",
       "      <td>920</td>\n",
       "      <td>5/26/2021</td>\n",
       "      <td>0.164</td>\n",
       "      <td>7150</td>\n",
       "      <td>68</td>\n",
       "    </tr>\n",
       "    <tr>\n",
       "      <th>2</th>\n",
       "      <td>S</td>\n",
       "      <td>98001</td>\n",
       "      <td>Auburn</td>\n",
       "      <td>555000</td>\n",
       "      <td>3</td>\n",
       "      <td>2</td>\n",
       "      <td>1.00</td>\n",
       "      <td>1196</td>\n",
       "      <td>5/7/2021</td>\n",
       "      <td>0.544</td>\n",
       "      <td>23689</td>\n",
       "      <td>68</td>\n",
       "    </tr>\n",
       "    <tr>\n",
       "      <th>3</th>\n",
       "      <td>A</td>\n",
       "      <td>98001</td>\n",
       "      <td>Auburn</td>\n",
       "      <td>1300000</td>\n",
       "      <td>220</td>\n",
       "      <td>4</td>\n",
       "      <td>1.75</td>\n",
       "      <td>2850</td>\n",
       "      <td>10/22/2020</td>\n",
       "      <td>6.000</td>\n",
       "      <td>261360</td>\n",
       "      <td>68</td>\n",
       "    </tr>\n",
       "    <tr>\n",
       "      <th>4</th>\n",
       "      <td>S</td>\n",
       "      <td>98001</td>\n",
       "      <td>Auburn</td>\n",
       "      <td>250000</td>\n",
       "      <td>46</td>\n",
       "      <td>2</td>\n",
       "      <td>1.50</td>\n",
       "      <td>1200</td>\n",
       "      <td>5/20/2021</td>\n",
       "      <td>0.220</td>\n",
       "      <td>9600</td>\n",
       "      <td>68</td>\n",
       "    </tr>\n",
       "  </tbody>\n",
       "</table>\n",
       "</div>"
      ],
      "text/plain": [
       "  Status  ZipCode    City    Price  Days_on_market  Beds  Baths  Sqft  \\\n",
       "0      A    98001  Auburn   725000               4     3   0.00  3060   \n",
       "1      A    98001  Auburn   300000               4     2   1.00   920   \n",
       "2      S    98001  Auburn   555000               3     2   1.00  1196   \n",
       "3      A    98001  Auburn  1300000             220     4   1.75  2850   \n",
       "4      S    98001  Auburn   250000              46     2   1.50  1200   \n",
       "\n",
       "         Date  Acres  Lot_sqft  Liv_index  \n",
       "0   5/26/2021  0.227      9894         68  \n",
       "1   5/26/2021  0.164      7150         68  \n",
       "2    5/7/2021  0.544     23689         68  \n",
       "3  10/22/2020  6.000    261360         68  \n",
       "4   5/20/2021  0.220      9600         68  "
      ]
     },
     "execution_count": 2,
     "metadata": {},
     "output_type": "execute_result"
    }
   ],
   "source": [
    "# Read the data\n",
    "file_path=('cleaned_data.csv')\n",
    "data=pd.read_csv(file_path, index_col = 0)\n",
    "data.head()"
   ]
  },
  {
   "cell_type": "code",
   "execution_count": 3,
   "metadata": {},
   "outputs": [
    {
     "data": {
      "text/html": [
       "<div>\n",
       "<style scoped>\n",
       "    .dataframe tbody tr th:only-of-type {\n",
       "        vertical-align: middle;\n",
       "    }\n",
       "\n",
       "    .dataframe tbody tr th {\n",
       "        vertical-align: top;\n",
       "    }\n",
       "\n",
       "    .dataframe thead th {\n",
       "        text-align: right;\n",
       "    }\n",
       "</style>\n",
       "<table border=\"1\" class=\"dataframe\">\n",
       "  <thead>\n",
       "    <tr style=\"text-align: right;\">\n",
       "      <th></th>\n",
       "      <th>Price</th>\n",
       "      <th>Beds</th>\n",
       "      <th>Baths</th>\n",
       "      <th>Sqft</th>\n",
       "      <th>Lot_sqft</th>\n",
       "      <th>Liv_index</th>\n",
       "    </tr>\n",
       "  </thead>\n",
       "  <tbody>\n",
       "    <tr>\n",
       "      <th>0</th>\n",
       "      <td>725000</td>\n",
       "      <td>3</td>\n",
       "      <td>0.00</td>\n",
       "      <td>3060</td>\n",
       "      <td>9894</td>\n",
       "      <td>68</td>\n",
       "    </tr>\n",
       "    <tr>\n",
       "      <th>1</th>\n",
       "      <td>300000</td>\n",
       "      <td>2</td>\n",
       "      <td>1.00</td>\n",
       "      <td>920</td>\n",
       "      <td>7150</td>\n",
       "      <td>68</td>\n",
       "    </tr>\n",
       "    <tr>\n",
       "      <th>2</th>\n",
       "      <td>555000</td>\n",
       "      <td>2</td>\n",
       "      <td>1.00</td>\n",
       "      <td>1196</td>\n",
       "      <td>23689</td>\n",
       "      <td>68</td>\n",
       "    </tr>\n",
       "    <tr>\n",
       "      <th>3</th>\n",
       "      <td>1300000</td>\n",
       "      <td>4</td>\n",
       "      <td>1.75</td>\n",
       "      <td>2850</td>\n",
       "      <td>261360</td>\n",
       "      <td>68</td>\n",
       "    </tr>\n",
       "    <tr>\n",
       "      <th>4</th>\n",
       "      <td>250000</td>\n",
       "      <td>2</td>\n",
       "      <td>1.50</td>\n",
       "      <td>1200</td>\n",
       "      <td>9600</td>\n",
       "      <td>68</td>\n",
       "    </tr>\n",
       "  </tbody>\n",
       "</table>\n",
       "</div>"
      ],
      "text/plain": [
       "     Price  Beds  Baths  Sqft  Lot_sqft  Liv_index\n",
       "0   725000     3   0.00  3060      9894         68\n",
       "1   300000     2   1.00   920      7150         68\n",
       "2   555000     2   1.00  1196     23689         68\n",
       "3  1300000     4   1.75  2850    261360         68\n",
       "4   250000     2   1.50  1200      9600         68"
      ]
     },
     "execution_count": 3,
     "metadata": {},
     "output_type": "execute_result"
    }
   ],
   "source": [
    "data = data.drop(columns=[\"Date\",\"Status\",\"ZipCode\",\"City\",\"Acres\",\"Days_on_market\"])\n",
    "data.head()"
   ]
  },
  {
   "cell_type": "code",
   "execution_count": 4,
   "metadata": {},
   "outputs": [
    {
     "name": "stdout",
     "output_type": "stream",
     "text": [
      "<class 'pandas.core.frame.DataFrame'>\n",
      "Int64Index: 4128 entries, 0 to 4187\n",
      "Data columns (total 6 columns):\n",
      " #   Column     Non-Null Count  Dtype  \n",
      "---  ------     --------------  -----  \n",
      " 0   Price      4128 non-null   int64  \n",
      " 1   Beds       4128 non-null   int64  \n",
      " 2   Baths      4128 non-null   float64\n",
      " 3   Sqft       4128 non-null   int64  \n",
      " 4   Lot_sqft   4128 non-null   int64  \n",
      " 5   Liv_index  4128 non-null   int64  \n",
      "dtypes: float64(1), int64(5)\n",
      "memory usage: 225.8 KB\n"
     ]
    }
   ],
   "source": [
    "data.info()"
   ]
  },
  {
   "cell_type": "code",
   "execution_count": 5,
   "metadata": {},
   "outputs": [
    {
     "name": "stdout",
     "output_type": "stream",
     "text": [
      "count         4,128.0\n",
      "mean      1,171,752.0\n",
      "std       1,229,190.1\n",
      "min         139,000.0\n",
      "25%         659,990.0\n",
      "50%         868,222.5\n",
      "75%       1,299,237.5\n",
      "max      27,500,000.0\n",
      "Name: Price, dtype: object\n"
     ]
    }
   ],
   "source": [
    "print(data['Price'].describe().apply(lambda x: '{:,.1f}'.format(x)))"
   ]
  },
  {
   "cell_type": "code",
   "execution_count": 6,
   "metadata": {},
   "outputs": [
    {
     "name": "stderr",
     "output_type": "stream",
     "text": [
      "C:\\Users\\Joanne\\anaconda3\\envs\\dev\\lib\\site-packages\\seaborn\\distributions.py:2551: FutureWarning: `distplot` is a deprecated function and will be removed in a future version. Please adapt your code to use either `displot` (a figure-level function with similar flexibility) or `histplot` (an axes-level function for histograms).\n",
      "  warnings.warn(msg, FutureWarning)\n",
      "C:\\Users\\Joanne\\anaconda3\\envs\\dev\\lib\\site-packages\\matplotlib\\cbook\\__init__.py:1377: FutureWarning: Support for multi-dimensional indexing (e.g. `obj[:, None]`) is deprecated and will be removed in a future version.  Convert to a numpy array before indexing instead.\n",
      "  x[:, None]\n",
      "C:\\Users\\Joanne\\anaconda3\\envs\\dev\\lib\\site-packages\\matplotlib\\axes\\_base.py:237: FutureWarning: Support for multi-dimensional indexing (e.g. `obj[:, None]`) is deprecated and will be removed in a future version.  Convert to a numpy array before indexing instead.\n",
      "  x = x[:, np.newaxis]\n",
      "C:\\Users\\Joanne\\anaconda3\\envs\\dev\\lib\\site-packages\\matplotlib\\axes\\_base.py:239: FutureWarning: Support for multi-dimensional indexing (e.g. `obj[:, None]`) is deprecated and will be removed in a future version.  Convert to a numpy array before indexing instead.\n",
      "  y = y[:, np.newaxis]\n"
     ]
    },
    {
     "data": {
      "image/png": "[encoded data removed]",
      "text/plain": [
       "<Figure size 1008x576 with 1 Axes>"
      ]
     },
     "metadata": {
      "needs_background": "light"
     },
     "output_type": "display_data"
    }
   ],
   "source": [
    "# Sale Price Distribution\n",
    "fig, ax = plt.subplots(figsize=(14,8))\n",
    "sns.set_style(\"whitegrid\")\n",
    "sns.distplot(data['Price'])\n",
    "plt.xlim(0,5000000)\n",
    "plt.show()"
   ]
  },
  {
   "cell_type": "code",
   "execution_count": 7,
   "metadata": {},
   "outputs": [
    {
     "data": {
      "text/plain": [
       "1171752.0479651163"
      ]
     },
     "execution_count": 7,
     "metadata": {},
     "output_type": "execute_result"
    }
   ],
   "source": [
    "data['Price'].mean()"
   ]
  },
  {
   "cell_type": "code",
   "execution_count": 8,
   "metadata": {},
   "outputs": [
    {
     "data": {
      "text/plain": [
       "<matplotlib.axes._subplots.AxesSubplot at 0x1782afb53c8>"
      ]
     },
     "execution_count": 8,
     "metadata": {},
     "output_type": "execute_result"
    },
    {
     "data": {
      "image/png": "[encoded data removed]",
      "text/plain": [
       "<Figure size 720x1008 with 2 Axes>"
      ]
     },
     "metadata": {},
     "output_type": "display_data"
    }
   ],
   "source": [
    "# Correlation to price value using heatmap\n",
    "fig, ax = plt.subplots(figsize=(10,14))\n",
    "price_corr = data.corr()[['Price']].sort_values(\n",
    "  by='Price', ascending=False)\n",
    "sns.heatmap(price_corr, annot=True, ax=ax) "
   ]
  },
  {
   "cell_type": "code",
   "execution_count": 9,
   "metadata": {},
   "outputs": [
    {
     "name": "stderr",
     "output_type": "stream",
     "text": [
      "C:\\Users\\Joanne\\anaconda3\\envs\\dev\\lib\\site-packages\\seaborn\\_decorators.py:43: FutureWarning: Pass the following variable as a keyword arg: x. From version 0.12, the only valid positional argument will be `data`, and passing other arguments without an explicit keyword will result in an error or misinterpretation.\n",
      "  FutureWarning\n",
      "C:\\Users\\Joanne\\anaconda3\\envs\\dev\\lib\\site-packages\\seaborn\\_decorators.py:43: FutureWarning: Pass the following variable as a keyword arg: x. From version 0.12, the only valid positional argument will be `data`, and passing other arguments without an explicit keyword will result in an error or misinterpretation.\n",
      "  FutureWarning\n",
      "C:\\Users\\Joanne\\anaconda3\\envs\\dev\\lib\\site-packages\\seaborn\\_decorators.py:43: FutureWarning: Pass the following variable as a keyword arg: x. From version 0.12, the only valid positional argument will be `data`, and passing other arguments without an explicit keyword will result in an error or misinterpretation.\n",
      "  FutureWarning\n",
      "C:\\Users\\Joanne\\anaconda3\\envs\\dev\\lib\\site-packages\\matplotlib\\figure.py:2144: UserWarning: This figure was using constrained_layout==True, but that is incompatible with subplots_adjust and or tight_layout: setting constrained_layout==False. \n",
      "  warnings.warn(\"This figure was using constrained_layout==True, \"\n"
     ]
    },
    {
     "data": {
      "image/png": "[encoded data removed]",
      "text/plain": [
       "<Figure size 1440x576 with 3 Axes>"
      ]
     },
     "metadata": {},
     "output_type": "display_data"
    }
   ],
   "source": [
    "#visualizing bedrooms, bathrooms, floors,grades\n",
    "fig = plt.figure(figsize=(20,8),constrained_layout=True)\n",
    "fig.add_subplot(2,2,1)\n",
    "sns.countplot(data['Baths'], palette = 'Greens_d')\n",
    "fig.add_subplot(2,2,2)\n",
    "sns.countplot(data['Beds'])\n",
    "fig.add_subplot(2,2,4)\n",
    "sns.countplot(data['Liv_index'])\n",
    "plt.tight_layout()"
   ]
  },
  {
   "cell_type": "code",
   "execution_count": 10,
   "metadata": {},
   "outputs": [
    {
     "name": "stderr",
     "output_type": "stream",
     "text": [
      "C:\\Users\\Joanne\\anaconda3\\envs\\dev\\lib\\site-packages\\seaborn\\_decorators.py:43: FutureWarning: Pass the following variables as keyword args: x, y. From version 0.12, the only valid positional argument will be `data`, and passing other arguments without an explicit keyword will result in an error or misinterpretation.\n",
      "  FutureWarning\n",
      "C:\\Users\\Joanne\\anaconda3\\envs\\dev\\lib\\site-packages\\seaborn\\_decorators.py:43: FutureWarning: Pass the following variables as keyword args: x, y. From version 0.12, the only valid positional argument will be `data`, and passing other arguments without an explicit keyword will result in an error or misinterpretation.\n",
      "  FutureWarning\n"
     ]
    },
    {
     "data": {
      "text/plain": [
       "<matplotlib.axes._subplots.AxesSubplot at 0x1782afcf5c8>"
      ]
     },
     "execution_count": 10,
     "metadata": {},
     "output_type": "execute_result"
    },
    {
     "data": {
      "image/png": "[encoded data removed]",
      "text/plain": [
       "<Figure size 1152x360 with 2 Axes>"
      ]
     },
     "metadata": {},
     "output_type": "display_data"
    }
   ],
   "source": [
    "# sqft liveing and price scatter plot\n",
    "fig = plt.figure(figsize=(16,5))\n",
    "fig.add_subplot(2,2,1)\n",
    "sns.scatterplot(data['Sqft'], data['Price'])\n",
    "fig.add_subplot(2,2,2)\n",
    "sns.scatterplot(data['Lot_sqft'],data['Price'])\n",
    "\n",
    "\n"
   ]
  },
  {
   "cell_type": "markdown",
   "metadata": {},
   "source": [
    "## Machine Learning"
   ]
  },
  {
   "cell_type": "code",
   "execution_count": 37,
   "metadata": {},
   "outputs": [],
   "source": [
    "# Initial imports\n",
    "import pandas as pd\n",
    "from pathlib import Path\n",
    "from sklearn import tree\n",
    "from sklearn.preprocessing import StandardScaler\n",
    "from sklearn.model_selection import train_test_split\n",
    "# Needed for decision tree visualization\n",
    "import pydotplus\n",
    "from IPython.display import Image"
   ]
  },
  {
   "cell_type": "code",
   "execution_count": 38,
   "metadata": {},
   "outputs": [],
   "source": [
    "# Define the features X set and the target y vector\n",
    "X = data.drop('Price',axis =1).values\n",
    "y = data['Price'].values\n",
    "#splitting Train and Test \n",
    "from sklearn.model_selection import train_test_split\n",
    "X_train, X_test, y_train, y_test = train_test_split(X, y, test_size=0.33, random_state=101)"
   ]
  },
  {
   "cell_type": "code",
   "execution_count": 39,
   "metadata": {},
   "outputs": [],
   "source": [
    "#standardization scaler - fit&transform on train, fit only on test\n",
    "from sklearn.preprocessing import StandardScaler\n",
    "scaler = StandardScaler()\n",
    "X_train = scaler.fit_transform(X_train)\n",
    "X_test = scaler.transform(X_test)"
   ]
  },
  {
   "cell_type": "markdown",
   "metadata": {},
   "source": [
    "## Method1 : Linear Regression"
   ]
  },
  {
   "cell_type": "code",
   "execution_count": 40,
   "metadata": {},
   "outputs": [
    {
     "data": {
      "text/plain": [
       "array([-306737.86442683,   77540.75343445,  987871.56658412,\n",
       "         -3001.80755973,   41362.85416336])"
      ]
     },
     "execution_count": 40,
     "metadata": {},
     "output_type": "execute_result"
    }
   ],
   "source": [
    "#Liner Regression\n",
    "from sklearn.linear_model import LinearRegression\n",
    "regressor = LinearRegression()  \n",
    "regressor.fit(X_train, y_train)\n",
    "\n",
    "#evaluate the model (intercept and slope)\n",
    "regressor.intercept_\n",
    "regressor.coef_"
   ]
  },
  {
   "cell_type": "code",
   "execution_count": 41,
   "metadata": {},
   "outputs": [
    {
     "data": {
      "text/plain": [
       "1185934.250994575"
      ]
     },
     "execution_count": 41,
     "metadata": {},
     "output_type": "execute_result"
    }
   ],
   "source": [
    "regressor.intercept_"
   ]
  },
  {
   "cell_type": "code",
   "execution_count": 42,
   "metadata": {},
   "outputs": [
    {
     "data": {
      "text/html": [
       "<div>\n",
       "<style scoped>\n",
       "    .dataframe tbody tr th:only-of-type {\n",
       "        vertical-align: middle;\n",
       "    }\n",
       "\n",
       "    .dataframe tbody tr th {\n",
       "        vertical-align: top;\n",
       "    }\n",
       "\n",
       "    .dataframe thead th {\n",
       "        text-align: right;\n",
       "    }\n",
       "</style>\n",
       "<table border=\"1\" class=\"dataframe\">\n",
       "  <thead>\n",
       "    <tr style=\"text-align: right;\">\n",
       "      <th></th>\n",
       "      <th>Actual</th>\n",
       "      <th>Predicted</th>\n",
       "    </tr>\n",
       "  </thead>\n",
       "  <tbody>\n",
       "    <tr>\n",
       "      <th>0</th>\n",
       "      <td>1250000</td>\n",
       "      <td>1.999642e+06</td>\n",
       "    </tr>\n",
       "    <tr>\n",
       "      <th>1</th>\n",
       "      <td>750000</td>\n",
       "      <td>1.108105e+06</td>\n",
       "    </tr>\n",
       "    <tr>\n",
       "      <th>2</th>\n",
       "      <td>2160000</td>\n",
       "      <td>2.286012e+06</td>\n",
       "    </tr>\n",
       "    <tr>\n",
       "      <th>3</th>\n",
       "      <td>920000</td>\n",
       "      <td>1.399684e+06</td>\n",
       "    </tr>\n",
       "    <tr>\n",
       "      <th>4</th>\n",
       "      <td>500000</td>\n",
       "      <td>1.084565e+06</td>\n",
       "    </tr>\n",
       "    <tr>\n",
       "      <th>5</th>\n",
       "      <td>1007000</td>\n",
       "      <td>7.549936e+05</td>\n",
       "    </tr>\n",
       "    <tr>\n",
       "      <th>6</th>\n",
       "      <td>525000</td>\n",
       "      <td>3.948510e+05</td>\n",
       "    </tr>\n",
       "    <tr>\n",
       "      <th>7</th>\n",
       "      <td>950000</td>\n",
       "      <td>1.692402e+06</td>\n",
       "    </tr>\n",
       "    <tr>\n",
       "      <th>8</th>\n",
       "      <td>1417675</td>\n",
       "      <td>1.355989e+06</td>\n",
       "    </tr>\n",
       "    <tr>\n",
       "      <th>9</th>\n",
       "      <td>675000</td>\n",
       "      <td>8.170328e+05</td>\n",
       "    </tr>\n",
       "  </tbody>\n",
       "</table>\n",
       "</div>"
      ],
      "text/plain": [
       "    Actual     Predicted\n",
       "0  1250000  1.999642e+06\n",
       "1   750000  1.108105e+06\n",
       "2  2160000  2.286012e+06\n",
       "3   920000  1.399684e+06\n",
       "4   500000  1.084565e+06\n",
       "5  1007000  7.549936e+05\n",
       "6   525000  3.948510e+05\n",
       "7   950000  1.692402e+06\n",
       "8  1417675  1.355989e+06\n",
       "9   675000  8.170328e+05"
      ]
     },
     "execution_count": 42,
     "metadata": {},
     "output_type": "execute_result"
    }
   ],
   "source": [
    "y_pred_lr = regressor.predict(X_test)\n",
    "df = pd.DataFrame({'Actual': y_test, 'Predicted': y_pred_lr})\n",
    "df_lr = df.head(10)\n",
    "df_lr"
   ]
  },
  {
   "cell_type": "code",
   "execution_count": 43,
   "metadata": {},
   "outputs": [
    {
     "data": {
      "text/plain": [
       "<matplotlib.axes._subplots.AxesSubplot at 0x1782ddb5088>"
      ]
     },
     "execution_count": 43,
     "metadata": {},
     "output_type": "execute_result"
    },
    {
     "data": {
      "image/png": "[encoded data removed]",
      "text/plain": [
       "<Figure size 432x288 with 1 Axes>"
      ]
     },
     "metadata": {},
     "output_type": "display_data"
    }
   ],
   "source": [
    "df_lr.plot()"
   ]
  },
  {
   "cell_type": "code",
   "execution_count": 44,
   "metadata": {},
   "outputs": [
    {
     "name": "stdout",
     "output_type": "stream",
     "text": [
      "Train Accuracy Score 0.50 \n",
      "Test Accuracy Score 0.50 \n",
      "Mean Absolute Error: 420131.53\n",
      "Mean Squared Error:663699870255.79\n",
      "Root Mean Squared Error:814677.77\n"
     ]
    }
   ],
   "source": [
    "from sklearn import metrics\n",
    "\n",
    "print(\"Train Accuracy Score {:.2f} \".format(regressor.score(X_train,y_train)))\n",
    "print(\"Test Accuracy Score {:.2f} \".format(regressor.score(X_test, y_test)))\n",
    "print('Mean Absolute Error: {:.2f}'.format(metrics.mean_absolute_error(y_test, y_pred_lr))) \n",
    "print('Mean Squared Error:{:.2f}'.format(metrics.mean_squared_error(y_test, y_pred_lr)))  \n",
    "print('Root Mean Squared Error:{:.2f}'.format(np.sqrt(metrics.mean_squared_error(y_test, y_pred_lr))))\n"
   ]
  },
  {
   "cell_type": "markdown",
   "metadata": {},
   "source": [
    "## Method2: Neural Network"
   ]
  },
  {
   "cell_type": "code",
   "execution_count": 45,
   "metadata": {},
   "outputs": [],
   "source": [
    "# Creating a Neural Network Model\n",
    "import keras\n",
    "from tensorflow.keras.models import Sequential\n",
    "from tensorflow.keras.layers import Dense, Activation\n",
    "from tensorflow.keras.optimizers import Adam"
   ]
  },
  {
   "cell_type": "code",
   "execution_count": 77,
   "metadata": {},
   "outputs": [],
   "source": [
    "# having 5 nueron is based on the number of available featurs\n",
    "model = Sequential()\n",
    "\n",
    "model.add(Dense(5,activation='relu'))\n",
    "model.add(Dense(5,activation='relu'))\n",
    "model.add(Dense(5,activation='relu'))\n",
    "model.add(Dense(5,activation='relu'))\n",
    "model.add(Dense(1))\n",
    "\n",
    "model.compile(optimizer='adam',loss='mse')"
   ]
  },
  {
   "cell_type": "code",
   "execution_count": 78,
   "metadata": {},
   "outputs": [
    {
     "name": "stdout",
     "output_type": "stream",
     "text": [
      "Epoch 1/100\n",
      "22/22 [==============================] - 1s 11ms/step - loss: 3105798026462.6089 - val_loss: 2635021942784.0000\n",
      "Epoch 2/100\n",
      "22/22 [==============================] - 0s 4ms/step - loss: 2792619120194.7827 - val_loss: 2635021418496.0000\n",
      "Epoch 3/100\n",
      "22/22 [==============================] - 0s 3ms/step - loss: 3613615786785.3911 - val_loss: 2635021156352.0000\n",
      "Epoch 4/100\n",
      "22/22 [==============================] - 0s 3ms/step - loss: 2736151108563.4780 - val_loss: 2635019845632.0000\n",
      "Epoch 5/100\n",
      "22/22 [==============================] - 0s 3ms/step - loss: 3042005027617.3911 - val_loss: 2635019059200.0000\n",
      "Epoch 6/100\n",
      "22/22 [==============================] - 0s 3ms/step - loss: 2914956584692.8696 - val_loss: 2635017748480.0000\n",
      "Epoch 7/100\n",
      "22/22 [==============================] - 0s 3ms/step - loss: 2940374522835.4780 - val_loss: 2635015913472.0000\n",
      "Epoch 8/100\n",
      "22/22 [==============================] - 0s 3ms/step - loss: 3094464316104.3477 - val_loss: 2635013292032.0000\n",
      "Epoch 9/100\n",
      "22/22 [==============================] - 0s 3ms/step - loss: 3409252467400.3477 - val_loss: 2635010146304.0000\n",
      "Epoch 10/100\n",
      "22/22 [==============================] - 0s 3ms/step - loss: 2696920575109.5654 - val_loss: 2635005427712.0000\n",
      "Epoch 11/100\n",
      "22/22 [==============================] - 0s 3ms/step - loss: 3058208216642.7827 - val_loss: 2634998349824.0000\n",
      "Epoch 12/100\n",
      "22/22 [==============================] - 0s 3ms/step - loss: 2991129550491.8262 - val_loss: 2634988650496.0000\n",
      "Epoch 13/100\n",
      "22/22 [==============================] - 0s 3ms/step - loss: 2883593129449.7393 - val_loss: 2634975281152.0000\n",
      "Epoch 14/100\n",
      "22/22 [==============================] - 0s 3ms/step - loss: 2977195485629.2173 - val_loss: 2634956668928.0000\n",
      "Epoch 15/100\n",
      "22/22 [==============================] - 0s 3ms/step - loss: 3212417661551.3042 - val_loss: 2634931765248.0000\n",
      "Epoch 16/100\n",
      "22/22 [==============================] - 0s 3ms/step - loss: 3187335039777.3911 - val_loss: 2634898735104.0000\n",
      "Epoch 17/100\n",
      "22/22 [==============================] - 0s 3ms/step - loss: 2982223020032.0000 - val_loss: 2634854170624.0000\n",
      "Epoch 18/100\n",
      "22/22 [==============================] - 0s 3ms/step - loss: 3296848248832.0000 - val_loss: 2634798071808.0000\n",
      "Epoch 19/100\n",
      "22/22 [==============================] - 0s 3ms/step - loss: 2975188226226.0869 - val_loss: 2634724147200.0000\n",
      "Epoch 20/100\n",
      "22/22 [==============================] - 0s 3ms/step - loss: 3785992711301.5654 - val_loss: 2634634231808.0000\n",
      "Epoch 21/100\n",
      "22/22 [==============================] - 0s 3ms/step - loss: 2997557668997.5654 - val_loss: 2634523082752.0000\n",
      "Epoch 22/100\n",
      "22/22 [==============================] - 0s 3ms/step - loss: 2576398970701.9131 - val_loss: 2634381524992.0000\n",
      "Epoch 23/100\n",
      "22/22 [==============================] - 0s 3ms/step - loss: 2882588223220.8696 - val_loss: 2634208247808.0000\n",
      "Epoch 24/100\n",
      "22/22 [==============================] - 0s 3ms/step - loss: 2336068143905.3911 - val_loss: 2634004824064.0000\n",
      "Epoch 25/100\n",
      "22/22 [==============================] - 0s 3ms/step - loss: 3101241656008.3477 - val_loss: 2633751592960.0000\n",
      "Epoch 26/100\n",
      "22/22 [==============================] - 0s 3ms/step - loss: 2855339693634.7827 - val_loss: 2633448816640.0000\n",
      "Epoch 27/100\n",
      "22/22 [==============================] - 0s 3ms/step - loss: 2787799625549.9131 - val_loss: 2633098854400.0000\n",
      "Epoch 28/100\n",
      "22/22 [==============================] - 0s 3ms/step - loss: 2877511519721.7393 - val_loss: 2632676016128.0000\n",
      "Epoch 29/100\n",
      "22/22 [==============================] - 0s 3ms/step - loss: 2977778978281.7393 - val_loss: 2632191574016.0000\n",
      "Epoch 30/100\n",
      "22/22 [==============================] - 0s 3ms/step - loss: 3767481902836.8696 - val_loss: 2631628226560.0000\n",
      "Epoch 31/100\n",
      "22/22 [==============================] - 0s 4ms/step - loss: 3153471665374.6089 - val_loss: 2630983352320.0000\n",
      "Epoch 32/100\n",
      "22/22 [==============================] - 0s 3ms/step - loss: 2952298712553.7393 - val_loss: 2630240174080.0000\n",
      "Epoch 33/100\n",
      "22/22 [==============================] - 0s 3ms/step - loss: 2592561413431.6523 - val_loss: 2629418352640.0000\n",
      "Epoch 34/100\n",
      "22/22 [==============================] - 0s 3ms/step - loss: 2602928593163.1304 - val_loss: 2628461002752.0000\n",
      "Epoch 35/100\n",
      "22/22 [==============================] - 0s 3ms/step - loss: 2781295245935.3042 - val_loss: 2627364978688.0000\n",
      "Epoch 36/100\n",
      "22/22 [==============================] - 0s 3ms/step - loss: 2731160878391.6523 - val_loss: 2626185330688.0000\n",
      "Epoch 37/100\n",
      "22/22 [==============================] - 0s 3ms/step - loss: 3052653009163.1304 - val_loss: 2624837386240.0000\n",
      "Epoch 38/100\n",
      "22/22 [==============================] - 0s 3ms/step - loss: 3090161022886.9565 - val_loss: 2623336873984.0000\n",
      "Epoch 39/100\n",
      "22/22 [==============================] - 0s 4ms/step - loss: 2794747079813.5654 - val_loss: 2621701357568.0000\n",
      "Epoch 40/100\n",
      "22/22 [==============================] - 0s 3ms/step - loss: 3213569317131.1304 - val_loss: 2619843018752.0000\n",
      "Epoch 41/100\n",
      "22/22 [==============================] - 0s 3ms/step - loss: 2708841488027.8262 - val_loss: 2617844695040.0000\n",
      "Epoch 42/100\n",
      "22/22 [==============================] - 0s 3ms/step - loss: 2757348773353.7393 - val_loss: 2615638228992.0000\n",
      "Epoch 43/100\n",
      "22/22 [==============================] - 0s 3ms/step - loss: 2469752893261.9131 - val_loss: 2613261369344.0000\n",
      "Epoch 44/100\n",
      "22/22 [==============================] - 0s 3ms/step - loss: 2587138121371.8262 - val_loss: 2610572296192.0000\n",
      "Epoch 45/100\n",
      "22/22 [==============================] - 0s 3ms/step - loss: 3533430051706.4346 - val_loss: 2607628419072.0000\n",
      "Epoch 46/100\n",
      "22/22 [==============================] - 0s 3ms/step - loss: 2572303660254.6089 - val_loss: 2604570247168.0000\n",
      "Epoch 47/100\n",
      "22/22 [==============================] - 0s 3ms/step - loss: 2663503056361.7393 - val_loss: 2601243115520.0000\n",
      "Epoch 48/100\n",
      "22/22 [==============================] - 0s 3ms/step - loss: 2965632017452.5220 - val_loss: 2597504155648.0000\n",
      "Epoch 49/100\n",
      "22/22 [==============================] - 0s 3ms/step - loss: 3091187607284.8696 - val_loss: 2593600045056.0000\n",
      "Epoch 50/100\n",
      "22/22 [==============================] - 0s 3ms/step - loss: 2942674084196.1738 - val_loss: 2589337583616.0000\n",
      "Epoch 51/100\n",
      "22/22 [==============================] - 0s 3ms/step - loss: 2855953589292.5220 - val_loss: 2584839979008.0000\n",
      "Epoch 52/100\n",
      "22/22 [==============================] - 0s 3ms/step - loss: 3377938893601.3911 - val_loss: 2579906691072.0000\n",
      "Epoch 53/100\n",
      "22/22 [==============================] - 0s 3ms/step - loss: 3581204200047.3042 - val_loss: 2574580187136.0000\n",
      "Epoch 54/100\n",
      "22/22 [==============================] - 0s 4ms/step - loss: 2993991821044.8696 - val_loss: 2569080668160.0000\n",
      "Epoch 55/100\n",
      "22/22 [==============================] - 0s 4ms/step - loss: 2821622960306.0869 - val_loss: 2563072851968.0000\n",
      "Epoch 56/100\n",
      "22/22 [==============================] - 0s 3ms/step - loss: 3016145752954.4346 - val_loss: 2556728967168.0000\n",
      "Epoch 57/100\n",
      "22/22 [==============================] - 0s 3ms/step - loss: 2845022230082.7827 - val_loss: 2550062645248.0000\n",
      "Epoch 58/100\n",
      "22/22 [==============================] - 0s 3ms/step - loss: 2464031412402.0869 - val_loss: 2542913454080.0000\n",
      "Epoch 59/100\n",
      "22/22 [==============================] - 0s 4ms/step - loss: 2591729864169.7393 - val_loss: 2535331987456.0000\n",
      "Epoch 60/100\n",
      "22/22 [==============================] - 0s 3ms/step - loss: 2664371425458.0869 - val_loss: 2527189532672.0000\n",
      "Epoch 61/100\n",
      "22/22 [==============================] - 0s 3ms/step - loss: 3579689338256.6958 - val_loss: 2518827139072.0000\n",
      "Epoch 62/100\n",
      "22/22 [==============================] - 0s 3ms/step - loss: 2695167675169.3911 - val_loss: 2509850017792.0000\n",
      "Epoch 63/100\n",
      "22/22 [==============================] - 0s 3ms/step - loss: 3558718958013.2173 - val_loss: 2500195516416.0000\n",
      "Epoch 64/100\n",
      "22/22 [==============================] - 0s 3ms/step - loss: 2512854222224.6958 - val_loss: 2489967706112.0000\n",
      "Epoch 65/100\n",
      "22/22 [==============================] - 0s 3ms/step - loss: 3023080738281.7393 - val_loss: 2478674804736.0000\n",
      "Epoch 66/100\n",
      "22/22 [==============================] - 0s 3ms/step - loss: 3482978102405.5654 - val_loss: 2466890383360.0000\n",
      "Epoch 67/100\n",
      "22/22 [==============================] - 0s 3ms/step - loss: 2677634002765.9131 - val_loss: 2454597926912.0000\n",
      "Epoch 68/100\n",
      "22/22 [==============================] - 0s 3ms/step - loss: 2592932597938.0869 - val_loss: 2441722462208.0000\n",
      "Epoch 69/100\n",
      "22/22 [==============================] - 0s 3ms/step - loss: 3228453078416.6958 - val_loss: 2427690156032.0000\n",
      "Epoch 70/100\n",
      "22/22 [==============================] - 0s 3ms/step - loss: 2549772656996.1738 - val_loss: 2413507641344.0000\n",
      "Epoch 71/100\n",
      "22/22 [==============================] - 0s 3ms/step - loss: 2271527573058.7827 - val_loss: 2398637522944.0000\n",
      "Epoch 72/100\n",
      "22/22 [==============================] - 0s 4ms/step - loss: 3288405274445.9131 - val_loss: 2382341865472.0000\n",
      "Epoch 73/100\n",
      "22/22 [==============================] - 0s 3ms/step - loss: 2506839595987.4780 - val_loss: 2366296031232.0000\n",
      "Epoch 74/100\n",
      "22/22 [==============================] - 0s 3ms/step - loss: 2935382286692.1738 - val_loss: 2348875251712.0000\n",
      "Epoch 75/100\n",
      "22/22 [==============================] - 0s 3ms/step - loss: 2479508622113.3911 - val_loss: 2330946699264.0000\n",
      "Epoch 76/100\n",
      "22/22 [==============================] - 0s 3ms/step - loss: 2580362280247.6523 - val_loss: 2312080195584.0000\n",
      "Epoch 77/100\n",
      "22/22 [==============================] - 0s 3ms/step - loss: 2629938548914.0869 - val_loss: 2292896235520.0000\n",
      "Epoch 78/100\n",
      "22/22 [==============================] - 0s 3ms/step - loss: 2434255546813.2173 - val_loss: 2272864763904.0000\n",
      "Epoch 79/100\n",
      "22/22 [==============================] - 0s 3ms/step - loss: 2537192970507.1304 - val_loss: 2252462882816.0000\n",
      "Epoch 80/100\n",
      "22/22 [==============================] - 0s 3ms/step - loss: 2284613066395.8262 - val_loss: 2230925131776.0000\n",
      "Epoch 81/100\n",
      "22/22 [==============================] - 0s 4ms/step - loss: 2629416343819.1304 - val_loss: 2208605667328.0000\n",
      "Epoch 82/100\n",
      "22/22 [==============================] - 0s 3ms/step - loss: 2855055689104.6958 - val_loss: 2185453764608.0000\n",
      "Epoch 83/100\n",
      "22/22 [==============================] - 0s 3ms/step - loss: 3131477726786.7827 - val_loss: 2162044960768.0000\n",
      "Epoch 84/100\n",
      "22/22 [==============================] - 0s 3ms/step - loss: 2358712393371.8262 - val_loss: 2138486603776.0000\n",
      "Epoch 85/100\n",
      "22/22 [==============================] - 0s 3ms/step - loss: 2087804315380.8696 - val_loss: 2113665892352.0000\n",
      "Epoch 86/100\n",
      "22/22 [==============================] - 0s 3ms/step - loss: 2333753230024.3477 - val_loss: 2088162164736.0000\n",
      "Epoch 87/100\n",
      "22/22 [==============================] - 0s 3ms/step - loss: 2588450961318.9565 - val_loss: 2061951565824.0000\n",
      "Epoch 88/100\n",
      "22/22 [==============================] - 0s 3ms/step - loss: 2401835582864.6958 - val_loss: 2035665600512.0000\n",
      "Epoch 89/100\n",
      "22/22 [==============================] - 0s 4ms/step - loss: 2279103340900.1738 - val_loss: 2009338609664.0000\n",
      "Epoch 90/100\n",
      "22/22 [==============================] - 0s 3ms/step - loss: 2151111943212.5217 - val_loss: 1981893574656.0000\n",
      "Epoch 91/100\n",
      "22/22 [==============================] - 0s 3ms/step - loss: 2255446212608.0000 - val_loss: 1953897906176.0000\n",
      "Epoch 92/100\n",
      "22/22 [==============================] - 0s 3ms/step - loss: 2823452075764.8696 - val_loss: 1926072238080.0000\n",
      "Epoch 93/100\n",
      "22/22 [==============================] - 0s 3ms/step - loss: 2707250536091.8262 - val_loss: 1896987099136.0000\n",
      "Epoch 94/100\n",
      "22/22 [==============================] - 0s 3ms/step - loss: 1805807768442.4348 - val_loss: 1870048264192.0000\n",
      "Epoch 95/100\n",
      "22/22 [==============================] - 0s 3ms/step - loss: 1728035963592.3479 - val_loss: 1840819732480.0000\n",
      "Epoch 96/100\n",
      "22/22 [==============================] - 0s 3ms/step - loss: 2697231700146.0869 - val_loss: 1811155648512.0000\n",
      "Epoch 97/100\n",
      "22/22 [==============================] - 0s 3ms/step - loss: 1633499337594.4348 - val_loss: 1783066132480.0000\n",
      "Epoch 98/100\n",
      "22/22 [==============================] - 0s 3ms/step - loss: 2774875926349.9131 - val_loss: 1752723750912.0000\n",
      "Epoch 99/100\n",
      "22/22 [==============================] - 0s 3ms/step - loss: 2125206685072.6956 - val_loss: 1723434008576.0000\n",
      "Epoch 100/100\n",
      "22/22 [==============================] - 0s 3ms/step - loss: 1893425473981.2173 - val_loss: 1694130634752.0000\n"
     ]
    },
    {
     "data": {
      "text/plain": [
       "<tensorflow.python.keras.callbacks.History at 0x178325d4208>"
      ]
     },
     "execution_count": 78,
     "metadata": {},
     "output_type": "execute_result"
    }
   ],
   "source": [
    "#Training model\n",
    "model.fit(x=X_train,y=y_train,\n",
    "          validation_data=(X_test,y_test),\n",
    "          batch_size=128,epochs=100)"
   ]
  },
  {
   "cell_type": "code",
   "execution_count": 79,
   "metadata": {},
   "outputs": [
    {
     "name": "stdout",
     "output_type": "stream",
     "text": [
      "Model: \"sequential_2\"\n",
      "_________________________________________________________________\n",
      "Layer (type)                 Output Shape              Param #   \n",
      "=================================================================\n",
      "dense_8 (Dense)              (None, 5)                 30        \n",
      "_________________________________________________________________\n",
      "dense_9 (Dense)              (None, 5)                 30        \n",
      "_________________________________________________________________\n",
      "dense_10 (Dense)             (None, 5)                 30        \n",
      "_________________________________________________________________\n",
      "dense_11 (Dense)             (None, 5)                 30        \n",
      "_________________________________________________________________\n",
      "dense_12 (Dense)             (None, 1)                 6         \n",
      "=================================================================\n",
      "Total params: 126\n",
      "Trainable params: 126\n",
      "Non-trainable params: 0\n",
      "_________________________________________________________________\n"
     ]
    }
   ],
   "source": [
    "model.summary()"
   ]
  },
  {
   "cell_type": "code",
   "execution_count": 80,
   "metadata": {},
   "outputs": [],
   "source": [
    "y_pred_nn = model.predict(X_test)"
   ]
  },
  {
   "cell_type": "code",
   "execution_count": 81,
   "metadata": {},
   "outputs": [
    {
     "data": {
      "text/plain": [
       "array([[746545.5 ],\n",
       "       [213113.78],\n",
       "       [370382.4 ],\n",
       "       [177325.  ],\n",
       "       [208982.12]], dtype=float32)"
      ]
     },
     "execution_count": 81,
     "metadata": {},
     "output_type": "execute_result"
    }
   ],
   "source": [
    "y_pred_nn[0:5]"
   ]
  },
  {
   "cell_type": "code",
   "execution_count": 82,
   "metadata": {},
   "outputs": [
    {
     "data": {
      "text/html": [
       "<div>\n",
       "<style scoped>\n",
       "    .dataframe tbody tr th:only-of-type {\n",
       "        vertical-align: middle;\n",
       "    }\n",
       "\n",
       "    .dataframe tbody tr th {\n",
       "        vertical-align: top;\n",
       "    }\n",
       "\n",
       "    .dataframe thead th {\n",
       "        text-align: right;\n",
       "    }\n",
       "</style>\n",
       "<table border=\"1\" class=\"dataframe\">\n",
       "  <thead>\n",
       "    <tr style=\"text-align: right;\">\n",
       "      <th></th>\n",
       "      <th>Actual</th>\n",
       "      <th>Predicted</th>\n",
       "    </tr>\n",
       "  </thead>\n",
       "  <tbody>\n",
       "    <tr>\n",
       "      <th>0</th>\n",
       "      <td>1250000</td>\n",
       "      <td>746545.500000</td>\n",
       "    </tr>\n",
       "    <tr>\n",
       "      <th>1</th>\n",
       "      <td>750000</td>\n",
       "      <td>213113.781250</td>\n",
       "    </tr>\n",
       "    <tr>\n",
       "      <th>2</th>\n",
       "      <td>2160000</td>\n",
       "      <td>370382.406250</td>\n",
       "    </tr>\n",
       "    <tr>\n",
       "      <th>3</th>\n",
       "      <td>920000</td>\n",
       "      <td>177325.000000</td>\n",
       "    </tr>\n",
       "    <tr>\n",
       "      <th>4</th>\n",
       "      <td>500000</td>\n",
       "      <td>208982.125000</td>\n",
       "    </tr>\n",
       "    <tr>\n",
       "      <th>5</th>\n",
       "      <td>1007000</td>\n",
       "      <td>148893.000000</td>\n",
       "    </tr>\n",
       "    <tr>\n",
       "      <th>6</th>\n",
       "      <td>525000</td>\n",
       "      <td>374128.781250</td>\n",
       "    </tr>\n",
       "    <tr>\n",
       "      <th>7</th>\n",
       "      <td>950000</td>\n",
       "      <td>340674.406250</td>\n",
       "    </tr>\n",
       "    <tr>\n",
       "      <th>8</th>\n",
       "      <td>1417675</td>\n",
       "      <td>49868.792969</td>\n",
       "    </tr>\n",
       "    <tr>\n",
       "      <th>9</th>\n",
       "      <td>675000</td>\n",
       "      <td>296416.906250</td>\n",
       "    </tr>\n",
       "  </tbody>\n",
       "</table>\n",
       "</div>"
      ],
      "text/plain": [
       "    Actual      Predicted\n",
       "0  1250000  746545.500000\n",
       "1   750000  213113.781250\n",
       "2  2160000  370382.406250\n",
       "3   920000  177325.000000\n",
       "4   500000  208982.125000\n",
       "5  1007000  148893.000000\n",
       "6   525000  374128.781250\n",
       "7   950000  340674.406250\n",
       "8  1417675   49868.792969\n",
       "9   675000  296416.906250"
      ]
     },
     "execution_count": 82,
     "metadata": {},
     "output_type": "execute_result"
    }
   ],
   "source": [
    "df_nn = pd.DataFrame({'Actual': y_test.ravel(), 'Predicted': y_pred_nn.ravel()})\n",
    "df_nn = df_nn.head(10)\n",
    "df_nn"
   ]
  },
  {
   "cell_type": "code",
   "execution_count": 83,
   "metadata": {},
   "outputs": [
    {
     "data": {
      "text/plain": [
       "<matplotlib.axes._subplots.AxesSubplot at 0x17839777948>"
      ]
     },
     "execution_count": 83,
     "metadata": {},
     "output_type": "execute_result"
    },
    {
     "data": {
      "image/png": "[encoded data removed]",
      "text/plain": [
       "<Figure size 432x288 with 1 Axes>"
      ]
     },
     "metadata": {},
     "output_type": "display_data"
    }
   ],
   "source": [
    "df_nn.plot()"
   ]
  },
  {
   "cell_type": "code",
   "execution_count": 84,
   "metadata": {},
   "outputs": [
    {
     "name": "stdout",
     "output_type": "stream",
     "text": [
      "Mean Absolute Error: 787357.22\n",
      "Mean Squared Error: 1694130769178.51\n",
      "Root Mean Squared Error: 1301587.79\n"
     ]
    }
   ],
   "source": [
    "y_pred_nn = model.predict(X_test)\n",
    "from sklearn import metrics\n",
    "\n",
    "#print(\"Train Accuracy Score {:.2f}\".format(model.score(X_train,y_train)))\n",
    "#print(\"Test Accuracy Score {:.2f}\".format(model.score(X_test, y_test)))\n",
    "print('Mean Absolute Error: {:.2f}'.format(metrics.mean_absolute_error(y_test, y_pred_nn)))\n",
    "print('Mean Squared Error: {:.2f}'.format(metrics.mean_squared_error(y_test, y_pred_nn)))\n",
    "print('Root Mean Squared Error: {:.2f}'.format(np.sqrt(metrics.mean_squared_error(y_test, y_pred_nn))))\n"
   ]
  },
  {
   "cell_type": "markdown",
   "metadata": {},
   "source": [
    "## Method3: Random Forest Regressor"
   ]
  },
  {
   "cell_type": "code",
   "execution_count": 85,
   "metadata": {},
   "outputs": [
    {
     "data": {
      "text/plain": [
       "RandomForestRegressor(n_estimators=200, random_state=0)"
      ]
     },
     "execution_count": 85,
     "metadata": {},
     "output_type": "execute_result"
    }
   ],
   "source": [
    "from sklearn.ensemble import RandomForestRegressor\n",
    "\n",
    "rf_regressor = RandomForestRegressor(n_estimators=200, random_state=0)\n",
    "\n",
    "rf_regressor.fit(X_train, y_train)\n"
   ]
  },
  {
   "cell_type": "code",
   "execution_count": 86,
   "metadata": {},
   "outputs": [
    {
     "data": {
      "text/html": [
       "<div>\n",
       "<style scoped>\n",
       "    .dataframe tbody tr th:only-of-type {\n",
       "        vertical-align: middle;\n",
       "    }\n",
       "\n",
       "    .dataframe tbody tr th {\n",
       "        vertical-align: top;\n",
       "    }\n",
       "\n",
       "    .dataframe thead th {\n",
       "        text-align: right;\n",
       "    }\n",
       "</style>\n",
       "<table border=\"1\" class=\"dataframe\">\n",
       "  <thead>\n",
       "    <tr style=\"text-align: right;\">\n",
       "      <th></th>\n",
       "      <th>Actual</th>\n",
       "      <th>Predicted</th>\n",
       "    </tr>\n",
       "  </thead>\n",
       "  <tbody>\n",
       "    <tr>\n",
       "      <th>0</th>\n",
       "      <td>1250000</td>\n",
       "      <td>1.868674e+06</td>\n",
       "    </tr>\n",
       "    <tr>\n",
       "      <th>1</th>\n",
       "      <td>750000</td>\n",
       "      <td>8.983675e+05</td>\n",
       "    </tr>\n",
       "    <tr>\n",
       "      <th>2</th>\n",
       "      <td>2160000</td>\n",
       "      <td>2.161650e+06</td>\n",
       "    </tr>\n",
       "    <tr>\n",
       "      <th>3</th>\n",
       "      <td>920000</td>\n",
       "      <td>1.139703e+06</td>\n",
       "    </tr>\n",
       "    <tr>\n",
       "      <th>4</th>\n",
       "      <td>500000</td>\n",
       "      <td>6.728267e+05</td>\n",
       "    </tr>\n",
       "    <tr>\n",
       "      <th>5</th>\n",
       "      <td>1007000</td>\n",
       "      <td>8.915122e+05</td>\n",
       "    </tr>\n",
       "    <tr>\n",
       "      <th>6</th>\n",
       "      <td>525000</td>\n",
       "      <td>6.315462e+05</td>\n",
       "    </tr>\n",
       "    <tr>\n",
       "      <th>7</th>\n",
       "      <td>950000</td>\n",
       "      <td>9.626326e+05</td>\n",
       "    </tr>\n",
       "    <tr>\n",
       "      <th>8</th>\n",
       "      <td>1417675</td>\n",
       "      <td>1.384997e+06</td>\n",
       "    </tr>\n",
       "    <tr>\n",
       "      <th>9</th>\n",
       "      <td>675000</td>\n",
       "      <td>7.710467e+05</td>\n",
       "    </tr>\n",
       "  </tbody>\n",
       "</table>\n",
       "</div>"
      ],
      "text/plain": [
       "    Actual     Predicted\n",
       "0  1250000  1.868674e+06\n",
       "1   750000  8.983675e+05\n",
       "2  2160000  2.161650e+06\n",
       "3   920000  1.139703e+06\n",
       "4   500000  6.728267e+05\n",
       "5  1007000  8.915122e+05\n",
       "6   525000  6.315462e+05\n",
       "7   950000  9.626326e+05\n",
       "8  1417675  1.384997e+06\n",
       "9   675000  7.710467e+05"
      ]
     },
     "execution_count": 86,
     "metadata": {},
     "output_type": "execute_result"
    }
   ],
   "source": [
    "y_pred_forest = rf_regressor.predict(X_test)\n",
    "df_forest = pd.DataFrame({'Actual': y_test, 'Predicted': y_pred_forest})\n",
    "df_forest = df_forest.head(10)\n",
    "df_forest"
   ]
  },
  {
   "cell_type": "code",
   "execution_count": 87,
   "metadata": {},
   "outputs": [
    {
     "data": {
      "text/plain": [
       "<matplotlib.axes._subplots.AxesSubplot at 0x1783a82a508>"
      ]
     },
     "execution_count": 87,
     "metadata": {},
     "output_type": "execute_result"
    },
    {
     "data": {
      "image/png": "[encoded data removed]",
      "text/plain": [
       "<Figure size 432x288 with 1 Axes>"
      ]
     },
     "metadata": {},
     "output_type": "display_data"
    }
   ],
   "source": [
    "df_forest.plot()"
   ]
  },
  {
   "cell_type": "code",
   "execution_count": 88,
   "metadata": {},
   "outputs": [
    {
     "name": "stdout",
     "output_type": "stream",
     "text": [
      "Train Accuracy Score 0.93\n",
      "Test Accuracy Score 0.58\n",
      "Mean Absolute Error: 328583.78\n",
      "Mean Squared Error: 559220087806.43\n",
      "Root Mean Squared Error: 747810.20\n"
     ]
    }
   ],
   "source": [
    "y_pred_forest = rf_regressor.predict(X_test)\n",
    "from sklearn import metrics\n",
    "\n",
    "print(\"Train Accuracy Score {:.2f}\".format(rf_regressor.score(X_train,y_train)))\n",
    "print(\"Test Accuracy Score {:.2f}\".format(rf_regressor.score(X_test, y_test)))\n",
    "print('Mean Absolute Error: {:.2f}'.format(metrics.mean_absolute_error(y_test, y_pred_forest)))\n",
    "print('Mean Squared Error: {:.2f}'.format(metrics.mean_squared_error(y_test, y_pred_forest)))\n",
    "print('Root Mean Squared Error: {:.2f}'.format(np.sqrt(metrics.mean_squared_error(y_test, y_pred_forest))))\n"
   ]
  },
  {
   "cell_type": "code",
   "execution_count": 89,
   "metadata": {},
   "outputs": [
    {
     "name": "stdout",
     "output_type": "stream",
     "text": [
      "Model: Linear Regression\n",
      "\n",
      "Mean Absolute Error(MAE): 420131.53\n",
      "Mean Squared Error(MSE): 663699870255.79\n",
      "Root Mean Squared Error(RMSE): 814677.77\n",
      "*********************************\n",
      "\n",
      "Model: Neural Network\n",
      "\n",
      "Mean Absolute Error(MAE): 787357.22\n",
      "Mean Squared Error(MSE):1694130769178.51\n",
      "Root Mean Squared Error(RMSE):1301587.79\n",
      "*********************************\n",
      "\n",
      "Model: Random Forest\n",
      "\n",
      "Mean Absolute Error(MAE): 328583.78\n",
      "Mean Squared Error(MSE):559220087806.43\n",
      "Root Mean Squared Error(RMSE):747810.20\n"
     ]
    }
   ],
   "source": [
    "print('Model: Linear Regression\\n')\n",
    "\n",
    "print('Mean Absolute Error(MAE): {:.2f}'.format(metrics.mean_absolute_error(y_test, y_pred_lr)))\n",
    "print('Mean Squared Error(MSE): {:.2f}'.format(metrics.mean_squared_error(y_test, y_pred_lr)))\n",
    "print('Root Mean Squared Error(RMSE): {:.2f}'.format(np.sqrt(metrics.mean_squared_error(y_test, y_pred_lr))))\n",
    "print('*********************************\\n')\n",
    "print('Model: Neural Network\\n')\n",
    "print('Mean Absolute Error(MAE): {:.2f}'.format(metrics.mean_absolute_error(y_test, y_pred_nn))) \n",
    "print('Mean Squared Error(MSE):{:.2f}'.format(metrics.mean_squared_error(y_test, y_pred_nn)))  \n",
    "print('Root Mean Squared Error(RMSE):{:.2f}'.format(np.sqrt(metrics.mean_squared_error(y_test, y_pred_nn))))\n",
    "print('*********************************\\n')\n",
    "print('Model: Random Forest\\n')\n",
    "print('Mean Absolute Error(MAE): {:.2f}'.format(metrics.mean_absolute_error(y_test, y_pred_forest))) \n",
    "print('Mean Squared Error(MSE):{:.2f}'.format(metrics.mean_squared_error(y_test, y_pred_forest)))  \n",
    "print('Root Mean Squared Error(RMSE):{:.2f}'.format(np.sqrt(metrics.mean_squared_error(y_test, y_pred_forest))))\n"
   ]
  },
  {
   "cell_type": "code",
   "execution_count": 90,
   "metadata": {},
   "outputs": [
    {
     "data": {
      "text/plain": [
       "array([1999642.22449998, 1108105.08622086, 2286012.31620258,\n",
       "       1399684.09045396, 1084565.42731632])"
      ]
     },
     "execution_count": 90,
     "metadata": {},
     "output_type": "execute_result"
    }
   ],
   "source": [
    "y_pred_lr[:5]"
   ]
  },
  {
   "cell_type": "code",
   "execution_count": 91,
   "metadata": {},
   "outputs": [
    {
     "data": {
      "text/plain": [
       "array([[746545.5 ],\n",
       "       [213113.78],\n",
       "       [370382.4 ],\n",
       "       [177325.  ],\n",
       "       [208982.12]], dtype=float32)"
      ]
     },
     "execution_count": 91,
     "metadata": {},
     "output_type": "execute_result"
    }
   ],
   "source": [
    "y_pred_nn[:5]"
   ]
  },
  {
   "cell_type": "code",
   "execution_count": 92,
   "metadata": {},
   "outputs": [
    {
     "data": {
      "text/plain": [
       "array([1868674.25 ,  898367.465, 2161649.95 , 1139703.26 ,  672826.745])"
      ]
     },
     "execution_count": 92,
     "metadata": {},
     "output_type": "execute_result"
    }
   ],
   "source": [
    "y_pred_forest[:5]"
   ]
  },
  {
   "cell_type": "code",
   "execution_count": null,
   "metadata": {},
   "outputs": [],
   "source": []
  },
  {
   "cell_type": "code",
   "execution_count": null,
   "metadata": {},
   "outputs": [],
   "source": []
  }
 ],
 "metadata": {
  "kernelspec": {
   "display_name": "Python 3",
   "language": "python",
   "name": "python3"
  },
  "language_info": {
   "codemirror_mode": {
    "name": "ipython",
    "version": 3
   },
   "file_extension": ".py",
   "mimetype": "text/x-python",
   "name": "python",
   "nbconvert_exporter": "python",
   "pygments_lexer": "ipython3",
   "version": "3.7.9"
  }
 },
 "nbformat": 4,
 "nbformat_minor": 4
}
