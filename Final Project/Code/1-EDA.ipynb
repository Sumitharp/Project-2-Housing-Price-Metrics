{
 "cells": [
  {
   "cell_type": "markdown",
   "metadata": {},
   "source": [
    "# Housing Price Estimator for Greater Seattle housing data set - Exploratory Data Analysis (EDA)"
   ]
  },
  {
   "cell_type": "markdown",
   "metadata": {},
   "source": [
    "Data set\n",
    "Data consists actual homes listing for 2 months till Mid-May 2021. It contains Active, Sold listings, Property details - Status(Active/Sold), ZipCode,City, City Code, State, Price, Days_on_market, Beds, Baths, Sqft, Date of listing,Acres and Lot_size. We then added Livibility Index(Liv_index from https://www.areavibes.com/) based on the city which ranges from 50-90.\n",
    "\n",
    "Exploratory Data Analysis\n",
    "<p> 1. Data was cleaned to remove nan and null values.\n",
    "\n",
    "<p> 2. Dtypes of Columns were changed from object to str/int/float/date as required.\n",
    "\n",
    "<p> 3. Price was cleaned to remove commas.\n",
    "\n",
    "<p> 4. Some columns like State, City Code , MLS, ID, Address, Source , School District , Property Type were dropped as they do not add value to the model."
   ]
  },
  {
   "cell_type": "code",
   "execution_count": 1,
   "metadata": {},
   "outputs": [],
   "source": [
    "import pandas as pd #\n",
    "from pathlib import Path\n",
    "filepath=(\"../Data/housing_prices_pdf_final.csv\")\n",
    "data_df=pd.read_csv(filepath,infer_datetime_format=True, parse_dates=['Start Date'])"
   ]
  },
  {
   "cell_type": "code",
   "execution_count": 2,
   "metadata": {},
   "outputs": [
    {
     "data": {
      "text/html": [
       "<div>\n",
       "<style scoped>\n",
       "    .dataframe tbody tr th:only-of-type {\n",
       "        vertical-align: middle;\n",
       "    }\n",
       "\n",
       "    .dataframe tbody tr th {\n",
       "        vertical-align: top;\n",
       "    }\n",
       "\n",
       "    .dataframe thead th {\n",
       "        text-align: right;\n",
       "    }\n",
       "</style>\n",
       "<table border=\"1\" class=\"dataframe\">\n",
       "  <thead>\n",
       "    <tr style=\"text-align: right;\">\n",
       "      <th></th>\n",
       "      <th>Id</th>\n",
       "      <th>MLS</th>\n",
       "      <th>Stat</th>\n",
       "      <th>Type</th>\n",
       "      <th>Address</th>\n",
       "      <th>ZipCode</th>\n",
       "      <th>City</th>\n",
       "      <th>City Code</th>\n",
       "      <th>State</th>\n",
       "      <th>List/Sell</th>\n",
       "      <th>...</th>\n",
       "      <th>Bds</th>\n",
       "      <th>Bths</th>\n",
       "      <th>SF</th>\n",
       "      <th>Start Date</th>\n",
       "      <th>Acres</th>\n",
       "      <th>Source</th>\n",
       "      <th>Lot Square Footage</th>\n",
       "      <th>Property Type</th>\n",
       "      <th>SchoolDistric</th>\n",
       "      <th>Liv2</th>\n",
       "    </tr>\n",
       "  </thead>\n",
       "  <tbody>\n",
       "    <tr>\n",
       "      <th>0</th>\n",
       "      <td>1.0</td>\n",
       "      <td>1781634.0</td>\n",
       "      <td>A</td>\n",
       "      <td>RESI</td>\n",
       "      <td>28022 39th Ave S</td>\n",
       "      <td>98001</td>\n",
       "      <td>Auburn</td>\n",
       "      <td>100.0</td>\n",
       "      <td>WA</td>\n",
       "      <td>725,000</td>\n",
       "      <td>...</td>\n",
       "      <td>3.0</td>\n",
       "      <td>0.00</td>\n",
       "      <td>3060</td>\n",
       "      <td>2021-05-26</td>\n",
       "      <td>0.227</td>\n",
       "      <td>king County</td>\n",
       "      <td>9894.0</td>\n",
       "      <td>Single Family</td>\n",
       "      <td>Federal Way</td>\n",
       "      <td>68.0</td>\n",
       "    </tr>\n",
       "    <tr>\n",
       "      <th>1</th>\n",
       "      <td>2.0</td>\n",
       "      <td>1780235.0</td>\n",
       "      <td>A</td>\n",
       "      <td>RESI</td>\n",
       "      <td>35832 Military Rd S</td>\n",
       "      <td>98001</td>\n",
       "      <td>Auburn</td>\n",
       "      <td>100.0</td>\n",
       "      <td>WA</td>\n",
       "      <td>300,000</td>\n",
       "      <td>...</td>\n",
       "      <td>2.0</td>\n",
       "      <td>1.00</td>\n",
       "      <td>920</td>\n",
       "      <td>2021-05-26</td>\n",
       "      <td>0.164</td>\n",
       "      <td>Public Records</td>\n",
       "      <td>7150.0</td>\n",
       "      <td>Single Family</td>\n",
       "      <td>Federal Way</td>\n",
       "      <td>68.0</td>\n",
       "    </tr>\n",
       "    <tr>\n",
       "      <th>2</th>\n",
       "      <td>3.0</td>\n",
       "      <td>1753425.0</td>\n",
       "      <td>S</td>\n",
       "      <td>RESI</td>\n",
       "      <td>36655 45th Ave S</td>\n",
       "      <td>98001</td>\n",
       "      <td>Auburn</td>\n",
       "      <td>100.0</td>\n",
       "      <td>WA</td>\n",
       "      <td>555,000</td>\n",
       "      <td>...</td>\n",
       "      <td>2.0</td>\n",
       "      <td>1.00</td>\n",
       "      <td>1196</td>\n",
       "      <td>2021-05-07</td>\n",
       "      <td>0.544</td>\n",
       "      <td>Public Records, County</td>\n",
       "      <td>23689.0</td>\n",
       "      <td>Single Family</td>\n",
       "      <td>Federal Way</td>\n",
       "      <td>68.0</td>\n",
       "    </tr>\n",
       "    <tr>\n",
       "      <th>3</th>\n",
       "      <td>4.0</td>\n",
       "      <td>1680653.0</td>\n",
       "      <td>A</td>\n",
       "      <td>RESI</td>\n",
       "      <td>28110 48th Ave S</td>\n",
       "      <td>98001</td>\n",
       "      <td>Auburn</td>\n",
       "      <td>100.0</td>\n",
       "      <td>WA</td>\n",
       "      <td>1,300,000</td>\n",
       "      <td>...</td>\n",
       "      <td>4.0</td>\n",
       "      <td>1.75</td>\n",
       "      <td>2850</td>\n",
       "      <td>2020-10-22</td>\n",
       "      <td>6.000</td>\n",
       "      <td>Realist</td>\n",
       "      <td>261360.0</td>\n",
       "      <td>Single Family</td>\n",
       "      <td>Auburn</td>\n",
       "      <td>68.0</td>\n",
       "    </tr>\n",
       "    <tr>\n",
       "      <th>4</th>\n",
       "      <td>5.0</td>\n",
       "      <td>1632834.0</td>\n",
       "      <td>S</td>\n",
       "      <td>RESI</td>\n",
       "      <td>37115 39th Ave S</td>\n",
       "      <td>98001</td>\n",
       "      <td>Auburn</td>\n",
       "      <td>100.0</td>\n",
       "      <td>WA</td>\n",
       "      <td>250,000</td>\n",
       "      <td>...</td>\n",
       "      <td>2.0</td>\n",
       "      <td>1.50</td>\n",
       "      <td>1200</td>\n",
       "      <td>2021-05-20</td>\n",
       "      <td>0.220</td>\n",
       "      <td>County Record</td>\n",
       "      <td>9600.0</td>\n",
       "      <td>Single Family</td>\n",
       "      <td>Federal Way</td>\n",
       "      <td>68.0</td>\n",
       "    </tr>\n",
       "  </tbody>\n",
       "</table>\n",
       "<p>5 rows × 21 columns</p>\n",
       "</div>"
      ],
      "text/plain": [
       "    Id        MLS Stat  Type              Address ZipCode    City  City Code  \\\n",
       "0  1.0  1781634.0    A  RESI     28022 39th Ave S   98001  Auburn      100.0   \n",
       "1  2.0  1780235.0    A  RESI  35832 Military Rd S   98001  Auburn      100.0   \n",
       "2  3.0  1753425.0    S  RESI     36655 45th Ave S   98001  Auburn      100.0   \n",
       "3  4.0  1680653.0    A  RESI     28110 48th Ave S   98001  Auburn      100.0   \n",
       "4  5.0  1632834.0    S  RESI     37115 39th Ave S   98001  Auburn      100.0   \n",
       "\n",
       "  State  List/Sell  ...  Bds  Bths    SF Start Date  Acres  \\\n",
       "0    WA    725,000  ...  3.0  0.00  3060 2021-05-26  0.227   \n",
       "1    WA    300,000  ...  2.0  1.00   920 2021-05-26  0.164   \n",
       "2    WA    555,000  ...  2.0  1.00  1196 2021-05-07  0.544   \n",
       "3    WA  1,300,000  ...  4.0  1.75  2850 2020-10-22  6.000   \n",
       "4    WA    250,000  ...  2.0  1.50  1200 2021-05-20  0.220   \n",
       "\n",
       "                   Source Lot Square Footage  Property Type SchoolDistric  \\\n",
       "0             king County             9894.0  Single Family   Federal Way   \n",
       "1          Public Records             7150.0  Single Family   Federal Way   \n",
       "2  Public Records, County            23689.0  Single Family   Federal Way   \n",
       "3                 Realist           261360.0  Single Family        Auburn   \n",
       "4           County Record             9600.0  Single Family   Federal Way   \n",
       "\n",
       "   Liv2  \n",
       "0  68.0  \n",
       "1  68.0  \n",
       "2  68.0  \n",
       "3  68.0  \n",
       "4  68.0  \n",
       "\n",
       "[5 rows x 21 columns]"
      ]
     },
     "execution_count": 2,
     "metadata": {},
     "output_type": "execute_result"
    }
   ],
   "source": [
    "data_df.head()"
   ]
  },
  {
   "cell_type": "code",
   "execution_count": 3,
   "metadata": {},
   "outputs": [
    {
     "name": "stdout",
     "output_type": "stream",
     "text": [
      "<class 'pandas.core.frame.DataFrame'>\n",
      "RangeIndex: 4190 entries, 0 to 4189\n",
      "Data columns (total 21 columns):\n",
      " #   Column              Non-Null Count  Dtype         \n",
      "---  ------              --------------  -----         \n",
      " 0   Id                  4188 non-null   float64       \n",
      " 1   MLS                 4188 non-null   float64       \n",
      " 2   Stat                4188 non-null   object        \n",
      " 3   Type                4188 non-null   object        \n",
      " 4   Address             4188 non-null   object        \n",
      " 5   ZipCode             4188 non-null   object        \n",
      " 6   City                4188 non-null   object        \n",
      " 7   City Code           4188 non-null   float64       \n",
      " 8   State               4188 non-null   object        \n",
      " 9   List/Sell           4183 non-null   object        \n",
      " 10  Days on Market      4188 non-null   float64       \n",
      " 11  Bds                 4188 non-null   float64       \n",
      " 12  Bths                4169 non-null   float64       \n",
      " 13  SF                  4155 non-null   object        \n",
      " 14  Start Date          4188 non-null   datetime64[ns]\n",
      " 15  Acres               4188 non-null   float64       \n",
      " 16  Source              4176 non-null   object        \n",
      " 17  Lot Square Footage  4150 non-null   float64       \n",
      " 18  Property Type       4150 non-null   object        \n",
      " 19  SchoolDistric       4188 non-null   object        \n",
      " 20  Liv2                4188 non-null   float64       \n",
      "dtypes: datetime64[ns](1), float64(9), object(11)\n",
      "memory usage: 687.5+ KB\n"
     ]
    }
   ],
   "source": [
    "data_df.info()"
   ]
  },
  {
   "cell_type": "code",
   "execution_count": 4,
   "metadata": {},
   "outputs": [
    {
     "data": {
      "text/plain": [
       "array(['Auburn', 'Federal Way', 'Algona', 'Kirkland', 'Redmond',\n",
       "       'Maple Valley', 'Medina', 'Mercer Island', 'Kent', 'Covington',\n",
       "       'Des Moines', 'Bellevue', 'North Bend', 'Yarrow Point', 'Pacific',\n",
       "       'Clyde Hill', 'Preston', 'Issaquah', 'Ravensdale', 'Beaux Arts',\n",
       "       'Renton', 'Newcastle', 'Snoqualmie', 'Vashon', 'Woodinville',\n",
       "       'Sammamish', 'Seattle', 'Lake Forest Park', 'Black Diamond',\n",
       "       'Shoreline', 'Bothell', 'Burien', 'Normandy Park', 'SeaTac',\n",
       "       'Tukwila', 'Baring', 'Gold Bar', 'Skykomish', 'Milton',\n",
       "       'Carnation', 'Duvall', 'Kenmore', 'Enumclaw', 'Fall City',\n",
       "       'Hobart', nan], dtype=object)"
      ]
     },
     "execution_count": 4,
     "metadata": {},
     "output_type": "execute_result"
    }
   ],
   "source": [
    "data_df['City'].unique()\n"
   ]
  },
  {
   "cell_type": "code",
   "execution_count": 5,
   "metadata": {},
   "outputs": [
    {
     "data": {
      "text/plain": [
       "array(['WA', nan], dtype=object)"
      ]
     },
     "execution_count": 5,
     "metadata": {},
     "output_type": "execute_result"
    }
   ],
   "source": [
    "data_df['State'].unique() # to check if there are other states\n"
   ]
  },
  {
   "cell_type": "code",
   "execution_count": 6,
   "metadata": {},
   "outputs": [],
   "source": [
    "state=data_df.loc[data_df['State']!='WA']"
   ]
  },
  {
   "cell_type": "code",
   "execution_count": 7,
   "metadata": {},
   "outputs": [
    {
     "data": {
      "text/html": [
       "<div>\n",
       "<style scoped>\n",
       "    .dataframe tbody tr th:only-of-type {\n",
       "        vertical-align: middle;\n",
       "    }\n",
       "\n",
       "    .dataframe tbody tr th {\n",
       "        vertical-align: top;\n",
       "    }\n",
       "\n",
       "    .dataframe thead th {\n",
       "        text-align: right;\n",
       "    }\n",
       "</style>\n",
       "<table border=\"1\" class=\"dataframe\">\n",
       "  <thead>\n",
       "    <tr style=\"text-align: right;\">\n",
       "      <th></th>\n",
       "      <th>Id</th>\n",
       "      <th>MLS</th>\n",
       "      <th>Stat</th>\n",
       "      <th>Type</th>\n",
       "      <th>Address</th>\n",
       "      <th>ZipCode</th>\n",
       "      <th>City</th>\n",
       "      <th>City Code</th>\n",
       "      <th>State</th>\n",
       "      <th>List/Sell</th>\n",
       "      <th>...</th>\n",
       "      <th>Bds</th>\n",
       "      <th>Bths</th>\n",
       "      <th>SF</th>\n",
       "      <th>Start Date</th>\n",
       "      <th>Acres</th>\n",
       "      <th>Source</th>\n",
       "      <th>Lot Square Footage</th>\n",
       "      <th>Property Type</th>\n",
       "      <th>SchoolDistric</th>\n",
       "      <th>Liv2</th>\n",
       "    </tr>\n",
       "  </thead>\n",
       "  <tbody>\n",
       "    <tr>\n",
       "      <th>4188</th>\n",
       "      <td>NaN</td>\n",
       "      <td>NaN</td>\n",
       "      <td>NaN</td>\n",
       "      <td>NaN</td>\n",
       "      <td>NaN</td>\n",
       "      <td>NaN</td>\n",
       "      <td>NaN</td>\n",
       "      <td>NaN</td>\n",
       "      <td>NaN</td>\n",
       "      <td>NaN</td>\n",
       "      <td>...</td>\n",
       "      <td>NaN</td>\n",
       "      <td>NaN</td>\n",
       "      <td>NaN</td>\n",
       "      <td>NaT</td>\n",
       "      <td>NaN</td>\n",
       "      <td>NaN</td>\n",
       "      <td>NaN</td>\n",
       "      <td>NaN</td>\n",
       "      <td>NaN</td>\n",
       "      <td>NaN</td>\n",
       "    </tr>\n",
       "    <tr>\n",
       "      <th>4189</th>\n",
       "      <td>NaN</td>\n",
       "      <td>NaN</td>\n",
       "      <td>NaN</td>\n",
       "      <td>NaN</td>\n",
       "      <td>NaN</td>\n",
       "      <td>NaN</td>\n",
       "      <td>NaN</td>\n",
       "      <td>NaN</td>\n",
       "      <td>NaN</td>\n",
       "      <td>27,500,000</td>\n",
       "      <td>...</td>\n",
       "      <td>NaN</td>\n",
       "      <td>NaN</td>\n",
       "      <td>NaN</td>\n",
       "      <td>NaT</td>\n",
       "      <td>NaN</td>\n",
       "      <td>NaN</td>\n",
       "      <td>NaN</td>\n",
       "      <td>NaN</td>\n",
       "      <td>NaN</td>\n",
       "      <td>NaN</td>\n",
       "    </tr>\n",
       "  </tbody>\n",
       "</table>\n",
       "<p>2 rows × 21 columns</p>\n",
       "</div>"
      ],
      "text/plain": [
       "      Id  MLS Stat Type Address ZipCode City  City Code State   List/Sell  \\\n",
       "4188 NaN  NaN  NaN  NaN     NaN     NaN  NaN        NaN   NaN         NaN   \n",
       "4189 NaN  NaN  NaN  NaN     NaN     NaN  NaN        NaN   NaN  27,500,000   \n",
       "\n",
       "      ...  Bds  Bths   SF Start Date Acres  Source Lot Square Footage  \\\n",
       "4188  ...  NaN   NaN  NaN        NaT   NaN     NaN                NaN   \n",
       "4189  ...  NaN   NaN  NaN        NaT   NaN     NaN                NaN   \n",
       "\n",
       "      Property Type SchoolDistric Liv2  \n",
       "4188            NaN           NaN  NaN  \n",
       "4189            NaN           NaN  NaN  \n",
       "\n",
       "[2 rows x 21 columns]"
      ]
     },
     "execution_count": 7,
     "metadata": {},
     "output_type": "execute_result"
    }
   ],
   "source": [
    "state.head()"
   ]
  },
  {
   "cell_type": "code",
   "execution_count": 8,
   "metadata": {},
   "outputs": [],
   "source": [
    "# there are 2 rows with nan values and these can be dropped\n",
    "\n",
    "data_df.dropna(axis=0, inplace =True)"
   ]
  },
  {
   "cell_type": "code",
   "execution_count": 9,
   "metadata": {},
   "outputs": [
    {
     "data": {
      "text/plain": [
       "Id                    0\n",
       "MLS                   0\n",
       "Stat                  0\n",
       "Type                  0\n",
       "Address               0\n",
       "ZipCode               0\n",
       "City                  0\n",
       "City Code             0\n",
       "State                 0\n",
       "List/Sell             0\n",
       "Days on Market        0\n",
       "Bds                   0\n",
       "Bths                  0\n",
       "SF                    0\n",
       "Start Date            0\n",
       "Acres                 0\n",
       "Source                0\n",
       "Lot Square Footage    0\n",
       "Property Type         0\n",
       "SchoolDistric         0\n",
       "Liv2                  0\n",
       "dtype: int64"
      ]
     },
     "execution_count": 9,
     "metadata": {},
     "output_type": "execute_result"
    }
   ],
   "source": [
    "# state=data_df.loc[data_df['State']!='WA']\n",
    "data_df.isnull().sum() # no nan values"
   ]
  },
  {
   "cell_type": "code",
   "execution_count": 10,
   "metadata": {},
   "outputs": [],
   "source": [
    "data=data_df.drop(columns=['MLS','Address','City Code','SchoolDistric','Source']) #dropped these columns as it doesnot impact the model "
   ]
  },
  {
   "cell_type": "code",
   "execution_count": 11,
   "metadata": {},
   "outputs": [
    {
     "name": "stdout",
     "output_type": "stream",
     "text": [
      "<class 'pandas.core.frame.DataFrame'>\n",
      "Int64Index: 4128 entries, 0 to 4187\n",
      "Data columns (total 16 columns):\n",
      " #   Column              Non-Null Count  Dtype         \n",
      "---  ------              --------------  -----         \n",
      " 0   Id                  4128 non-null   float64       \n",
      " 1   Stat                4128 non-null   object        \n",
      " 2   Type                4128 non-null   object        \n",
      " 3   ZipCode             4128 non-null   object        \n",
      " 4   City                4128 non-null   object        \n",
      " 5   State               4128 non-null   object        \n",
      " 6   List/Sell           4128 non-null   object        \n",
      " 7   Days on Market      4128 non-null   float64       \n",
      " 8   Bds                 4128 non-null   float64       \n",
      " 9   Bths                4128 non-null   float64       \n",
      " 10  SF                  4128 non-null   object        \n",
      " 11  Start Date          4128 non-null   datetime64[ns]\n",
      " 12  Acres               4128 non-null   float64       \n",
      " 13  Lot Square Footage  4128 non-null   float64       \n",
      " 14  Property Type       4128 non-null   object        \n",
      " 15  Liv2                4128 non-null   float64       \n",
      "dtypes: datetime64[ns](1), float64(7), object(8)\n",
      "memory usage: 548.2+ KB\n"
     ]
    }
   ],
   "source": [
    "data.info()"
   ]
  },
  {
   "cell_type": "code",
   "execution_count": 12,
   "metadata": {},
   "outputs": [
    {
     "data": {
      "text/html": [
       "<div>\n",
       "<style scoped>\n",
       "    .dataframe tbody tr th:only-of-type {\n",
       "        vertical-align: middle;\n",
       "    }\n",
       "\n",
       "    .dataframe tbody tr th {\n",
       "        vertical-align: top;\n",
       "    }\n",
       "\n",
       "    .dataframe thead th {\n",
       "        text-align: right;\n",
       "    }\n",
       "</style>\n",
       "<table border=\"1\" class=\"dataframe\">\n",
       "  <thead>\n",
       "    <tr style=\"text-align: right;\">\n",
       "      <th></th>\n",
       "      <th>Id</th>\n",
       "      <th>Stat</th>\n",
       "      <th>Type</th>\n",
       "      <th>ZipCode</th>\n",
       "      <th>City</th>\n",
       "      <th>State</th>\n",
       "      <th>List/Sell</th>\n",
       "      <th>Days on Market</th>\n",
       "      <th>Bds</th>\n",
       "      <th>Bths</th>\n",
       "      <th>SF</th>\n",
       "      <th>Start Date</th>\n",
       "      <th>Acres</th>\n",
       "      <th>Lot Square Footage</th>\n",
       "      <th>Property Type</th>\n",
       "      <th>Liv2</th>\n",
       "    </tr>\n",
       "  </thead>\n",
       "  <tbody>\n",
       "    <tr>\n",
       "      <th>0</th>\n",
       "      <td>1.0</td>\n",
       "      <td>A</td>\n",
       "      <td>RESI</td>\n",
       "      <td>98001</td>\n",
       "      <td>Auburn</td>\n",
       "      <td>WA</td>\n",
       "      <td>725,000</td>\n",
       "      <td>4.0</td>\n",
       "      <td>3.0</td>\n",
       "      <td>0.00</td>\n",
       "      <td>3060</td>\n",
       "      <td>2021-05-26</td>\n",
       "      <td>0.227</td>\n",
       "      <td>9894.0</td>\n",
       "      <td>Single Family</td>\n",
       "      <td>68.0</td>\n",
       "    </tr>\n",
       "    <tr>\n",
       "      <th>1</th>\n",
       "      <td>2.0</td>\n",
       "      <td>A</td>\n",
       "      <td>RESI</td>\n",
       "      <td>98001</td>\n",
       "      <td>Auburn</td>\n",
       "      <td>WA</td>\n",
       "      <td>300,000</td>\n",
       "      <td>4.0</td>\n",
       "      <td>2.0</td>\n",
       "      <td>1.00</td>\n",
       "      <td>920</td>\n",
       "      <td>2021-05-26</td>\n",
       "      <td>0.164</td>\n",
       "      <td>7150.0</td>\n",
       "      <td>Single Family</td>\n",
       "      <td>68.0</td>\n",
       "    </tr>\n",
       "    <tr>\n",
       "      <th>2</th>\n",
       "      <td>3.0</td>\n",
       "      <td>S</td>\n",
       "      <td>RESI</td>\n",
       "      <td>98001</td>\n",
       "      <td>Auburn</td>\n",
       "      <td>WA</td>\n",
       "      <td>555,000</td>\n",
       "      <td>3.0</td>\n",
       "      <td>2.0</td>\n",
       "      <td>1.00</td>\n",
       "      <td>1196</td>\n",
       "      <td>2021-05-07</td>\n",
       "      <td>0.544</td>\n",
       "      <td>23689.0</td>\n",
       "      <td>Single Family</td>\n",
       "      <td>68.0</td>\n",
       "    </tr>\n",
       "    <tr>\n",
       "      <th>3</th>\n",
       "      <td>4.0</td>\n",
       "      <td>A</td>\n",
       "      <td>RESI</td>\n",
       "      <td>98001</td>\n",
       "      <td>Auburn</td>\n",
       "      <td>WA</td>\n",
       "      <td>1,300,000</td>\n",
       "      <td>220.0</td>\n",
       "      <td>4.0</td>\n",
       "      <td>1.75</td>\n",
       "      <td>2850</td>\n",
       "      <td>2020-10-22</td>\n",
       "      <td>6.000</td>\n",
       "      <td>261360.0</td>\n",
       "      <td>Single Family</td>\n",
       "      <td>68.0</td>\n",
       "    </tr>\n",
       "    <tr>\n",
       "      <th>4</th>\n",
       "      <td>5.0</td>\n",
       "      <td>S</td>\n",
       "      <td>RESI</td>\n",
       "      <td>98001</td>\n",
       "      <td>Auburn</td>\n",
       "      <td>WA</td>\n",
       "      <td>250,000</td>\n",
       "      <td>46.0</td>\n",
       "      <td>2.0</td>\n",
       "      <td>1.50</td>\n",
       "      <td>1200</td>\n",
       "      <td>2021-05-20</td>\n",
       "      <td>0.220</td>\n",
       "      <td>9600.0</td>\n",
       "      <td>Single Family</td>\n",
       "      <td>68.0</td>\n",
       "    </tr>\n",
       "  </tbody>\n",
       "</table>\n",
       "</div>"
      ],
      "text/plain": [
       "    Id Stat  Type ZipCode    City State  List/Sell  Days on Market  Bds  Bths  \\\n",
       "0  1.0    A  RESI   98001  Auburn    WA    725,000             4.0  3.0  0.00   \n",
       "1  2.0    A  RESI   98001  Auburn    WA    300,000             4.0  2.0  1.00   \n",
       "2  3.0    S  RESI   98001  Auburn    WA    555,000             3.0  2.0  1.00   \n",
       "3  4.0    A  RESI   98001  Auburn    WA  1,300,000           220.0  4.0  1.75   \n",
       "4  5.0    S  RESI   98001  Auburn    WA    250,000            46.0  2.0  1.50   \n",
       "\n",
       "     SF Start Date  Acres  Lot Square Footage  Property Type  Liv2  \n",
       "0  3060 2021-05-26  0.227              9894.0  Single Family  68.0  \n",
       "1   920 2021-05-26  0.164              7150.0  Single Family  68.0  \n",
       "2  1196 2021-05-07  0.544             23689.0  Single Family  68.0  \n",
       "3  2850 2020-10-22  6.000            261360.0  Single Family  68.0  \n",
       "4  1200 2021-05-20  0.220              9600.0  Single Family  68.0  "
      ]
     },
     "execution_count": 12,
     "metadata": {},
     "output_type": "execute_result"
    }
   ],
   "source": [
    "data.head()"
   ]
  },
  {
   "cell_type": "code",
   "execution_count": 13,
   "metadata": {},
   "outputs": [
    {
     "data": {
      "text/plain": [
       "array(['RESI'], dtype=object)"
      ]
     },
     "execution_count": 13,
     "metadata": {},
     "output_type": "execute_result"
    }
   ],
   "source": [
    "data['Type'].unique()"
   ]
  },
  {
   "cell_type": "code",
   "execution_count": 14,
   "metadata": {},
   "outputs": [
    {
     "data": {
      "text/plain": [
       "array(['Single Family'], dtype=object)"
      ]
     },
     "execution_count": 14,
     "metadata": {},
     "output_type": "execute_result"
    }
   ],
   "source": [
    "data['Property Type'].unique()"
   ]
  },
  {
   "cell_type": "code",
   "execution_count": 15,
   "metadata": {},
   "outputs": [],
   "source": [
    "# Since both Type and Property type have only value, we can drop these columns too!!\n",
    "data=data.drop(columns=['Property Type','Type','State', 'Id'])"
   ]
  },
  {
   "cell_type": "code",
   "execution_count": 16,
   "metadata": {},
   "outputs": [
    {
     "data": {
      "text/html": [
       "<div>\n",
       "<style scoped>\n",
       "    .dataframe tbody tr th:only-of-type {\n",
       "        vertical-align: middle;\n",
       "    }\n",
       "\n",
       "    .dataframe tbody tr th {\n",
       "        vertical-align: top;\n",
       "    }\n",
       "\n",
       "    .dataframe thead th {\n",
       "        text-align: right;\n",
       "    }\n",
       "</style>\n",
       "<table border=\"1\" class=\"dataframe\">\n",
       "  <thead>\n",
       "    <tr style=\"text-align: right;\">\n",
       "      <th></th>\n",
       "      <th>Stat</th>\n",
       "      <th>ZipCode</th>\n",
       "      <th>City</th>\n",
       "      <th>List/Sell</th>\n",
       "      <th>Days on Market</th>\n",
       "      <th>Bds</th>\n",
       "      <th>Bths</th>\n",
       "      <th>SF</th>\n",
       "      <th>Start Date</th>\n",
       "      <th>Acres</th>\n",
       "      <th>Lot Square Footage</th>\n",
       "      <th>Liv2</th>\n",
       "    </tr>\n",
       "  </thead>\n",
       "  <tbody>\n",
       "    <tr>\n",
       "      <th>0</th>\n",
       "      <td>A</td>\n",
       "      <td>98001</td>\n",
       "      <td>Auburn</td>\n",
       "      <td>725,000</td>\n",
       "      <td>4.0</td>\n",
       "      <td>3.0</td>\n",
       "      <td>0.00</td>\n",
       "      <td>3060</td>\n",
       "      <td>2021-05-26</td>\n",
       "      <td>0.227</td>\n",
       "      <td>9894.0</td>\n",
       "      <td>68.0</td>\n",
       "    </tr>\n",
       "    <tr>\n",
       "      <th>1</th>\n",
       "      <td>A</td>\n",
       "      <td>98001</td>\n",
       "      <td>Auburn</td>\n",
       "      <td>300,000</td>\n",
       "      <td>4.0</td>\n",
       "      <td>2.0</td>\n",
       "      <td>1.00</td>\n",
       "      <td>920</td>\n",
       "      <td>2021-05-26</td>\n",
       "      <td>0.164</td>\n",
       "      <td>7150.0</td>\n",
       "      <td>68.0</td>\n",
       "    </tr>\n",
       "    <tr>\n",
       "      <th>2</th>\n",
       "      <td>S</td>\n",
       "      <td>98001</td>\n",
       "      <td>Auburn</td>\n",
       "      <td>555,000</td>\n",
       "      <td>3.0</td>\n",
       "      <td>2.0</td>\n",
       "      <td>1.00</td>\n",
       "      <td>1196</td>\n",
       "      <td>2021-05-07</td>\n",
       "      <td>0.544</td>\n",
       "      <td>23689.0</td>\n",
       "      <td>68.0</td>\n",
       "    </tr>\n",
       "    <tr>\n",
       "      <th>3</th>\n",
       "      <td>A</td>\n",
       "      <td>98001</td>\n",
       "      <td>Auburn</td>\n",
       "      <td>1,300,000</td>\n",
       "      <td>220.0</td>\n",
       "      <td>4.0</td>\n",
       "      <td>1.75</td>\n",
       "      <td>2850</td>\n",
       "      <td>2020-10-22</td>\n",
       "      <td>6.000</td>\n",
       "      <td>261360.0</td>\n",
       "      <td>68.0</td>\n",
       "    </tr>\n",
       "    <tr>\n",
       "      <th>4</th>\n",
       "      <td>S</td>\n",
       "      <td>98001</td>\n",
       "      <td>Auburn</td>\n",
       "      <td>250,000</td>\n",
       "      <td>46.0</td>\n",
       "      <td>2.0</td>\n",
       "      <td>1.50</td>\n",
       "      <td>1200</td>\n",
       "      <td>2021-05-20</td>\n",
       "      <td>0.220</td>\n",
       "      <td>9600.0</td>\n",
       "      <td>68.0</td>\n",
       "    </tr>\n",
       "  </tbody>\n",
       "</table>\n",
       "</div>"
      ],
      "text/plain": [
       "  Stat ZipCode    City  List/Sell  Days on Market  Bds  Bths    SF Start Date  \\\n",
       "0    A   98001  Auburn    725,000             4.0  3.0  0.00  3060 2021-05-26   \n",
       "1    A   98001  Auburn    300,000             4.0  2.0  1.00   920 2021-05-26   \n",
       "2    S   98001  Auburn    555,000             3.0  2.0  1.00  1196 2021-05-07   \n",
       "3    A   98001  Auburn  1,300,000           220.0  4.0  1.75  2850 2020-10-22   \n",
       "4    S   98001  Auburn    250,000            46.0  2.0  1.50  1200 2021-05-20   \n",
       "\n",
       "   Acres  Lot Square Footage  Liv2  \n",
       "0  0.227              9894.0  68.0  \n",
       "1  0.164              7150.0  68.0  \n",
       "2  0.544             23689.0  68.0  \n",
       "3  6.000            261360.0  68.0  \n",
       "4  0.220              9600.0  68.0  "
      ]
     },
     "execution_count": 16,
     "metadata": {},
     "output_type": "execute_result"
    }
   ],
   "source": [
    "data.head()"
   ]
  },
  {
   "cell_type": "code",
   "execution_count": 17,
   "metadata": {},
   "outputs": [],
   "source": [
    "# data['List/Sell'].astype(str).astype(int) # this doesnot work since we have , in the value. We need to remove , from the price"
   ]
  },
  {
   "cell_type": "code",
   "execution_count": 18,
   "metadata": {},
   "outputs": [],
   "source": [
    "data['List/Sell']=data['List/Sell'].str.replace(\",\",\"\") # after removing comma change to int type\n"
   ]
  },
  {
   "cell_type": "code",
   "execution_count": 19,
   "metadata": {},
   "outputs": [],
   "source": [
    "data['List/Sell']=data['List/Sell'].astype('int')\n"
   ]
  },
  {
   "cell_type": "code",
   "execution_count": 20,
   "metadata": {},
   "outputs": [],
   "source": [
    "data['SF']=data['SF'].str.replace(\",\",\"\") # to remove comma from the values\n",
    "data['SF']=data['SF'].astype('int') # to change the dtype to int"
   ]
  },
  {
   "cell_type": "code",
   "execution_count": 21,
   "metadata": {},
   "outputs": [],
   "source": [
    "data['Stat']=data['Stat'].astype('str')\n",
    "data['City']=data['City'].astype('str')\n"
   ]
  },
  {
   "cell_type": "code",
   "execution_count": 22,
   "metadata": {},
   "outputs": [
    {
     "data": {
      "text/html": [
       "<div>\n",
       "<style scoped>\n",
       "    .dataframe tbody tr th:only-of-type {\n",
       "        vertical-align: middle;\n",
       "    }\n",
       "\n",
       "    .dataframe tbody tr th {\n",
       "        vertical-align: top;\n",
       "    }\n",
       "\n",
       "    .dataframe thead th {\n",
       "        text-align: right;\n",
       "    }\n",
       "</style>\n",
       "<table border=\"1\" class=\"dataframe\">\n",
       "  <thead>\n",
       "    <tr style=\"text-align: right;\">\n",
       "      <th></th>\n",
       "      <th>Stat</th>\n",
       "      <th>ZipCode</th>\n",
       "      <th>City</th>\n",
       "      <th>List/Sell</th>\n",
       "      <th>Days on Market</th>\n",
       "      <th>Bds</th>\n",
       "      <th>Bths</th>\n",
       "      <th>SF</th>\n",
       "      <th>Start Date</th>\n",
       "      <th>Acres</th>\n",
       "      <th>Lot Square Footage</th>\n",
       "      <th>Liv2</th>\n",
       "    </tr>\n",
       "  </thead>\n",
       "  <tbody>\n",
       "    <tr>\n",
       "      <th>1203</th>\n",
       "      <td>A</td>\n",
       "      <td>98074</td>\n",
       "      <td>Sammamish</td>\n",
       "      <td>2299000</td>\n",
       "      <td>17.0</td>\n",
       "      <td>4.0</td>\n",
       "      <td>3.25</td>\n",
       "      <td>4440</td>\n",
       "      <td>2021-05-13</td>\n",
       "      <td>2.797</td>\n",
       "      <td>121844.0</td>\n",
       "      <td>86.0</td>\n",
       "    </tr>\n",
       "    <tr>\n",
       "      <th>1204</th>\n",
       "      <td>S</td>\n",
       "      <td>N 98074</td>\n",
       "      <td>Sammamish</td>\n",
       "      <td>1106632</td>\n",
       "      <td>3.0</td>\n",
       "      <td>4.0</td>\n",
       "      <td>3.25</td>\n",
       "      <td>2801</td>\n",
       "      <td>2021-05-12</td>\n",
       "      <td>0.117</td>\n",
       "      <td>5101.0</td>\n",
       "      <td>86.0</td>\n",
       "    </tr>\n",
       "  </tbody>\n",
       "</table>\n",
       "</div>"
      ],
      "text/plain": [
       "     Stat  ZipCode       City  List/Sell  Days on Market  Bds  Bths    SF  \\\n",
       "1203    A    98074  Sammamish    2299000            17.0  4.0  3.25  4440   \n",
       "1204    S  N 98074  Sammamish    1106632             3.0  4.0  3.25  2801   \n",
       "\n",
       "     Start Date  Acres  Lot Square Footage  Liv2  \n",
       "1203 2021-05-13  2.797            121844.0  86.0  \n",
       "1204 2021-05-12  0.117              5101.0  86.0  "
      ]
     },
     "execution_count": 22,
     "metadata": {},
     "output_type": "execute_result"
    }
   ],
   "source": [
    "data.iloc[1197:1199,:] # to locate the error where ZipCode has N"
   ]
  },
  {
   "cell_type": "code",
   "execution_count": 23,
   "metadata": {},
   "outputs": [
    {
     "data": {
      "text/html": [
       "<div>\n",
       "<style scoped>\n",
       "    .dataframe tbody tr th:only-of-type {\n",
       "        vertical-align: middle;\n",
       "    }\n",
       "\n",
       "    .dataframe tbody tr th {\n",
       "        vertical-align: top;\n",
       "    }\n",
       "\n",
       "    .dataframe thead th {\n",
       "        text-align: right;\n",
       "    }\n",
       "</style>\n",
       "<table border=\"1\" class=\"dataframe\">\n",
       "  <thead>\n",
       "    <tr style=\"text-align: right;\">\n",
       "      <th></th>\n",
       "      <th>Stat</th>\n",
       "      <th>ZipCode</th>\n",
       "      <th>City</th>\n",
       "      <th>List/Sell</th>\n",
       "      <th>Days on Market</th>\n",
       "      <th>Bds</th>\n",
       "      <th>Bths</th>\n",
       "      <th>SF</th>\n",
       "      <th>Start Date</th>\n",
       "      <th>Acres</th>\n",
       "      <th>Lot Square Footage</th>\n",
       "      <th>Liv2</th>\n",
       "    </tr>\n",
       "  </thead>\n",
       "  <tbody>\n",
       "    <tr>\n",
       "      <th>1203</th>\n",
       "      <td>A</td>\n",
       "      <td>98074</td>\n",
       "      <td>Sammamish</td>\n",
       "      <td>2299000</td>\n",
       "      <td>17.0</td>\n",
       "      <td>4.0</td>\n",
       "      <td>3.25</td>\n",
       "      <td>4440</td>\n",
       "      <td>2021-05-13</td>\n",
       "      <td>2.797</td>\n",
       "      <td>121844.0</td>\n",
       "      <td>86.0</td>\n",
       "    </tr>\n",
       "    <tr>\n",
       "      <th>1204</th>\n",
       "      <td>S</td>\n",
       "      <td>98074</td>\n",
       "      <td>Sammamish</td>\n",
       "      <td>1106632</td>\n",
       "      <td>3.0</td>\n",
       "      <td>4.0</td>\n",
       "      <td>3.25</td>\n",
       "      <td>2801</td>\n",
       "      <td>2021-05-12</td>\n",
       "      <td>0.117</td>\n",
       "      <td>5101.0</td>\n",
       "      <td>86.0</td>\n",
       "    </tr>\n",
       "  </tbody>\n",
       "</table>\n",
       "</div>"
      ],
      "text/plain": [
       "     Stat ZipCode       City  List/Sell  Days on Market  Bds  Bths    SF  \\\n",
       "1203    A   98074  Sammamish    2299000            17.0  4.0  3.25  4440   \n",
       "1204    S   98074  Sammamish    1106632             3.0  4.0  3.25  2801   \n",
       "\n",
       "     Start Date  Acres  Lot Square Footage  Liv2  \n",
       "1203 2021-05-13  2.797            121844.0  86.0  \n",
       "1204 2021-05-12  0.117              5101.0  86.0  "
      ]
     },
     "execution_count": 23,
     "metadata": {},
     "output_type": "execute_result"
    }
   ],
   "source": [
    "data['ZipCode']=data['ZipCode'].str.replace(\"N\",\"\")\n",
    "data.iloc[1197:1199,:]\n"
   ]
  },
  {
   "cell_type": "code",
   "execution_count": 24,
   "metadata": {},
   "outputs": [],
   "source": [
    "data['ZipCode']=data['ZipCode'].astype('int')"
   ]
  },
  {
   "cell_type": "code",
   "execution_count": 25,
   "metadata": {},
   "outputs": [
    {
     "data": {
      "text/html": [
       "<div>\n",
       "<style scoped>\n",
       "    .dataframe tbody tr th:only-of-type {\n",
       "        vertical-align: middle;\n",
       "    }\n",
       "\n",
       "    .dataframe tbody tr th {\n",
       "        vertical-align: top;\n",
       "    }\n",
       "\n",
       "    .dataframe thead th {\n",
       "        text-align: right;\n",
       "    }\n",
       "</style>\n",
       "<table border=\"1\" class=\"dataframe\">\n",
       "  <thead>\n",
       "    <tr style=\"text-align: right;\">\n",
       "      <th></th>\n",
       "      <th>Stat</th>\n",
       "      <th>ZipCode</th>\n",
       "      <th>City</th>\n",
       "      <th>List/Sell</th>\n",
       "      <th>Days on Market</th>\n",
       "      <th>Bds</th>\n",
       "      <th>Bths</th>\n",
       "      <th>SF</th>\n",
       "      <th>Start Date</th>\n",
       "      <th>Acres</th>\n",
       "      <th>Lot Square Footage</th>\n",
       "      <th>Liv2</th>\n",
       "    </tr>\n",
       "  </thead>\n",
       "  <tbody>\n",
       "    <tr>\n",
       "      <th>0</th>\n",
       "      <td>A</td>\n",
       "      <td>98001</td>\n",
       "      <td>Auburn</td>\n",
       "      <td>725000</td>\n",
       "      <td>4.0</td>\n",
       "      <td>3.0</td>\n",
       "      <td>0.00</td>\n",
       "      <td>3060</td>\n",
       "      <td>2021-05-26</td>\n",
       "      <td>0.227</td>\n",
       "      <td>9894.0</td>\n",
       "      <td>68.0</td>\n",
       "    </tr>\n",
       "    <tr>\n",
       "      <th>1</th>\n",
       "      <td>A</td>\n",
       "      <td>98001</td>\n",
       "      <td>Auburn</td>\n",
       "      <td>300000</td>\n",
       "      <td>4.0</td>\n",
       "      <td>2.0</td>\n",
       "      <td>1.00</td>\n",
       "      <td>920</td>\n",
       "      <td>2021-05-26</td>\n",
       "      <td>0.164</td>\n",
       "      <td>7150.0</td>\n",
       "      <td>68.0</td>\n",
       "    </tr>\n",
       "    <tr>\n",
       "      <th>2</th>\n",
       "      <td>S</td>\n",
       "      <td>98001</td>\n",
       "      <td>Auburn</td>\n",
       "      <td>555000</td>\n",
       "      <td>3.0</td>\n",
       "      <td>2.0</td>\n",
       "      <td>1.00</td>\n",
       "      <td>1196</td>\n",
       "      <td>2021-05-07</td>\n",
       "      <td>0.544</td>\n",
       "      <td>23689.0</td>\n",
       "      <td>68.0</td>\n",
       "    </tr>\n",
       "    <tr>\n",
       "      <th>3</th>\n",
       "      <td>A</td>\n",
       "      <td>98001</td>\n",
       "      <td>Auburn</td>\n",
       "      <td>1300000</td>\n",
       "      <td>220.0</td>\n",
       "      <td>4.0</td>\n",
       "      <td>1.75</td>\n",
       "      <td>2850</td>\n",
       "      <td>2020-10-22</td>\n",
       "      <td>6.000</td>\n",
       "      <td>261360.0</td>\n",
       "      <td>68.0</td>\n",
       "    </tr>\n",
       "    <tr>\n",
       "      <th>4</th>\n",
       "      <td>S</td>\n",
       "      <td>98001</td>\n",
       "      <td>Auburn</td>\n",
       "      <td>250000</td>\n",
       "      <td>46.0</td>\n",
       "      <td>2.0</td>\n",
       "      <td>1.50</td>\n",
       "      <td>1200</td>\n",
       "      <td>2021-05-20</td>\n",
       "      <td>0.220</td>\n",
       "      <td>9600.0</td>\n",
       "      <td>68.0</td>\n",
       "    </tr>\n",
       "  </tbody>\n",
       "</table>\n",
       "</div>"
      ],
      "text/plain": [
       "  Stat  ZipCode    City  List/Sell  Days on Market  Bds  Bths    SF  \\\n",
       "0    A    98001  Auburn     725000             4.0  3.0  0.00  3060   \n",
       "1    A    98001  Auburn     300000             4.0  2.0  1.00   920   \n",
       "2    S    98001  Auburn     555000             3.0  2.0  1.00  1196   \n",
       "3    A    98001  Auburn    1300000           220.0  4.0  1.75  2850   \n",
       "4    S    98001  Auburn     250000            46.0  2.0  1.50  1200   \n",
       "\n",
       "  Start Date  Acres  Lot Square Footage  Liv2  \n",
       "0 2021-05-26  0.227              9894.0  68.0  \n",
       "1 2021-05-26  0.164              7150.0  68.0  \n",
       "2 2021-05-07  0.544             23689.0  68.0  \n",
       "3 2020-10-22  6.000            261360.0  68.0  \n",
       "4 2021-05-20  0.220              9600.0  68.0  "
      ]
     },
     "execution_count": 25,
     "metadata": {},
     "output_type": "execute_result"
    }
   ],
   "source": [
    "data.head()"
   ]
  },
  {
   "cell_type": "code",
   "execution_count": 26,
   "metadata": {},
   "outputs": [
    {
     "name": "stdout",
     "output_type": "stream",
     "text": [
      "<class 'pandas.core.frame.DataFrame'>\n",
      "Int64Index: 4128 entries, 0 to 4187\n",
      "Data columns (total 12 columns):\n",
      " #   Column              Non-Null Count  Dtype         \n",
      "---  ------              --------------  -----         \n",
      " 0   Stat                4128 non-null   object        \n",
      " 1   ZipCode             4128 non-null   int32         \n",
      " 2   City                4128 non-null   object        \n",
      " 3   List/Sell           4128 non-null   int32         \n",
      " 4   Days on Market      4128 non-null   float64       \n",
      " 5   Bds                 4128 non-null   float64       \n",
      " 6   Bths                4128 non-null   float64       \n",
      " 7   SF                  4128 non-null   int32         \n",
      " 8   Start Date          4128 non-null   datetime64[ns]\n",
      " 9   Acres               4128 non-null   float64       \n",
      " 10  Lot Square Footage  4128 non-null   float64       \n",
      " 11  Liv2                4128 non-null   float64       \n",
      "dtypes: datetime64[ns](1), float64(6), int32(3), object(2)\n",
      "memory usage: 370.9+ KB\n"
     ]
    }
   ],
   "source": [
    "data.info()"
   ]
  },
  {
   "cell_type": "code",
   "execution_count": 27,
   "metadata": {},
   "outputs": [
    {
     "name": "stderr",
     "output_type": "stream",
     "text": [
      "\n",
      "Bad key \"text.kerning_factor\" on line 4 in\n",
      "C:\\Users\\Joanne\\anaconda3\\envs\\dev\\lib\\site-packages\\matplotlib\\mpl-data\\stylelib\\_classic_test_patch.mplstyle.\n",
      "You probably need to get an updated matplotlibrc file from\n",
      "http://github.com/matplotlib/matplotlib/blob/master/matplotlibrc.template\n",
      "or from the matplotlib source distribution\n"
     ]
    }
   ],
   "source": [
    "import matplotlib.pyplot as plt\n",
    "%matplotlib inline\n",
    "import seaborn as sns\n",
    "import numpy as np"
   ]
  },
  {
   "cell_type": "code",
   "execution_count": 28,
   "metadata": {},
   "outputs": [
    {
     "data": {
      "text/plain": [
       "['Stat',\n",
       " 'ZipCode',\n",
       " 'City',\n",
       " 'List/Sell',\n",
       " 'Days on Market',\n",
       " 'Bds',\n",
       " 'Bths',\n",
       " 'SF',\n",
       " 'Start Date',\n",
       " 'Acres',\n",
       " 'Lot Square Footage',\n",
       " 'Liv2']"
      ]
     },
     "execution_count": 28,
     "metadata": {},
     "output_type": "execute_result"
    }
   ],
   "source": [
    "columns=list(data.columns)\n",
    "columns"
   ]
  },
  {
   "cell_type": "code",
   "execution_count": 29,
   "metadata": {},
   "outputs": [],
   "source": [
    "columns_new=['Status','ZipCode','City','Price','Days_on_market','Beds','Baths','Sqft','Date','Acres','Lot_sqft','Liv_index']\n",
    "data.columns=columns_new"
   ]
  },
  {
   "cell_type": "code",
   "execution_count": 30,
   "metadata": {},
   "outputs": [
    {
     "data": {
      "text/html": [
       "<div>\n",
       "<style scoped>\n",
       "    .dataframe tbody tr th:only-of-type {\n",
       "        vertical-align: middle;\n",
       "    }\n",
       "\n",
       "    .dataframe tbody tr th {\n",
       "        vertical-align: top;\n",
       "    }\n",
       "\n",
       "    .dataframe thead th {\n",
       "        text-align: right;\n",
       "    }\n",
       "</style>\n",
       "<table border=\"1\" class=\"dataframe\">\n",
       "  <thead>\n",
       "    <tr style=\"text-align: right;\">\n",
       "      <th></th>\n",
       "      <th>Status</th>\n",
       "      <th>ZipCode</th>\n",
       "      <th>City</th>\n",
       "      <th>Price</th>\n",
       "      <th>Days_on_market</th>\n",
       "      <th>Beds</th>\n",
       "      <th>Baths</th>\n",
       "      <th>Sqft</th>\n",
       "      <th>Date</th>\n",
       "      <th>Acres</th>\n",
       "      <th>Lot_sqft</th>\n",
       "      <th>Liv_index</th>\n",
       "    </tr>\n",
       "  </thead>\n",
       "  <tbody>\n",
       "    <tr>\n",
       "      <th>0</th>\n",
       "      <td>A</td>\n",
       "      <td>98001</td>\n",
       "      <td>Auburn</td>\n",
       "      <td>725000</td>\n",
       "      <td>4.0</td>\n",
       "      <td>3.0</td>\n",
       "      <td>0.00</td>\n",
       "      <td>3060</td>\n",
       "      <td>2021-05-26</td>\n",
       "      <td>0.227</td>\n",
       "      <td>9894.0</td>\n",
       "      <td>68.0</td>\n",
       "    </tr>\n",
       "    <tr>\n",
       "      <th>1</th>\n",
       "      <td>A</td>\n",
       "      <td>98001</td>\n",
       "      <td>Auburn</td>\n",
       "      <td>300000</td>\n",
       "      <td>4.0</td>\n",
       "      <td>2.0</td>\n",
       "      <td>1.00</td>\n",
       "      <td>920</td>\n",
       "      <td>2021-05-26</td>\n",
       "      <td>0.164</td>\n",
       "      <td>7150.0</td>\n",
       "      <td>68.0</td>\n",
       "    </tr>\n",
       "    <tr>\n",
       "      <th>2</th>\n",
       "      <td>S</td>\n",
       "      <td>98001</td>\n",
       "      <td>Auburn</td>\n",
       "      <td>555000</td>\n",
       "      <td>3.0</td>\n",
       "      <td>2.0</td>\n",
       "      <td>1.00</td>\n",
       "      <td>1196</td>\n",
       "      <td>2021-05-07</td>\n",
       "      <td>0.544</td>\n",
       "      <td>23689.0</td>\n",
       "      <td>68.0</td>\n",
       "    </tr>\n",
       "    <tr>\n",
       "      <th>3</th>\n",
       "      <td>A</td>\n",
       "      <td>98001</td>\n",
       "      <td>Auburn</td>\n",
       "      <td>1300000</td>\n",
       "      <td>220.0</td>\n",
       "      <td>4.0</td>\n",
       "      <td>1.75</td>\n",
       "      <td>2850</td>\n",
       "      <td>2020-10-22</td>\n",
       "      <td>6.000</td>\n",
       "      <td>261360.0</td>\n",
       "      <td>68.0</td>\n",
       "    </tr>\n",
       "    <tr>\n",
       "      <th>4</th>\n",
       "      <td>S</td>\n",
       "      <td>98001</td>\n",
       "      <td>Auburn</td>\n",
       "      <td>250000</td>\n",
       "      <td>46.0</td>\n",
       "      <td>2.0</td>\n",
       "      <td>1.50</td>\n",
       "      <td>1200</td>\n",
       "      <td>2021-05-20</td>\n",
       "      <td>0.220</td>\n",
       "      <td>9600.0</td>\n",
       "      <td>68.0</td>\n",
       "    </tr>\n",
       "  </tbody>\n",
       "</table>\n",
       "</div>"
      ],
      "text/plain": [
       "  Status  ZipCode    City    Price  Days_on_market  Beds  Baths  Sqft  \\\n",
       "0      A    98001  Auburn   725000             4.0   3.0   0.00  3060   \n",
       "1      A    98001  Auburn   300000             4.0   2.0   1.00   920   \n",
       "2      S    98001  Auburn   555000             3.0   2.0   1.00  1196   \n",
       "3      A    98001  Auburn  1300000           220.0   4.0   1.75  2850   \n",
       "4      S    98001  Auburn   250000            46.0   2.0   1.50  1200   \n",
       "\n",
       "        Date  Acres  Lot_sqft  Liv_index  \n",
       "0 2021-05-26  0.227    9894.0       68.0  \n",
       "1 2021-05-26  0.164    7150.0       68.0  \n",
       "2 2021-05-07  0.544   23689.0       68.0  \n",
       "3 2020-10-22  6.000  261360.0       68.0  \n",
       "4 2021-05-20  0.220    9600.0       68.0  "
      ]
     },
     "execution_count": 30,
     "metadata": {},
     "output_type": "execute_result"
    }
   ],
   "source": [
    "data.head()"
   ]
  },
  {
   "cell_type": "markdown",
   "metadata": {},
   "source": [
    "### SNS Paired plot image saved"
   ]
  },
  {
   "cell_type": "code",
   "execution_count": 46,
   "metadata": {},
   "outputs": [],
   "source": [
    "#sns.pairplot(data,corner=True,height=3)"
   ]
  },
  {
   "cell_type": "code",
   "execution_count": 47,
   "metadata": {},
   "outputs": [
    {
     "data": {
      "text/html": [
       "<div>\n",
       "<style scoped>\n",
       "    .dataframe tbody tr th:only-of-type {\n",
       "        vertical-align: middle;\n",
       "    }\n",
       "\n",
       "    .dataframe tbody tr th {\n",
       "        vertical-align: top;\n",
       "    }\n",
       "\n",
       "    .dataframe thead th {\n",
       "        text-align: right;\n",
       "    }\n",
       "</style>\n",
       "<table border=\"1\" class=\"dataframe\">\n",
       "  <thead>\n",
       "    <tr style=\"text-align: right;\">\n",
       "      <th></th>\n",
       "      <th>ZipCode</th>\n",
       "      <th>Price</th>\n",
       "      <th>Days_on_market</th>\n",
       "      <th>Beds</th>\n",
       "      <th>Baths</th>\n",
       "      <th>Sqft</th>\n",
       "      <th>Acres</th>\n",
       "      <th>Lot_sqft</th>\n",
       "      <th>Liv_index</th>\n",
       "      <th>Liv_group</th>\n",
       "      <th>Days_group</th>\n",
       "    </tr>\n",
       "  </thead>\n",
       "  <tbody>\n",
       "    <tr>\n",
       "      <th>count</th>\n",
       "      <td>4128.000000</td>\n",
       "      <td>4.128000e+03</td>\n",
       "      <td>4128.000000</td>\n",
       "      <td>4128.000000</td>\n",
       "      <td>4128.000000</td>\n",
       "      <td>4128.000000</td>\n",
       "      <td>4128.000000</td>\n",
       "      <td>4.128000e+03</td>\n",
       "      <td>4128.000000</td>\n",
       "      <td>4128.000000</td>\n",
       "      <td>4128.000000</td>\n",
       "    </tr>\n",
       "    <tr>\n",
       "      <th>mean</th>\n",
       "      <td>98081.169331</td>\n",
       "      <td>1.171752e+06</td>\n",
       "      <td>21.060320</td>\n",
       "      <td>3.496366</td>\n",
       "      <td>2.392066</td>\n",
       "      <td>2354.452277</td>\n",
       "      <td>0.559676</td>\n",
       "      <td>2.437936e+04</td>\n",
       "      <td>71.022045</td>\n",
       "      <td>66.424419</td>\n",
       "      <td>19.246609</td>\n",
       "    </tr>\n",
       "    <tr>\n",
       "      <th>std</th>\n",
       "      <td>51.551933</td>\n",
       "      <td>1.229190e+06</td>\n",
       "      <td>58.484313</td>\n",
       "      <td>1.043278</td>\n",
       "      <td>0.933890</td>\n",
       "      <td>1270.201494</td>\n",
       "      <td>2.762843</td>\n",
       "      <td>1.203497e+05</td>\n",
       "      <td>8.386256</td>\n",
       "      <td>8.728526</td>\n",
       "      <td>58.455729</td>\n",
       "    </tr>\n",
       "    <tr>\n",
       "      <th>min</th>\n",
       "      <td>98001.000000</td>\n",
       "      <td>1.390000e+05</td>\n",
       "      <td>0.000000</td>\n",
       "      <td>0.000000</td>\n",
       "      <td>0.000000</td>\n",
       "      <td>162.000000</td>\n",
       "      <td>0.000000</td>\n",
       "      <td>1.000000e+00</td>\n",
       "      <td>59.000000</td>\n",
       "      <td>50.000000</td>\n",
       "      <td>0.000000</td>\n",
       "    </tr>\n",
       "    <tr>\n",
       "      <th>25%</th>\n",
       "      <td>98034.000000</td>\n",
       "      <td>6.599900e+05</td>\n",
       "      <td>4.000000</td>\n",
       "      <td>3.000000</td>\n",
       "      <td>1.750000</td>\n",
       "      <td>1500.000000</td>\n",
       "      <td>0.098000</td>\n",
       "      <td>4.258750e+03</td>\n",
       "      <td>64.000000</td>\n",
       "      <td>60.000000</td>\n",
       "      <td>0.000000</td>\n",
       "    </tr>\n",
       "    <tr>\n",
       "      <th>50%</th>\n",
       "      <td>98077.000000</td>\n",
       "      <td>8.682225e+05</td>\n",
       "      <td>6.000000</td>\n",
       "      <td>3.000000</td>\n",
       "      <td>2.500000</td>\n",
       "      <td>2114.500000</td>\n",
       "      <td>0.165000</td>\n",
       "      <td>7.200000e+03</td>\n",
       "      <td>67.000000</td>\n",
       "      <td>60.000000</td>\n",
       "      <td>5.000000</td>\n",
       "    </tr>\n",
       "    <tr>\n",
       "      <th>75%</th>\n",
       "      <td>98118.000000</td>\n",
       "      <td>1.299238e+06</td>\n",
       "      <td>12.000000</td>\n",
       "      <td>4.000000</td>\n",
       "      <td>2.750000</td>\n",
       "      <td>2871.750000</td>\n",
       "      <td>0.251000</td>\n",
       "      <td>1.095050e+04</td>\n",
       "      <td>80.000000</td>\n",
       "      <td>80.000000</td>\n",
       "      <td>10.000000</td>\n",
       "    </tr>\n",
       "    <tr>\n",
       "      <th>max</th>\n",
       "      <td>98199.000000</td>\n",
       "      <td>2.750000e+07</td>\n",
       "      <td>966.000000</td>\n",
       "      <td>13.000000</td>\n",
       "      <td>11.700000</td>\n",
       "      <td>15360.000000</td>\n",
       "      <td>109.700000</td>\n",
       "      <td>4.778532e+06</td>\n",
       "      <td>86.000000</td>\n",
       "      <td>80.000000</td>\n",
       "      <td>965.000000</td>\n",
       "    </tr>\n",
       "  </tbody>\n",
       "</table>\n",
       "</div>"
      ],
      "text/plain": [
       "            ZipCode         Price  Days_on_market         Beds        Baths  \\\n",
       "count   4128.000000  4.128000e+03     4128.000000  4128.000000  4128.000000   \n",
       "mean   98081.169331  1.171752e+06       21.060320     3.496366     2.392066   \n",
       "std       51.551933  1.229190e+06       58.484313     1.043278     0.933890   \n",
       "min    98001.000000  1.390000e+05        0.000000     0.000000     0.000000   \n",
       "25%    98034.000000  6.599900e+05        4.000000     3.000000     1.750000   \n",
       "50%    98077.000000  8.682225e+05        6.000000     3.000000     2.500000   \n",
       "75%    98118.000000  1.299238e+06       12.000000     4.000000     2.750000   \n",
       "max    98199.000000  2.750000e+07      966.000000    13.000000    11.700000   \n",
       "\n",
       "               Sqft        Acres      Lot_sqft    Liv_index    Liv_group  \\\n",
       "count   4128.000000  4128.000000  4.128000e+03  4128.000000  4128.000000   \n",
       "mean    2354.452277     0.559676  2.437936e+04    71.022045    66.424419   \n",
       "std     1270.201494     2.762843  1.203497e+05     8.386256     8.728526   \n",
       "min      162.000000     0.000000  1.000000e+00    59.000000    50.000000   \n",
       "25%     1500.000000     0.098000  4.258750e+03    64.000000    60.000000   \n",
       "50%     2114.500000     0.165000  7.200000e+03    67.000000    60.000000   \n",
       "75%     2871.750000     0.251000  1.095050e+04    80.000000    80.000000   \n",
       "max    15360.000000   109.700000  4.778532e+06    86.000000    80.000000   \n",
       "\n",
       "        Days_group  \n",
       "count  4128.000000  \n",
       "mean     19.246609  \n",
       "std      58.455729  \n",
       "min       0.000000  \n",
       "25%       0.000000  \n",
       "50%       5.000000  \n",
       "75%      10.000000  \n",
       "max     965.000000  "
      ]
     },
     "execution_count": 47,
     "metadata": {},
     "output_type": "execute_result"
    }
   ],
   "source": [
    "data.describe()"
   ]
  },
  {
   "cell_type": "code",
   "execution_count": 48,
   "metadata": {},
   "outputs": [],
   "source": [
    "data['Status']=data['Status'].astype('str')\n",
    "data['City']=data['City'].astype('str')"
   ]
  },
  {
   "cell_type": "code",
   "execution_count": 49,
   "metadata": {},
   "outputs": [],
   "source": [
    "data.to_csv('cleaned_data.csv')"
   ]
  },
  {
   "cell_type": "code",
   "execution_count": 50,
   "metadata": {},
   "outputs": [
    {
     "data": {
      "image/png": "[encoded data removed]",
      "text/plain": [
       "<Figure size 432x288 with 1 Axes>"
      ]
     },
     "metadata": {
      "needs_background": "light"
     },
     "output_type": "display_data"
    }
   ],
   "source": [
    "data.groupby('Beds')['Price'].median().plot.bar()\n",
    "plt.xlabel('Beds')\n",
    "plt.ylabel('Price')\n",
    "plt.title('Beds')\n",
    "plt.show()"
   ]
  },
  {
   "cell_type": "code",
   "execution_count": 51,
   "metadata": {},
   "outputs": [
    {
     "data": {
      "text/plain": [
       "<matplotlib.axes._subplots.AxesSubplot at 0x1d1ee119d48>"
      ]
     },
     "execution_count": 51,
     "metadata": {},
     "output_type": "execute_result"
    },
    {
     "data": {
      "image/png": "[encoded data removed]",
      "text/plain": [
       "<Figure size 432x288 with 1 Axes>"
      ]
     },
     "metadata": {
      "needs_background": "light"
     },
     "output_type": "display_data"
    }
   ],
   "source": [
    "sns.histplot(data.Baths)"
   ]
  },
  {
   "cell_type": "code",
   "execution_count": 52,
   "metadata": {},
   "outputs": [
    {
     "data": {
      "text/plain": [
       "<matplotlib.axes._subplots.AxesSubplot at 0x1d1ee163d48>"
      ]
     },
     "execution_count": 52,
     "metadata": {},
     "output_type": "execute_result"
    },
    {
     "data": {
      "image/png": "[encoded data removed]",
      "text/plain": [
       "<Figure size 432x288 with 1 Axes>"
      ]
     },
     "metadata": {
      "needs_background": "light"
     },
     "output_type": "display_data"
    }
   ],
   "source": [
    "sns.histplot(data=data, x= 'Sqft', hue='Status')"
   ]
  },
  {
   "cell_type": "code",
   "execution_count": 53,
   "metadata": {},
   "outputs": [
    {
     "data": {
      "text/html": [
       "<div>\n",
       "<style scoped>\n",
       "    .dataframe tbody tr th:only-of-type {\n",
       "        vertical-align: middle;\n",
       "    }\n",
       "\n",
       "    .dataframe tbody tr th {\n",
       "        vertical-align: top;\n",
       "    }\n",
       "\n",
       "    .dataframe thead th {\n",
       "        text-align: right;\n",
       "    }\n",
       "</style>\n",
       "<table border=\"1\" class=\"dataframe\">\n",
       "  <thead>\n",
       "    <tr style=\"text-align: right;\">\n",
       "      <th></th>\n",
       "      <th>Status</th>\n",
       "      <th>ZipCode</th>\n",
       "      <th>City</th>\n",
       "      <th>Price</th>\n",
       "      <th>Days_on_market</th>\n",
       "      <th>Beds</th>\n",
       "      <th>Baths</th>\n",
       "      <th>Sqft</th>\n",
       "      <th>Date</th>\n",
       "      <th>Acres</th>\n",
       "      <th>Lot_sqft</th>\n",
       "      <th>Liv_index</th>\n",
       "      <th>Liv_group</th>\n",
       "      <th>Days_group</th>\n",
       "    </tr>\n",
       "  </thead>\n",
       "  <tbody>\n",
       "    <tr>\n",
       "      <th>0</th>\n",
       "      <td>A</td>\n",
       "      <td>98001</td>\n",
       "      <td>Auburn</td>\n",
       "      <td>725000</td>\n",
       "      <td>4.0</td>\n",
       "      <td>3.0</td>\n",
       "      <td>0.00</td>\n",
       "      <td>3060</td>\n",
       "      <td>2021-05-26</td>\n",
       "      <td>0.227</td>\n",
       "      <td>9894.0</td>\n",
       "      <td>68.0</td>\n",
       "      <td>60.0</td>\n",
       "      <td>0.0</td>\n",
       "    </tr>\n",
       "    <tr>\n",
       "      <th>1</th>\n",
       "      <td>A</td>\n",
       "      <td>98001</td>\n",
       "      <td>Auburn</td>\n",
       "      <td>300000</td>\n",
       "      <td>4.0</td>\n",
       "      <td>2.0</td>\n",
       "      <td>1.00</td>\n",
       "      <td>920</td>\n",
       "      <td>2021-05-26</td>\n",
       "      <td>0.164</td>\n",
       "      <td>7150.0</td>\n",
       "      <td>68.0</td>\n",
       "      <td>60.0</td>\n",
       "      <td>0.0</td>\n",
       "    </tr>\n",
       "    <tr>\n",
       "      <th>2</th>\n",
       "      <td>S</td>\n",
       "      <td>98001</td>\n",
       "      <td>Auburn</td>\n",
       "      <td>555000</td>\n",
       "      <td>3.0</td>\n",
       "      <td>2.0</td>\n",
       "      <td>1.00</td>\n",
       "      <td>1196</td>\n",
       "      <td>2021-05-07</td>\n",
       "      <td>0.544</td>\n",
       "      <td>23689.0</td>\n",
       "      <td>68.0</td>\n",
       "      <td>60.0</td>\n",
       "      <td>0.0</td>\n",
       "    </tr>\n",
       "    <tr>\n",
       "      <th>3</th>\n",
       "      <td>A</td>\n",
       "      <td>98001</td>\n",
       "      <td>Auburn</td>\n",
       "      <td>1300000</td>\n",
       "      <td>220.0</td>\n",
       "      <td>4.0</td>\n",
       "      <td>1.75</td>\n",
       "      <td>2850</td>\n",
       "      <td>2020-10-22</td>\n",
       "      <td>6.000</td>\n",
       "      <td>261360.0</td>\n",
       "      <td>68.0</td>\n",
       "      <td>60.0</td>\n",
       "      <td>220.0</td>\n",
       "    </tr>\n",
       "    <tr>\n",
       "      <th>4</th>\n",
       "      <td>S</td>\n",
       "      <td>98001</td>\n",
       "      <td>Auburn</td>\n",
       "      <td>250000</td>\n",
       "      <td>46.0</td>\n",
       "      <td>2.0</td>\n",
       "      <td>1.50</td>\n",
       "      <td>1200</td>\n",
       "      <td>2021-05-20</td>\n",
       "      <td>0.220</td>\n",
       "      <td>9600.0</td>\n",
       "      <td>68.0</td>\n",
       "      <td>60.0</td>\n",
       "      <td>45.0</td>\n",
       "    </tr>\n",
       "  </tbody>\n",
       "</table>\n",
       "</div>"
      ],
      "text/plain": [
       "  Status  ZipCode    City    Price  Days_on_market  Beds  Baths  Sqft  \\\n",
       "0      A    98001  Auburn   725000             4.0   3.0   0.00  3060   \n",
       "1      A    98001  Auburn   300000             4.0   2.0   1.00   920   \n",
       "2      S    98001  Auburn   555000             3.0   2.0   1.00  1196   \n",
       "3      A    98001  Auburn  1300000           220.0   4.0   1.75  2850   \n",
       "4      S    98001  Auburn   250000            46.0   2.0   1.50  1200   \n",
       "\n",
       "        Date  Acres  Lot_sqft  Liv_index  Liv_group  Days_group  \n",
       "0 2021-05-26  0.227    9894.0       68.0       60.0         0.0  \n",
       "1 2021-05-26  0.164    7150.0       68.0       60.0         0.0  \n",
       "2 2021-05-07  0.544   23689.0       68.0       60.0         0.0  \n",
       "3 2020-10-22  6.000  261360.0       68.0       60.0       220.0  \n",
       "4 2021-05-20  0.220    9600.0       68.0       60.0        45.0  "
      ]
     },
     "execution_count": 53,
     "metadata": {},
     "output_type": "execute_result"
    }
   ],
   "source": [
    "\n",
    "data['Liv_group']=[Liv_index//10*10 for Liv_index in data.Liv_index] # creating buckets for the liv_index\n",
    "data['Days_group']=[Days_on_market//5*5 for Days_on_market in data.Days_on_market]\n",
    "data.head()"
   ]
  },
  {
   "cell_type": "code",
   "execution_count": 54,
   "metadata": {},
   "outputs": [
    {
     "data": {
      "text/plain": [
       "<seaborn.axisgrid.FacetGrid at 0x1d1ee3cc948>"
      ]
     },
     "execution_count": 54,
     "metadata": {},
     "output_type": "execute_result"
    },
    {
     "data": {
      "image/png": "[encoded data removed]",
      "text/plain": [
       "<Figure size 906.875x216 with 4 Axes>"
      ]
     },
     "metadata": {
      "needs_background": "light"
     },
     "output_type": "display_data"
    }
   ],
   "source": [
    "g = sns.FacetGrid(data, col='Liv_group',hue='Status')\n",
    "g.map_dataframe(sns.scatterplot,y='Price',x='Sqft')\n",
    "g.set_axis_labels( 'Sqft','Price')\n",
    "g.add_legend()"
   ]
  },
  {
   "cell_type": "code",
   "execution_count": 55,
   "metadata": {},
   "outputs": [],
   "source": [
    "# from the plot we can see that the home listed are mainly in the 60 and 80 liviability index group. And as the livability index increases the pprice and sqft also increase."
   ]
  },
  {
   "cell_type": "code",
   "execution_count": 56,
   "metadata": {},
   "outputs": [
    {
     "data": {
      "text/plain": [
       "<seaborn.axisgrid.FacetGrid at 0x1d1ee338b48>"
      ]
     },
     "execution_count": 56,
     "metadata": {},
     "output_type": "execute_result"
    },
    {
     "data": {
      "image/png": "[encoded data removed]",
      "text/plain": [
       "<Figure size 982.875x216 with 4 Axes>"
      ]
     },
     "metadata": {
      "needs_background": "light"
     },
     "output_type": "display_data"
    }
   ],
   "source": [
    "g = sns.FacetGrid(data, col='Liv_group',hue='City',palette='rocket')\n",
    "g.map_dataframe(sns.scatterplot,y='Price',x='Sqft')\n",
    "g.set_axis_labels( 'Sqft','Price')\n",
    "g.add_legend()"
   ]
  },
  {
   "cell_type": "code",
   "execution_count": 57,
   "metadata": {},
   "outputs": [
    {
     "data": {
      "text/plain": [
       "<seaborn.axisgrid.FacetGrid at 0x1d1ef7a5b48>"
      ]
     },
     "execution_count": 57,
     "metadata": {},
     "output_type": "execute_result"
    },
    {
     "data": {
      "image/png": "[encoded data removed]",
      "text/plain": [
       "<Figure size 906.875x216 with 4 Axes>"
      ]
     },
     "metadata": {
      "needs_background": "light"
     },
     "output_type": "display_data"
    }
   ],
   "source": [
    "g = sns.FacetGrid(data, col='Liv_group',hue='Status',xlim=(0,800))\n",
    "g.map_dataframe(sns.scatterplot,y='Price',x='Days_on_market')\n",
    "g.set_axis_labels('Days_on_market','Price')\n",
    "g.add_legend()"
   ]
  },
  {
   "cell_type": "code",
   "execution_count": 58,
   "metadata": {},
   "outputs": [
    {
     "data": {
      "text/plain": [
       "<seaborn.axisgrid.FacetGrid at 0x1d1efc01348>"
      ]
     },
     "execution_count": 58,
     "metadata": {},
     "output_type": "execute_result"
    },
    {
     "data": {
      "image/png": "[encoded data removed]",
      "text/plain": [
       "<Figure size 906.875x216 with 4 Axes>"
      ]
     },
     "metadata": {
      "needs_background": "light"
     },
     "output_type": "display_data"
    }
   ],
   "source": [
    "g = sns.FacetGrid(data, col='Liv_group',hue='Status')\n",
    "g.map_dataframe(sns.scatterplot,x='Beds',y='Sqft')\n",
    "g.set_axis_labels('No of Beds', 'Sqft')\n",
    "g.add_legend()"
   ]
  },
  {
   "cell_type": "code",
   "execution_count": 59,
   "metadata": {},
   "outputs": [
    {
     "data": {
      "text/plain": [
       "<seaborn.axisgrid.FacetGrid at 0x1d1efdb3908>"
      ]
     },
     "execution_count": 59,
     "metadata": {},
     "output_type": "execute_result"
    },
    {
     "data": {
      "image/png": "[encoded data removed]",
      "text/plain": [
       "<Figure size 906.875x216 with 4 Axes>"
      ]
     },
     "metadata": {
      "needs_background": "light"
     },
     "output_type": "display_data"
    }
   ],
   "source": [
    "g = sns.FacetGrid(data, col='Liv_group',hue='Status')\n",
    "g.map_dataframe(sns.scatterplot,x='Baths',y='Sqft')\n",
    "g.set_axis_labels('No of Baths', 'Sqft')\n",
    "g.add_legend()"
   ]
  },
  {
   "cell_type": "code",
   "execution_count": 60,
   "metadata": {},
   "outputs": [
    {
     "data": {
      "text/plain": [
       "<seaborn.axisgrid.FacetGrid at 0x1d1eff20e88>"
      ]
     },
     "execution_count": 60,
     "metadata": {},
     "output_type": "execute_result"
    },
    {
     "data": {
      "image/png": "[encoded data removed]",
      "text/plain": [
       "<Figure size 906.875x216 with 4 Axes>"
      ]
     },
     "metadata": {
      "needs_background": "light"
     },
     "output_type": "display_data"
    }
   ],
   "source": [
    "g = sns.FacetGrid(data, col='Liv_group',hue='Status')\n",
    "g.map_dataframe(sns.scatterplot,x='Lot_sqft',y='Sqft')\n",
    "g.set_axis_labels('Lot_sqft', 'Sqft')\n",
    "g.add_legend()"
   ]
  },
  {
   "cell_type": "code",
   "execution_count": null,
   "metadata": {},
   "outputs": [],
   "source": []
  },
  {
   "cell_type": "code",
   "execution_count": null,
   "metadata": {},
   "outputs": [],
   "source": []
  }
 ],
 "metadata": {
  "kernelspec": {
   "display_name": "Python 3",
   "language": "python",
   "name": "python3"
  },
  "language_info": {
   "codemirror_mode": {
    "name": "ipython",
    "version": 3
   },
   "file_extension": ".py",
   "mimetype": "text/x-python",
   "name": "python",
   "nbconvert_exporter": "python",
   "pygments_lexer": "ipython3",
   "version": "3.7.9"
  }
 },
 "nbformat": 4,
 "nbformat_minor": 4
}
